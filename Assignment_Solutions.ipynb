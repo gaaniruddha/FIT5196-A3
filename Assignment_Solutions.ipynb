{
 "cells": [
  {
   "cell_type": "markdown",
   "metadata": {},
   "source": [
    "# FIT5196 Assessment 3\n",
    "#### Student Name: Gayatri Aniruddha\n",
    "#### Student ID: 30945305\n",
    "#### Student Email: gani0001@student.monash.edu\n",
    "\n",
    "Date: 18/11/2020\n",
    "\n",
    "Environment: Python 3 and Jupyter notebook"
   ]
  },
  {
   "cell_type": "markdown",
   "metadata": {},
   "source": [
    "# Table of Contents:\n",
    "* [1. Introduction](#sec_1)\n",
    "* [2. Methodology](#sec_2)\n",
    "    * [2.1 Task 1 : Data Integration : Part A: Reading Data](#sec_21)\n",
    "        * [2.1.1 Data : real_state.json ( Property Data 1)](#sec_211)\n",
    "        * [2.1.2 Data : real_state.xml ( Property Data 2)](#sec_212)\n",
    "        * [2.1.3 Data : shopingcenters.html ](#sec_213)\n",
    "        * [2.1.4 Data : supermarkets.pdf ](#sec_214)\n",
    "        * [2.1.5 Data : hospitals.xlsx](#sec_215)\n",
    "        * [2.1.6 Data : GTFS - Melbourne Train Information : Individual Text Files ](#sec_216)\n",
    "        * [2.1.7 Data : VIC Suburb Boundary](#sec_217)\n",
    "    * [2.2 Part B : Additional Computed Columns](#sec_22)\n",
    "        * [2.2.1 Distance_to_sc](#sec_221)\n",
    "        * [2.2.2 Shopping_center_id](#sec_222)\n",
    "        * [2.2.3 Distance_to_hospital](#sec_223)\n",
    "        * [2.2.4 Hospital_id](#sec_224)\n",
    "        * [2.2.5 Distance_to_supermarket](#sec_225)\n",
    "        * [2.2.6 Supermarket_id](#sec_226) \n",
    "        * [2.2.7 Transfer_flag](#sec_227) \n",
    "        * [2.2.8 Train_station_id, travel_min_to_CBD, Distance_to_train_station](#sec_228) \n",
    "    * [2.3 Task 2 : Data Reshaping](#sec_23) \n",
    "        * [2.3.1 Data Transformation :- Log, Power and Box-Cox](#sec_231) \n",
    "        * [2.3.2 Data Normalization :- Z Transform and Min-Max)](#sec_232) \n",
    "* [3. Dicussion and Analysis](#sec_3)\n",
    "* [4. Conclusion](#sec_4)\n",
    "* [5. References](#sec_5)"
   ]
  },
  {
   "cell_type": "markdown",
   "metadata": {},
   "source": [
    "# 1. Introduction <a class=\"anchor\" id=\"sec_1\"></a>\n",
    "\n",
    "* This assignment revolves around integrating several datasets into one standard form, calculating the different additional columns and performing data normalizations and data transformations!\n",
    "* We have been given 7 datasets and it's about the housing information in Victoria.\n",
    "\n",
    "### Assumptions\n",
    "* The following files are in the current directory:\n",
    "    * hospitals.xlsx\n",
    "    * real_state.json\n",
    "    * real_state.xml\n",
    "    * shopingcenters.html\n",
    "    * supermarkets.pdf\n",
    "    * Melbourne Train Information Files\n",
    "    * vic_suburb_boudary file\n"
   ]
  },
  {
   "cell_type": "markdown",
   "metadata": {},
   "source": [
    "# 2. Methodology <a class=\"anchor\" id=\"sec_2\"></a>"
   ]
  },
  {
   "cell_type": "markdown",
   "metadata": {},
   "source": [
    "### Importing Libraries"
   ]
  },
  {
   "cell_type": "code",
   "execution_count": 1,
   "metadata": {},
   "outputs": [],
   "source": [
    "# Handling Dataframes \n",
    "import pandas as pd\n",
    "\n",
    "# Numeric Calculations \n",
    "import numpy as np\n",
    "\n",
    "# For mathematical calculations \n",
    "import math\n",
    "\n",
    "# For regular expressions in order to extract the xml data \n",
    "import re\n",
    "\n",
    "# For reading the json data\n",
    "import json\n",
    "\n",
    "# For reading in the xml data\n",
    "import bs4\n",
    "from bs4 import BeautifulSoup\n",
    "\n",
    "# For reading in the pdf data \n",
    "import tabula \n",
    "\n",
    "# For performing box-cox transformation\n",
    "from scipy import stats\n",
    "\n",
    "# For plotting functions \n",
    "import matplotlib as mpl\n",
    "import matplotlib.pyplot as plt\n",
    "\n",
    "# For z transform and min max tranformations \n",
    "from sklearn import preprocessing\n",
    "\n",
    "# For splitting the dataset into training and testing data \n",
    "from sklearn.model_selection import train_test_split\n",
    "\n",
    "# In order to calculate the mean squared error\n",
    "from sklearn.metrics import mean_squared_error, r2_score\n",
    "\n",
    "# In order to train the linear model \n",
    "from sklearn.linear_model import LinearRegression"
   ]
  },
  {
   "cell_type": "code",
   "execution_count": 2,
   "metadata": {},
   "outputs": [],
   "source": [
    "# For reading in the shape files\n",
    "\n",
    "\n",
    "# import shapefile\n",
    "# #import geopandas\n",
    "# from shapely.geometry import Point, Polygon"
   ]
  },
  {
   "cell_type": "markdown",
   "metadata": {},
   "source": [
    "## 2.1 Task 1 : Data Integration : Part A : Reading Data <a class=\"anchor\" id=\"sec_21\"></a>\n",
    "\n",
    "* This section revolves around reading in the various datasets present in various formats such as json data, xml data, html data, pdf data, and excel data.\n",
    "* After reading in the data, this section then covers merging the data into one integrated format which has been named as integrated_data. \n",
    "* We would be reading the various data-formats in the following manner:\n",
    "    * **json data** using read_json function \n",
    "    * **xml data** using regular expressions \n",
    "    * **html data** using read_html function\n",
    "    * **pdf data** using tabula \n",
    "    * **excel data** using read_excel function "
   ]
  },
  {
   "cell_type": "markdown",
   "metadata": {},
   "source": [
    "### 2.1.1 Data : real_state.json ( Property Data 1) <a class=\"anchor\" id=\"sec_211\"></a>"
   ]
  },
  {
   "cell_type": "code",
   "execution_count": 3,
   "metadata": {},
   "outputs": [],
   "source": [
    "# Reading in the json_data \n",
    "real_state_json_data = pd.read_json('real_state.json')\n",
    "real_state_json_data.to_csv ('real_state.csv', index = None)"
   ]
  },
  {
   "cell_type": "code",
   "execution_count": 4,
   "metadata": {},
   "outputs": [
    {
     "data": {
      "text/html": [
       "<div>\n",
       "<style scoped>\n",
       "    .dataframe tbody tr th:only-of-type {\n",
       "        vertical-align: middle;\n",
       "    }\n",
       "\n",
       "    .dataframe tbody tr th {\n",
       "        vertical-align: top;\n",
       "    }\n",
       "\n",
       "    .dataframe thead th {\n",
       "        text-align: right;\n",
       "    }\n",
       "</style>\n",
       "<table border=\"1\" class=\"dataframe\">\n",
       "  <thead>\n",
       "    <tr style=\"text-align: right;\">\n",
       "      <th></th>\n",
       "      <th>property_id</th>\n",
       "      <th>lat</th>\n",
       "      <th>lng</th>\n",
       "      <th>addr_street</th>\n",
       "      <th>price</th>\n",
       "      <th>property_type</th>\n",
       "      <th>year</th>\n",
       "      <th>bedrooms</th>\n",
       "      <th>bathrooms</th>\n",
       "      <th>parking_space</th>\n",
       "    </tr>\n",
       "  </thead>\n",
       "  <tbody>\n",
       "    <tr>\n",
       "      <th>0</th>\n",
       "      <td>39345</td>\n",
       "      <td>-37.694100</td>\n",
       "      <td>145.056091</td>\n",
       "      <td>1/40 McLeans Road</td>\n",
       "      <td>5753000</td>\n",
       "      <td>house</td>\n",
       "      <td>2011</td>\n",
       "      <td>3</td>\n",
       "      <td>2</td>\n",
       "      <td>1</td>\n",
       "    </tr>\n",
       "    <tr>\n",
       "      <th>1</th>\n",
       "      <td>58362</td>\n",
       "      <td>-37.826197</td>\n",
       "      <td>145.153935</td>\n",
       "      <td>8 Wellington Avenue</td>\n",
       "      <td>15680000</td>\n",
       "      <td>house</td>\n",
       "      <td>2015</td>\n",
       "      <td>3</td>\n",
       "      <td>2</td>\n",
       "      <td>2</td>\n",
       "    </tr>\n",
       "  </tbody>\n",
       "</table>\n",
       "</div>"
      ],
      "text/plain": [
       "   property_id        lat         lng          addr_street     price  \\\n",
       "0        39345 -37.694100  145.056091    1/40 McLeans Road   5753000   \n",
       "1        58362 -37.826197  145.153935  8 Wellington Avenue  15680000   \n",
       "\n",
       "  property_type  year  bedrooms  bathrooms  parking_space  \n",
       "0         house  2011         3          2              1  \n",
       "1         house  2015         3          2              2  "
      ]
     },
     "execution_count": 4,
     "metadata": {},
     "output_type": "execute_result"
    }
   ],
   "source": [
    "# Displaying the json_data \n",
    "real_state_json_data.head(2)"
   ]
  },
  {
   "cell_type": "code",
   "execution_count": 5,
   "metadata": {},
   "outputs": [
    {
     "data": {
      "text/html": [
       "<div>\n",
       "<style scoped>\n",
       "    .dataframe tbody tr th:only-of-type {\n",
       "        vertical-align: middle;\n",
       "    }\n",
       "\n",
       "    .dataframe tbody tr th {\n",
       "        vertical-align: top;\n",
       "    }\n",
       "\n",
       "    .dataframe thead th {\n",
       "        text-align: right;\n",
       "    }\n",
       "</style>\n",
       "<table border=\"1\" class=\"dataframe\">\n",
       "  <thead>\n",
       "    <tr style=\"text-align: right;\">\n",
       "      <th></th>\n",
       "      <th>Property_id</th>\n",
       "      <th>lat</th>\n",
       "      <th>lng</th>\n",
       "      <th>addr_street</th>\n",
       "      <th>price</th>\n",
       "      <th>property_type</th>\n",
       "      <th>year</th>\n",
       "      <th>bedrooms</th>\n",
       "      <th>bathrooms</th>\n",
       "      <th>parking_space</th>\n",
       "    </tr>\n",
       "  </thead>\n",
       "  <tbody>\n",
       "    <tr>\n",
       "      <th>0</th>\n",
       "      <td>39345</td>\n",
       "      <td>-37.694100</td>\n",
       "      <td>145.056091</td>\n",
       "      <td>1/40 McLeans Road</td>\n",
       "      <td>5753000</td>\n",
       "      <td>house</td>\n",
       "      <td>2011</td>\n",
       "      <td>3</td>\n",
       "      <td>2</td>\n",
       "      <td>1</td>\n",
       "    </tr>\n",
       "    <tr>\n",
       "      <th>1</th>\n",
       "      <td>58362</td>\n",
       "      <td>-37.826197</td>\n",
       "      <td>145.153935</td>\n",
       "      <td>8 Wellington Avenue</td>\n",
       "      <td>15680000</td>\n",
       "      <td>house</td>\n",
       "      <td>2015</td>\n",
       "      <td>3</td>\n",
       "      <td>2</td>\n",
       "      <td>2</td>\n",
       "    </tr>\n",
       "  </tbody>\n",
       "</table>\n",
       "</div>"
      ],
      "text/plain": [
       "   Property_id        lat         lng          addr_street     price  \\\n",
       "0        39345 -37.694100  145.056091    1/40 McLeans Road   5753000   \n",
       "1        58362 -37.826197  145.153935  8 Wellington Avenue  15680000   \n",
       "\n",
       "  property_type  year  bedrooms  bathrooms  parking_space  \n",
       "0         house  2011         3          2              1  \n",
       "1         house  2015         3          2              2  "
      ]
     },
     "execution_count": 5,
     "metadata": {},
     "output_type": "execute_result"
    }
   ],
   "source": [
    "# Renaming the property id column as per the specification \n",
    "real_state_json_data.rename(columns = {'property_id': 'Property_id'}, inplace = True)\n",
    "real_state_json_data.head(2)"
   ]
  },
  {
   "cell_type": "markdown",
   "metadata": {},
   "source": [
    "### 2.1.2 Data : real_state.xml ( Property Data 2) <a class=\"anchor\" id=\"sec_212\"></a>"
   ]
  },
  {
   "cell_type": "code",
   "execution_count": 6,
   "metadata": {},
   "outputs": [],
   "source": [
    "# Opening the XML File \n",
    "real_state_xml = open(\"real_state.xml\", \"r\")\n",
    "\n",
    "# Reading in the xml data \n",
    "real_state = BeautifulSoup(real_state_xml, \"html.parser\")\n",
    "\n",
    "# Converting into a string format \n",
    "real_state_combined = str(real_state)"
   ]
  },
  {
   "cell_type": "code",
   "execution_count": 7,
   "metadata": {},
   "outputs": [],
   "source": [
    "# Creating the regex \n",
    "property_id_regex = '<property_id type=\"dict\">(.*?)</property_id>'\n",
    "lat_regex = '<lat type=\"dict\">(.*?)</lat>'\n",
    "lng_regex = '<lng type=\"dict\">(.*?)</lng>'\n",
    "addr_street_regex = '<addr_street type=\"dict\">(.*?)</addr_street>'\n",
    "price_regex = '<price type=\"dict\">(.*?)</price>'\n",
    "property_type_regex = '<property_type type=\"dict\">(.*?)</property_type>'\n",
    "bedrooms_regex = '<bedrooms type=\"dict\">(.*?)</bedrooms>'\n",
    "year_regex = '<year type=\"dict\">(.*?)</year>'\n",
    "bathrooms_regex = '<bathrooms type=\"dict\">(.*?)</bathrooms>'\n",
    "parking_space_regex = '<parking_space type=\"dict\">(.*?)</parking_space>'\n",
    "\n",
    "\n",
    "# Finding and Extracting using regex \n",
    "# for property_id \n",
    "find_property_id = re.findall(property_id_regex,real_state_combined,re.DOTALL)\n",
    "for i in find_property_id:\n",
    "    id_regex = \"<n[\\d]+ type=\\\"int\\\">(.*?)</n[0-9]+>\"\n",
    "    property_id_list =  re.findall(id_regex,i,re.DOTALL)\n",
    "\n",
    "# for lat \n",
    "find_lat = re.findall(lat_regex,real_state_combined,re.DOTALL)\n",
    "for i in find_lat:\n",
    "    lat_regex = \"<n[\\d]+ type=\\\"float\\\">(.*?)</n[0-9]+>\"\n",
    "    lat_list =  re.findall(lat_regex,i,re.DOTALL)\n",
    "\n",
    "# for lng \n",
    "find_lng = re.findall(lng_regex,real_state_combined,re.DOTALL)\n",
    "for i in find_lng:\n",
    "    lng_regex = \"<n[\\d]+ type=\\\"float\\\">(.*?)</n[0-9]+>\"\n",
    "    lng_list =  re.findall(lng_regex,i,re.DOTALL)\n",
    "\n",
    "# for address street \n",
    "find_addr_street = re.findall(addr_street_regex,real_state_combined,re.DOTALL)\n",
    "for i in find_addr_street:\n",
    "    adress_regex = \"<n[\\d]+ type=\\\"str\\\">(.*?)</n[0-9]+>\"\n",
    "    adress_list =  re.findall(adress_regex,i,re.DOTALL)\n",
    "\n",
    "# for price \n",
    "find_price = re.findall(price_regex,real_state_combined,re.DOTALL)\n",
    "for i in find_price:\n",
    "    price_regex = \"<n[\\d]+ type=\\\"int\\\">(.*?)</n[0-9]+>\"\n",
    "    price_list =  re.findall(price_regex,i,re.DOTALL)\n",
    "\n",
    "# for property \n",
    "find_property = re.findall(property_type_regex,real_state_combined,re.DOTALL)\n",
    "for i in find_property:\n",
    "    type_regex = \"<n[\\d]+ type=\\\"str\\\">(.*?)</n[0-9]+>\"\n",
    "    type_list =  re.findall(type_regex,i,re.DOTALL)\n",
    "\n",
    "# for year \n",
    "find_year = re.findall(year_regex,real_state_combined,re.DOTALL)\n",
    "for i in find_year:\n",
    "    year_regex = \"<n[\\d]+ type=\\\"int\\\">(.*?)</n[0-9]+>\"\n",
    "    year_list =  re.findall(year_regex,i,re.DOTALL)\n",
    "\n",
    "# for bedrooms \n",
    "find_bedrooms = re.findall(bedrooms_regex,real_state_combined,re.DOTALL)\n",
    "for i in find_bedrooms:\n",
    "    bedrooms_regex = \"<n[\\d]+ type=\\\"int\\\">(.*?)</n[0-9]+>\"\n",
    "    bedrooms_list =  re.findall(bedrooms_regex,i,re.DOTALL)\n",
    "\n",
    "# for bathrooms \n",
    "find_bathrooms = re.findall(bathrooms_regex,real_state_combined,re.DOTALL)\n",
    "for i in find_bathrooms:\n",
    "    bathrooms_regex = \"<n[\\d]+ type=\\\"int\\\">(.*?)</n[0-9]+>\"\n",
    "    bathrooms_list =  re.findall(bathrooms_regex,i,re.DOTALL)\n",
    "\n",
    "# for parking space \n",
    "find_parking_space = re.findall(parking_space_regex,real_state_combined,re.DOTALL)\n",
    "for i in find_parking_space:\n",
    "    parking_space_regex = \"<n[\\d]+ type=\\\"int\\\">(.*?)</n[0-9]+>\"\n",
    "    parking_space_list =  re.findall(parking_space_regex,i,re.DOTALL)"
   ]
  },
  {
   "cell_type": "code",
   "execution_count": 8,
   "metadata": {},
   "outputs": [],
   "source": [
    "# Creating a df from the combined xml data \n",
    "df_realstate_xml = pd.DataFrame(list(zip(property_id_list, lat_list,lng_list,adress_list,price_list,type_list,year_list,bedrooms_list,bathrooms_list,parking_space_list)), \n",
    "               columns =['Property_id', 'lat','lng','addr_street','price','property_type','year','bedrooms','bathrooms','parking_space']) "
   ]
  },
  {
   "cell_type": "code",
   "execution_count": 9,
   "metadata": {},
   "outputs": [
    {
     "data": {
      "text/html": [
       "<div>\n",
       "<style scoped>\n",
       "    .dataframe tbody tr th:only-of-type {\n",
       "        vertical-align: middle;\n",
       "    }\n",
       "\n",
       "    .dataframe tbody tr th {\n",
       "        vertical-align: top;\n",
       "    }\n",
       "\n",
       "    .dataframe thead th {\n",
       "        text-align: right;\n",
       "    }\n",
       "</style>\n",
       "<table border=\"1\" class=\"dataframe\">\n",
       "  <thead>\n",
       "    <tr style=\"text-align: right;\">\n",
       "      <th></th>\n",
       "      <th>Property_id</th>\n",
       "      <th>lat</th>\n",
       "      <th>lng</th>\n",
       "      <th>addr_street</th>\n",
       "      <th>price</th>\n",
       "      <th>property_type</th>\n",
       "      <th>year</th>\n",
       "      <th>bedrooms</th>\n",
       "      <th>bathrooms</th>\n",
       "      <th>parking_space</th>\n",
       "    </tr>\n",
       "  </thead>\n",
       "  <tbody>\n",
       "    <tr>\n",
       "      <th>0</th>\n",
       "      <td>53425</td>\n",
       "      <td>-37.813198</td>\n",
       "      <td>145.002348</td>\n",
       "      <td>50 Lambert Street</td>\n",
       "      <td>5984000</td>\n",
       "      <td>house</td>\n",
       "      <td>2010</td>\n",
       "      <td>3</td>\n",
       "      <td>1</td>\n",
       "      <td>1</td>\n",
       "    </tr>\n",
       "    <tr>\n",
       "      <th>1</th>\n",
       "      <td>3979</td>\n",
       "      <td>-37.81578064</td>\n",
       "      <td>144.8942719</td>\n",
       "      <td>96 Stephen Street</td>\n",
       "      <td>7136000</td>\n",
       "      <td>house</td>\n",
       "      <td>2009</td>\n",
       "      <td>2</td>\n",
       "      <td>1</td>\n",
       "      <td>1</td>\n",
       "    </tr>\n",
       "  </tbody>\n",
       "</table>\n",
       "</div>"
      ],
      "text/plain": [
       "  Property_id           lat          lng        addr_street    price  \\\n",
       "0       53425    -37.813198   145.002348  50 Lambert Street  5984000   \n",
       "1        3979  -37.81578064  144.8942719  96 Stephen Street  7136000   \n",
       "\n",
       "  property_type  year bedrooms bathrooms parking_space  \n",
       "0         house  2010        3         1             1  \n",
       "1         house  2009        2         1             1  "
      ]
     },
     "execution_count": 9,
     "metadata": {},
     "output_type": "execute_result"
    }
   ],
   "source": [
    "# Displaying the xml real_state \n",
    "df_realstate_xml.head(2)"
   ]
  },
  {
   "cell_type": "code",
   "execution_count": 10,
   "metadata": {},
   "outputs": [],
   "source": [
    "# Converting the json data into a dataframe \n",
    "df_realstate_json = pd.read_csv('real_state.csv', )"
   ]
  },
  {
   "cell_type": "code",
   "execution_count": 11,
   "metadata": {},
   "outputs": [
    {
     "data": {
      "text/html": [
       "<div>\n",
       "<style scoped>\n",
       "    .dataframe tbody tr th:only-of-type {\n",
       "        vertical-align: middle;\n",
       "    }\n",
       "\n",
       "    .dataframe tbody tr th {\n",
       "        vertical-align: top;\n",
       "    }\n",
       "\n",
       "    .dataframe thead th {\n",
       "        text-align: right;\n",
       "    }\n",
       "</style>\n",
       "<table border=\"1\" class=\"dataframe\">\n",
       "  <thead>\n",
       "    <tr style=\"text-align: right;\">\n",
       "      <th></th>\n",
       "      <th>property_id</th>\n",
       "      <th>lat</th>\n",
       "      <th>lng</th>\n",
       "      <th>addr_street</th>\n",
       "      <th>price</th>\n",
       "      <th>property_type</th>\n",
       "      <th>year</th>\n",
       "      <th>bedrooms</th>\n",
       "      <th>bathrooms</th>\n",
       "      <th>parking_space</th>\n",
       "    </tr>\n",
       "  </thead>\n",
       "  <tbody>\n",
       "    <tr>\n",
       "      <th>0</th>\n",
       "      <td>39345</td>\n",
       "      <td>-37.694100</td>\n",
       "      <td>145.056091</td>\n",
       "      <td>1/40 McLeans Road</td>\n",
       "      <td>5753000</td>\n",
       "      <td>house</td>\n",
       "      <td>2011</td>\n",
       "      <td>3</td>\n",
       "      <td>2</td>\n",
       "      <td>1</td>\n",
       "    </tr>\n",
       "    <tr>\n",
       "      <th>1</th>\n",
       "      <td>58362</td>\n",
       "      <td>-37.826197</td>\n",
       "      <td>145.153935</td>\n",
       "      <td>8 Wellington Avenue</td>\n",
       "      <td>15680000</td>\n",
       "      <td>house</td>\n",
       "      <td>2015</td>\n",
       "      <td>3</td>\n",
       "      <td>2</td>\n",
       "      <td>2</td>\n",
       "    </tr>\n",
       "  </tbody>\n",
       "</table>\n",
       "</div>"
      ],
      "text/plain": [
       "   property_id        lat         lng          addr_street     price  \\\n",
       "0        39345 -37.694100  145.056091    1/40 McLeans Road   5753000   \n",
       "1        58362 -37.826197  145.153935  8 Wellington Avenue  15680000   \n",
       "\n",
       "  property_type  year  bedrooms  bathrooms  parking_space  \n",
       "0         house  2011         3          2              1  \n",
       "1         house  2015         3          2              2  "
      ]
     },
     "execution_count": 11,
     "metadata": {},
     "output_type": "execute_result"
    }
   ],
   "source": [
    "# Displaying the json real_state \n",
    "df_realstate_json.head(2)"
   ]
  },
  {
   "cell_type": "code",
   "execution_count": 12,
   "metadata": {},
   "outputs": [],
   "source": [
    "# Renaming column name for the json dataframe \n",
    "df_realstate_json.rename(columns = {'property_id':'Property_id'}, inplace = True) "
   ]
  },
  {
   "cell_type": "code",
   "execution_count": 13,
   "metadata": {},
   "outputs": [
    {
     "data": {
      "text/html": [
       "<div>\n",
       "<style scoped>\n",
       "    .dataframe tbody tr th:only-of-type {\n",
       "        vertical-align: middle;\n",
       "    }\n",
       "\n",
       "    .dataframe tbody tr th {\n",
       "        vertical-align: top;\n",
       "    }\n",
       "\n",
       "    .dataframe thead th {\n",
       "        text-align: right;\n",
       "    }\n",
       "</style>\n",
       "<table border=\"1\" class=\"dataframe\">\n",
       "  <thead>\n",
       "    <tr style=\"text-align: right;\">\n",
       "      <th></th>\n",
       "      <th>Property_id</th>\n",
       "      <th>lat</th>\n",
       "      <th>lng</th>\n",
       "      <th>addr_street</th>\n",
       "      <th>price</th>\n",
       "      <th>property_type</th>\n",
       "      <th>year</th>\n",
       "      <th>bedrooms</th>\n",
       "      <th>bathrooms</th>\n",
       "      <th>parking_space</th>\n",
       "    </tr>\n",
       "  </thead>\n",
       "  <tbody>\n",
       "    <tr>\n",
       "      <th>0</th>\n",
       "      <td>39345</td>\n",
       "      <td>-37.694100</td>\n",
       "      <td>145.056091</td>\n",
       "      <td>1/40 McLeans Road</td>\n",
       "      <td>5753000</td>\n",
       "      <td>house</td>\n",
       "      <td>2011</td>\n",
       "      <td>3</td>\n",
       "      <td>2</td>\n",
       "      <td>1</td>\n",
       "    </tr>\n",
       "    <tr>\n",
       "      <th>1</th>\n",
       "      <td>58362</td>\n",
       "      <td>-37.826197</td>\n",
       "      <td>145.153935</td>\n",
       "      <td>8 Wellington Avenue</td>\n",
       "      <td>15680000</td>\n",
       "      <td>house</td>\n",
       "      <td>2015</td>\n",
       "      <td>3</td>\n",
       "      <td>2</td>\n",
       "      <td>2</td>\n",
       "    </tr>\n",
       "  </tbody>\n",
       "</table>\n",
       "</div>"
      ],
      "text/plain": [
       "   Property_id        lat         lng          addr_street     price  \\\n",
       "0        39345 -37.694100  145.056091    1/40 McLeans Road   5753000   \n",
       "1        58362 -37.826197  145.153935  8 Wellington Avenue  15680000   \n",
       "\n",
       "  property_type  year  bedrooms  bathrooms  parking_space  \n",
       "0         house  2011         3          2              1  \n",
       "1         house  2015         3          2              2  "
      ]
     },
     "execution_count": 13,
     "metadata": {},
     "output_type": "execute_result"
    }
   ],
   "source": [
    "df_realstate_json.head(2)"
   ]
  },
  {
   "cell_type": "code",
   "execution_count": 14,
   "metadata": {},
   "outputs": [
    {
     "data": {
      "text/plain": [
       "(1010, 10)"
      ]
     },
     "execution_count": 14,
     "metadata": {},
     "output_type": "execute_result"
    }
   ],
   "source": [
    "# Shape of real_state json \n",
    "df_realstate_json.shape"
   ]
  },
  {
   "cell_type": "code",
   "execution_count": 15,
   "metadata": {},
   "outputs": [
    {
     "data": {
      "text/plain": [
       "(1001, 10)"
      ]
     },
     "execution_count": 15,
     "metadata": {},
     "output_type": "execute_result"
    }
   ],
   "source": [
    "# Shape of real_state xml \n",
    "df_realstate_xml.shape"
   ]
  },
  {
   "cell_type": "code",
   "execution_count": 16,
   "metadata": {},
   "outputs": [],
   "source": [
    "# Creating a list of both the dataframes \n",
    "df_xml_and_json = [df_realstate_xml, df_realstate_json]"
   ]
  },
  {
   "cell_type": "code",
   "execution_count": 17,
   "metadata": {},
   "outputs": [],
   "source": [
    "# Join the data \n",
    "integrated_data = pd.concat(df_xml_and_json, sort = False)"
   ]
  },
  {
   "cell_type": "code",
   "execution_count": 18,
   "metadata": {},
   "outputs": [
    {
     "data": {
      "text/html": [
       "<div>\n",
       "<style scoped>\n",
       "    .dataframe tbody tr th:only-of-type {\n",
       "        vertical-align: middle;\n",
       "    }\n",
       "\n",
       "    .dataframe tbody tr th {\n",
       "        vertical-align: top;\n",
       "    }\n",
       "\n",
       "    .dataframe thead th {\n",
       "        text-align: right;\n",
       "    }\n",
       "</style>\n",
       "<table border=\"1\" class=\"dataframe\">\n",
       "  <thead>\n",
       "    <tr style=\"text-align: right;\">\n",
       "      <th></th>\n",
       "      <th>Property_id</th>\n",
       "      <th>lat</th>\n",
       "      <th>lng</th>\n",
       "      <th>addr_street</th>\n",
       "      <th>price</th>\n",
       "      <th>property_type</th>\n",
       "      <th>year</th>\n",
       "      <th>bedrooms</th>\n",
       "      <th>bathrooms</th>\n",
       "      <th>parking_space</th>\n",
       "    </tr>\n",
       "  </thead>\n",
       "  <tbody>\n",
       "    <tr>\n",
       "      <th>0</th>\n",
       "      <td>53425</td>\n",
       "      <td>-37.813198</td>\n",
       "      <td>145.002348</td>\n",
       "      <td>50 Lambert Street</td>\n",
       "      <td>5984000</td>\n",
       "      <td>house</td>\n",
       "      <td>2010</td>\n",
       "      <td>3</td>\n",
       "      <td>1</td>\n",
       "      <td>1</td>\n",
       "    </tr>\n",
       "    <tr>\n",
       "      <th>1</th>\n",
       "      <td>3979</td>\n",
       "      <td>-37.81578064</td>\n",
       "      <td>144.8942719</td>\n",
       "      <td>96 Stephen Street</td>\n",
       "      <td>7136000</td>\n",
       "      <td>house</td>\n",
       "      <td>2009</td>\n",
       "      <td>2</td>\n",
       "      <td>1</td>\n",
       "      <td>1</td>\n",
       "    </tr>\n",
       "  </tbody>\n",
       "</table>\n",
       "</div>"
      ],
      "text/plain": [
       "  Property_id           lat          lng        addr_street    price  \\\n",
       "0       53425    -37.813198   145.002348  50 Lambert Street  5984000   \n",
       "1        3979  -37.81578064  144.8942719  96 Stephen Street  7136000   \n",
       "\n",
       "  property_type  year bedrooms bathrooms parking_space  \n",
       "0         house  2010        3         1             1  \n",
       "1         house  2009        2         1             1  "
      ]
     },
     "execution_count": 18,
     "metadata": {},
     "output_type": "execute_result"
    }
   ],
   "source": [
    "integrated_data.head(2)"
   ]
  },
  {
   "cell_type": "code",
   "execution_count": 19,
   "metadata": {},
   "outputs": [
    {
     "data": {
      "text/plain": [
       "(2011, 10)"
      ]
     },
     "execution_count": 19,
     "metadata": {},
     "output_type": "execute_result"
    }
   ],
   "source": [
    "# Shape of our first version of integrated data \n",
    "integrated_data.shape"
   ]
  },
  {
   "cell_type": "code",
   "execution_count": 20,
   "metadata": {},
   "outputs": [],
   "source": [
    "# Dropping the duplicated data \n",
    "integrated_data.drop_duplicates(subset =\"Property_id\", keep = False, inplace = True) "
   ]
  },
  {
   "cell_type": "code",
   "execution_count": 21,
   "metadata": {},
   "outputs": [
    {
     "data": {
      "text/plain": [
       "(2003, 10)"
      ]
     },
     "execution_count": 21,
     "metadata": {},
     "output_type": "execute_result"
    }
   ],
   "source": [
    "# Shaoe after dropping duplicates \n",
    "integrated_data.shape"
   ]
  },
  {
   "cell_type": "markdown",
   "metadata": {},
   "source": [
    "### 2.1.3 Data : shopingcenters.html <a class=\"anchor\" id=\"sec_213\"></a>"
   ]
  },
  {
   "cell_type": "code",
   "execution_count": 22,
   "metadata": {},
   "outputs": [],
   "source": [
    "# Reading in the html data \n",
    "html_data = r\"shopingcenters.html\"\n",
    "\n",
    "# Opening the html file\n",
    "shopingcenter_data = open(html_data, 'r')\n",
    "\n",
    "# Reading the shopping centre data file  \n",
    "html_data_read = shopingcenter_data.read()\n",
    "\n",
    "# Reading the html data as a dataframe \n",
    "html_data_df = pd.read_html(html_data_read)\n",
    "\n",
    "# Converting the html data into a csv format \n",
    "for i, table in enumerate(html_data_df):\n",
    "    table.to_csv('shopingcenters.csv'.format(i))"
   ]
  },
  {
   "cell_type": "code",
   "execution_count": 23,
   "metadata": {},
   "outputs": [
    {
     "data": {
      "text/html": [
       "<div>\n",
       "<style scoped>\n",
       "    .dataframe tbody tr th:only-of-type {\n",
       "        vertical-align: middle;\n",
       "    }\n",
       "\n",
       "    .dataframe tbody tr th {\n",
       "        vertical-align: top;\n",
       "    }\n",
       "\n",
       "    .dataframe thead th {\n",
       "        text-align: right;\n",
       "    }\n",
       "</style>\n",
       "<table border=\"1\" class=\"dataframe\">\n",
       "  <thead>\n",
       "    <tr style=\"text-align: right;\">\n",
       "      <th></th>\n",
       "      <th>Unnamed: 0</th>\n",
       "      <th>Unnamed: 0.1</th>\n",
       "      <th>sc_id</th>\n",
       "      <th>lat</th>\n",
       "      <th>lng</th>\n",
       "    </tr>\n",
       "  </thead>\n",
       "  <tbody>\n",
       "    <tr>\n",
       "      <th>0</th>\n",
       "      <td>0</td>\n",
       "      <td>0</td>\n",
       "      <td>SC_001</td>\n",
       "      <td>-37.767915</td>\n",
       "      <td>145.041790</td>\n",
       "    </tr>\n",
       "    <tr>\n",
       "      <th>1</th>\n",
       "      <td>1</td>\n",
       "      <td>1</td>\n",
       "      <td>SC_002</td>\n",
       "      <td>-37.819375</td>\n",
       "      <td>145.171472</td>\n",
       "    </tr>\n",
       "  </tbody>\n",
       "</table>\n",
       "</div>"
      ],
      "text/plain": [
       "   Unnamed: 0  Unnamed: 0.1   sc_id        lat         lng\n",
       "0           0             0  SC_001 -37.767915  145.041790\n",
       "1           1             1  SC_002 -37.819375  145.171472"
      ]
     },
     "execution_count": 23,
     "metadata": {},
     "output_type": "execute_result"
    }
   ],
   "source": [
    "# Reading in the csv data \n",
    "shopingcenter_data = pd.read_csv(\"shopingcenters.csv\")\n",
    "shopingcenter_data.head(2)"
   ]
  },
  {
   "cell_type": "code",
   "execution_count": 24,
   "metadata": {},
   "outputs": [],
   "source": [
    "# Deleting unwanted columns\n",
    "del shopingcenter_data['Unnamed: 0']\n",
    "del shopingcenter_data['Unnamed: 0.1']"
   ]
  },
  {
   "cell_type": "code",
   "execution_count": 25,
   "metadata": {},
   "outputs": [
    {
     "data": {
      "text/html": [
       "<div>\n",
       "<style scoped>\n",
       "    .dataframe tbody tr th:only-of-type {\n",
       "        vertical-align: middle;\n",
       "    }\n",
       "\n",
       "    .dataframe tbody tr th {\n",
       "        vertical-align: top;\n",
       "    }\n",
       "\n",
       "    .dataframe thead th {\n",
       "        text-align: right;\n",
       "    }\n",
       "</style>\n",
       "<table border=\"1\" class=\"dataframe\">\n",
       "  <thead>\n",
       "    <tr style=\"text-align: right;\">\n",
       "      <th></th>\n",
       "      <th>sc_id</th>\n",
       "      <th>lat</th>\n",
       "      <th>lng</th>\n",
       "    </tr>\n",
       "  </thead>\n",
       "  <tbody>\n",
       "    <tr>\n",
       "      <th>0</th>\n",
       "      <td>SC_001</td>\n",
       "      <td>-37.767915</td>\n",
       "      <td>145.041790</td>\n",
       "    </tr>\n",
       "    <tr>\n",
       "      <th>1</th>\n",
       "      <td>SC_002</td>\n",
       "      <td>-37.819375</td>\n",
       "      <td>145.171472</td>\n",
       "    </tr>\n",
       "  </tbody>\n",
       "</table>\n",
       "</div>"
      ],
      "text/plain": [
       "    sc_id        lat         lng\n",
       "0  SC_001 -37.767915  145.041790\n",
       "1  SC_002 -37.819375  145.171472"
      ]
     },
     "execution_count": 25,
     "metadata": {},
     "output_type": "execute_result"
    }
   ],
   "source": [
    "# Displaying the shopingcenter data \n",
    "shopingcenter_data.head(2)"
   ]
  },
  {
   "cell_type": "markdown",
   "metadata": {},
   "source": [
    "### 2.1.4 Data : supermarkets.pdf <a class=\"anchor\" id=\"sec_214\"></a>"
   ]
  },
  {
   "cell_type": "code",
   "execution_count": 26,
   "metadata": {},
   "outputs": [
    {
     "data": {
      "text/html": [
       "<div>\n",
       "<style scoped>\n",
       "    .dataframe tbody tr th:only-of-type {\n",
       "        vertical-align: middle;\n",
       "    }\n",
       "\n",
       "    .dataframe tbody tr th {\n",
       "        vertical-align: top;\n",
       "    }\n",
       "\n",
       "    .dataframe thead th {\n",
       "        text-align: right;\n",
       "    }\n",
       "</style>\n",
       "<table border=\"1\" class=\"dataframe\">\n",
       "  <thead>\n",
       "    <tr style=\"text-align: right;\">\n",
       "      <th></th>\n",
       "      <th>Unnamed: 0</th>\n",
       "      <th>id</th>\n",
       "      <th>lat</th>\n",
       "      <th>lng</th>\n",
       "      <th>type</th>\n",
       "    </tr>\n",
       "  </thead>\n",
       "  <tbody>\n",
       "    <tr>\n",
       "      <th>0</th>\n",
       "      <td>0.0</td>\n",
       "      <td>S_001</td>\n",
       "      <td>-37.883978</td>\n",
       "      <td>144.735287</td>\n",
       "      <td>Woolworths</td>\n",
       "    </tr>\n",
       "    <tr>\n",
       "      <th>1</th>\n",
       "      <td>1.0</td>\n",
       "      <td>S_002</td>\n",
       "      <td>-41.161591</td>\n",
       "      <td>147.514797</td>\n",
       "      <td>Woolworths</td>\n",
       "    </tr>\n",
       "  </tbody>\n",
       "</table>\n",
       "</div>"
      ],
      "text/plain": [
       "   Unnamed: 0     id         lat         lng        type\n",
       "0         0.0  S_001  -37.883978  144.735287  Woolworths\n",
       "1         1.0  S_002  -41.161591  147.514797  Woolworths"
      ]
     },
     "execution_count": 26,
     "metadata": {},
     "output_type": "execute_result"
    }
   ],
   "source": [
    "# Converting into csv \n",
    "tabula.convert_into(\"supermarkets.pdf\",\"supermarkets.csv\", pages='all')\n",
    "\n",
    "# Reading in the csv data \n",
    "supermarkets_data = pd.read_csv(\"supermarkets.csv\")\n",
    "supermarkets_data.head(2)"
   ]
  },
  {
   "cell_type": "code",
   "execution_count": 27,
   "metadata": {},
   "outputs": [],
   "source": [
    "# Deleting unwanted columns\n",
    "del supermarkets_data['Unnamed: 0']"
   ]
  },
  {
   "cell_type": "code",
   "execution_count": 28,
   "metadata": {},
   "outputs": [
    {
     "data": {
      "text/html": [
       "<div>\n",
       "<style scoped>\n",
       "    .dataframe tbody tr th:only-of-type {\n",
       "        vertical-align: middle;\n",
       "    }\n",
       "\n",
       "    .dataframe tbody tr th {\n",
       "        vertical-align: top;\n",
       "    }\n",
       "\n",
       "    .dataframe thead th {\n",
       "        text-align: right;\n",
       "    }\n",
       "</style>\n",
       "<table border=\"1\" class=\"dataframe\">\n",
       "  <thead>\n",
       "    <tr style=\"text-align: right;\">\n",
       "      <th></th>\n",
       "      <th>id</th>\n",
       "      <th>lat</th>\n",
       "      <th>lng</th>\n",
       "      <th>type</th>\n",
       "    </tr>\n",
       "  </thead>\n",
       "  <tbody>\n",
       "    <tr>\n",
       "      <th>0</th>\n",
       "      <td>S_001</td>\n",
       "      <td>-37.883978</td>\n",
       "      <td>144.735287</td>\n",
       "      <td>Woolworths</td>\n",
       "    </tr>\n",
       "    <tr>\n",
       "      <th>1</th>\n",
       "      <td>S_002</td>\n",
       "      <td>-41.161591</td>\n",
       "      <td>147.514797</td>\n",
       "      <td>Woolworths</td>\n",
       "    </tr>\n",
       "  </tbody>\n",
       "</table>\n",
       "</div>"
      ],
      "text/plain": [
       "      id         lat         lng        type\n",
       "0  S_001  -37.883978  144.735287  Woolworths\n",
       "1  S_002  -41.161591  147.514797  Woolworths"
      ]
     },
     "execution_count": 28,
     "metadata": {},
     "output_type": "execute_result"
    }
   ],
   "source": [
    "# Displaying the supermarket data\n",
    "supermarkets_data.head(2)"
   ]
  },
  {
   "cell_type": "code",
   "execution_count": 29,
   "metadata": {},
   "outputs": [
    {
     "data": {
      "text/plain": [
       "(243, 4)"
      ]
     },
     "execution_count": 29,
     "metadata": {},
     "output_type": "execute_result"
    }
   ],
   "source": [
    "supermarkets_data.shape"
   ]
  },
  {
   "cell_type": "code",
   "execution_count": 30,
   "metadata": {},
   "outputs": [
    {
     "data": {
      "text/plain": [
       "(239, 4)"
      ]
     },
     "execution_count": 30,
     "metadata": {},
     "output_type": "execute_result"
    }
   ],
   "source": [
    "# Correcting some mistakes \n",
    "mistakes = supermarkets_data[( supermarkets_data['lat'] == 'lat') | (supermarkets_data['lng'] == 'lng') ] \n",
    "supermarkets_data = supermarkets_data.drop(mistakes.index, axis = 0) \n",
    "\n",
    "supermarkets_data.shape"
   ]
  },
  {
   "cell_type": "code",
   "execution_count": 31,
   "metadata": {},
   "outputs": [
    {
     "data": {
      "text/html": [
       "<div>\n",
       "<style scoped>\n",
       "    .dataframe tbody tr th:only-of-type {\n",
       "        vertical-align: middle;\n",
       "    }\n",
       "\n",
       "    .dataframe tbody tr th {\n",
       "        vertical-align: top;\n",
       "    }\n",
       "\n",
       "    .dataframe thead th {\n",
       "        text-align: right;\n",
       "    }\n",
       "</style>\n",
       "<table border=\"1\" class=\"dataframe\">\n",
       "  <thead>\n",
       "    <tr style=\"text-align: right;\">\n",
       "      <th></th>\n",
       "      <th>id</th>\n",
       "      <th>lat</th>\n",
       "      <th>lng</th>\n",
       "      <th>type</th>\n",
       "      <th>lat_long</th>\n",
       "    </tr>\n",
       "  </thead>\n",
       "  <tbody>\n",
       "    <tr>\n",
       "      <th>0</th>\n",
       "      <td>S_001</td>\n",
       "      <td>-37.883978</td>\n",
       "      <td>144.735287</td>\n",
       "      <td>Woolworths</td>\n",
       "      <td>(-37.883978, 144.735287)</td>\n",
       "    </tr>\n",
       "    <tr>\n",
       "      <th>1</th>\n",
       "      <td>S_002</td>\n",
       "      <td>-41.161591</td>\n",
       "      <td>147.514797</td>\n",
       "      <td>Woolworths</td>\n",
       "      <td>(-41.161591, 147.514797)</td>\n",
       "    </tr>\n",
       "  </tbody>\n",
       "</table>\n",
       "</div>"
      ],
      "text/plain": [
       "      id         lat         lng        type                  lat_long\n",
       "0  S_001  -37.883978  144.735287  Woolworths  (-37.883978, 144.735287)\n",
       "1  S_002  -41.161591  147.514797  Woolworths  (-41.161591, 147.514797)"
      ]
     },
     "execution_count": 31,
     "metadata": {},
     "output_type": "execute_result"
    }
   ],
   "source": [
    "supermarkets_data['lat_long'] = list(zip(supermarkets_data.lat, supermarkets_data.lng))\n",
    "supermarkets_lat_long = supermarkets_data['lat_long'].to_list()\n",
    "supermarkets_data.head(2)"
   ]
  },
  {
   "cell_type": "code",
   "execution_count": 32,
   "metadata": {},
   "outputs": [
    {
     "name": "stdout",
     "output_type": "stream",
     "text": [
      "<class 'pandas.core.frame.DataFrame'>\n",
      "Int64Index: 239 entries, 0 to 242\n",
      "Data columns (total 5 columns):\n",
      " #   Column    Non-Null Count  Dtype \n",
      "---  ------    --------------  ----- \n",
      " 0   id        239 non-null    object\n",
      " 1   lat       239 non-null    object\n",
      " 2   lng       239 non-null    object\n",
      " 3   type      239 non-null    object\n",
      " 4   lat_long  239 non-null    object\n",
      "dtypes: object(5)\n",
      "memory usage: 11.2+ KB\n"
     ]
    }
   ],
   "source": [
    "supermarkets_data.info()"
   ]
  },
  {
   "cell_type": "code",
   "execution_count": 33,
   "metadata": {},
   "outputs": [
    {
     "name": "stdout",
     "output_type": "stream",
     "text": [
      "<class 'pandas.core.frame.DataFrame'>\n",
      "Int64Index: 239 entries, 0 to 242\n",
      "Data columns (total 5 columns):\n",
      " #   Column    Non-Null Count  Dtype  \n",
      "---  ------    --------------  -----  \n",
      " 0   id        239 non-null    object \n",
      " 1   lat       239 non-null    object \n",
      " 2   lng       239 non-null    object \n",
      " 3   type      239 non-null    object \n",
      " 4   lat_long  239 non-null    float64\n",
      "dtypes: float64(1), object(4)\n",
      "memory usage: 11.2+ KB\n"
     ]
    }
   ],
   "source": [
    "# Converting the datatype for distance calculation \n",
    "supermarkets_data['lat_long'] = pd.to_numeric(supermarkets_data['lat_long'], errors='coerce').fillna(0)\n",
    "supermarkets_data.info()"
   ]
  },
  {
   "cell_type": "markdown",
   "metadata": {},
   "source": [
    "### 2.1.5 Data : hospitals.xlsx <a class=\"anchor\" id=\"sec_215\"></a>"
   ]
  },
  {
   "cell_type": "code",
   "execution_count": 34,
   "metadata": {},
   "outputs": [
    {
     "data": {
      "text/html": [
       "<div>\n",
       "<style scoped>\n",
       "    .dataframe tbody tr th:only-of-type {\n",
       "        vertical-align: middle;\n",
       "    }\n",
       "\n",
       "    .dataframe tbody tr th {\n",
       "        vertical-align: top;\n",
       "    }\n",
       "\n",
       "    .dataframe thead th {\n",
       "        text-align: right;\n",
       "    }\n",
       "</style>\n",
       "<table border=\"1\" class=\"dataframe\">\n",
       "  <thead>\n",
       "    <tr style=\"text-align: right;\">\n",
       "      <th></th>\n",
       "      <th>Unnamed: 0</th>\n",
       "      <th>id</th>\n",
       "      <th>lat</th>\n",
       "      <th>lng</th>\n",
       "      <th>name</th>\n",
       "    </tr>\n",
       "  </thead>\n",
       "  <tbody>\n",
       "    <tr>\n",
       "      <th>0</th>\n",
       "      <td>0</td>\n",
       "      <td>hospital_001</td>\n",
       "      <td>-37.990622</td>\n",
       "      <td>145.072836</td>\n",
       "      <td>Como Private Hospital</td>\n",
       "    </tr>\n",
       "    <tr>\n",
       "      <th>1</th>\n",
       "      <td>1</td>\n",
       "      <td>hospital_002</td>\n",
       "      <td>-37.855469</td>\n",
       "      <td>145.268183</td>\n",
       "      <td>Mountain District Private Hospital</td>\n",
       "    </tr>\n",
       "  </tbody>\n",
       "</table>\n",
       "</div>"
      ],
      "text/plain": [
       "   Unnamed: 0            id        lat         lng  \\\n",
       "0           0  hospital_001 -37.990622  145.072836   \n",
       "1           1  hospital_002 -37.855469  145.268183   \n",
       "\n",
       "                                 name  \n",
       "0               Como Private Hospital  \n",
       "1  Mountain District Private Hospital  "
      ]
     },
     "execution_count": 34,
     "metadata": {},
     "output_type": "execute_result"
    }
   ],
   "source": [
    "# Reading in the excel data \n",
    "hospital_data = pd.read_excel('hospitals.xlsx')\n",
    "hospital_data.head(2)"
   ]
  },
  {
   "cell_type": "code",
   "execution_count": 35,
   "metadata": {},
   "outputs": [
    {
     "data": {
      "text/plain": [
       "(199, 5)"
      ]
     },
     "execution_count": 35,
     "metadata": {},
     "output_type": "execute_result"
    }
   ],
   "source": [
    "# Structure of the hospital data \n",
    "hospital_data.shape"
   ]
  },
  {
   "cell_type": "code",
   "execution_count": 36,
   "metadata": {},
   "outputs": [
    {
     "name": "stdout",
     "output_type": "stream",
     "text": [
      "<class 'pandas.core.frame.DataFrame'>\n",
      "RangeIndex: 199 entries, 0 to 198\n",
      "Data columns (total 5 columns):\n",
      " #   Column      Non-Null Count  Dtype  \n",
      "---  ------      --------------  -----  \n",
      " 0   Unnamed: 0  199 non-null    int64  \n",
      " 1   id          199 non-null    object \n",
      " 2   lat         199 non-null    float64\n",
      " 3   lng         199 non-null    float64\n",
      " 4   name        199 non-null    object \n",
      "dtypes: float64(2), int64(1), object(2)\n",
      "memory usage: 7.9+ KB\n"
     ]
    }
   ],
   "source": [
    "# General information about the hospital data \n",
    "hospital_data.info()"
   ]
  },
  {
   "cell_type": "code",
   "execution_count": 37,
   "metadata": {},
   "outputs": [
    {
     "data": {
      "text/html": [
       "<div>\n",
       "<style scoped>\n",
       "    .dataframe tbody tr th:only-of-type {\n",
       "        vertical-align: middle;\n",
       "    }\n",
       "\n",
       "    .dataframe tbody tr th {\n",
       "        vertical-align: top;\n",
       "    }\n",
       "\n",
       "    .dataframe thead th {\n",
       "        text-align: right;\n",
       "    }\n",
       "</style>\n",
       "<table border=\"1\" class=\"dataframe\">\n",
       "  <thead>\n",
       "    <tr style=\"text-align: right;\">\n",
       "      <th></th>\n",
       "      <th>id</th>\n",
       "      <th>lat</th>\n",
       "      <th>lng</th>\n",
       "      <th>name</th>\n",
       "    </tr>\n",
       "  </thead>\n",
       "  <tbody>\n",
       "    <tr>\n",
       "      <th>0</th>\n",
       "      <td>hospital_001</td>\n",
       "      <td>-37.990622</td>\n",
       "      <td>145.072836</td>\n",
       "      <td>Como Private Hospital</td>\n",
       "    </tr>\n",
       "    <tr>\n",
       "      <th>1</th>\n",
       "      <td>hospital_002</td>\n",
       "      <td>-37.855469</td>\n",
       "      <td>145.268183</td>\n",
       "      <td>Mountain District Private Hospital</td>\n",
       "    </tr>\n",
       "  </tbody>\n",
       "</table>\n",
       "</div>"
      ],
      "text/plain": [
       "             id        lat         lng                                name\n",
       "0  hospital_001 -37.990622  145.072836               Como Private Hospital\n",
       "1  hospital_002 -37.855469  145.268183  Mountain District Private Hospital"
      ]
     },
     "execution_count": 37,
     "metadata": {},
     "output_type": "execute_result"
    }
   ],
   "source": [
    "# Deleting unwanted columns \n",
    "del hospital_data['Unnamed: 0']\n",
    "hospital_data.head(2)"
   ]
  },
  {
   "cell_type": "markdown",
   "metadata": {},
   "source": [
    "### 2.1.6 Data : GTFS - Melbourne Train Information : Individual Text Files <a class=\"anchor\" id=\"sec_216\"></a>"
   ]
  },
  {
   "cell_type": "code",
   "execution_count": 38,
   "metadata": {},
   "outputs": [],
   "source": [
    "# Reading in the GTFS data \n",
    "agency_data = pd.read_csv(\"GTFS - Melbourne Train Information/agency.txt\")\n",
    "calendar_data = pd.read_csv(\"GTFS - Melbourne Train Information/calendar.txt\")\n",
    "calendar_dates_data = pd.read_csv(\"GTFS - Melbourne Train Information/calendar_dates.txt\")\n",
    "routes_data = pd.read_csv(\"GTFS - Melbourne Train Information/routes.txt\")\n",
    "shapes_data = pd.read_csv(\"GTFS - Melbourne Train Information/shapes.txt\")\n",
    "stop_times_data = pd.read_csv(\"GTFS - Melbourne Train Information/stop_times.txt\")\n",
    "stops_data = pd.read_csv(\"GTFS - Melbourne Train Information/stops.txt\")\n",
    "trips_data = pd.read_csv(\"GTFS - Melbourne Train Information/trips.txt\")"
   ]
  },
  {
   "cell_type": "markdown",
   "metadata": {},
   "source": [
    "### 2.1.7 Data : VIC Suburb Boundary <a class=\"anchor\" id=\"sec_217\"></a>"
   ]
  },
  {
   "cell_type": "code",
   "execution_count": 39,
   "metadata": {},
   "outputs": [],
   "source": [
    "# # # For reading in the shape files\n",
    "# # import geos\n",
    "\n",
    "# import shapefile\n",
    "# import geopandas\n",
    "# from shapely.geometry import Point, Polygon"
   ]
  },
  {
   "cell_type": "code",
   "execution_count": 40,
   "metadata": {},
   "outputs": [],
   "source": [
    "# gdf = geopandas.read_file(\"vic_suburb_boundary/VIC_LOCALITY_POLYGON_shp.shp\")"
   ]
  },
  {
   "cell_type": "code",
   "execution_count": 41,
   "metadata": {},
   "outputs": [],
   "source": [
    "# print(\"Shape of the Suburb File:\", gdf.shape)\n",
    "# gdf.head()"
   ]
  },
  {
   "cell_type": "markdown",
   "metadata": {},
   "source": [
    "##  2.2 Part B : Additional Computed Columns <a class=\"anchor\" id=\"sec_22\"></a>\n",
    "\n",
    "* This section revolves around computing the following additional columns!\n",
    "    * Suburb in which the property is present \n",
    "    * Distance to the nearest shopping center\n",
    "    * Nearest shopping center ID\n",
    "    * Distance to the nearest hospital \n",
    "    * Nearest hospital ID\n",
    "    * Distance to the nearest supermarket \n",
    "    * Nearest supermarket ID\n",
    "    * Distance to the nearest train-station \n",
    "    * Nearest train-station ID\n",
    "    * Minimum time taken to reach the CBD \n",
    "    * Transfer Flag indicating if there is a direct route \n",
    "    \n",
    "* The various distances have been calculated using the haversine distance.\n",
    "* I have even defined various functions to compute the distances and the IDS."
   ]
  },
  {
   "cell_type": "markdown",
   "metadata": {},
   "source": [
    "### Suburb\n",
    "* This specifies the suburb of the property.\n"
   ]
  },
  {
   "cell_type": "code",
   "execution_count": 42,
   "metadata": {},
   "outputs": [],
   "source": [
    "# Creating a new empty column for Suburb \n",
    "integrated_data['Suburb'] = 'not available'"
   ]
  },
  {
   "cell_type": "code",
   "execution_count": 43,
   "metadata": {},
   "outputs": [
    {
     "data": {
      "text/html": [
       "<div>\n",
       "<style scoped>\n",
       "    .dataframe tbody tr th:only-of-type {\n",
       "        vertical-align: middle;\n",
       "    }\n",
       "\n",
       "    .dataframe tbody tr th {\n",
       "        vertical-align: top;\n",
       "    }\n",
       "\n",
       "    .dataframe thead th {\n",
       "        text-align: right;\n",
       "    }\n",
       "</style>\n",
       "<table border=\"1\" class=\"dataframe\">\n",
       "  <thead>\n",
       "    <tr style=\"text-align: right;\">\n",
       "      <th></th>\n",
       "      <th>Property_id</th>\n",
       "      <th>lat</th>\n",
       "      <th>lng</th>\n",
       "      <th>addr_street</th>\n",
       "      <th>price</th>\n",
       "      <th>property_type</th>\n",
       "      <th>year</th>\n",
       "      <th>bedrooms</th>\n",
       "      <th>bathrooms</th>\n",
       "      <th>parking_space</th>\n",
       "      <th>Suburb</th>\n",
       "    </tr>\n",
       "  </thead>\n",
       "  <tbody>\n",
       "    <tr>\n",
       "      <th>0</th>\n",
       "      <td>53425</td>\n",
       "      <td>-37.813198</td>\n",
       "      <td>145.002348</td>\n",
       "      <td>50 Lambert Street</td>\n",
       "      <td>5984000</td>\n",
       "      <td>house</td>\n",
       "      <td>2010</td>\n",
       "      <td>3</td>\n",
       "      <td>1</td>\n",
       "      <td>1</td>\n",
       "      <td>not available</td>\n",
       "    </tr>\n",
       "    <tr>\n",
       "      <th>1</th>\n",
       "      <td>3979</td>\n",
       "      <td>-37.81578064</td>\n",
       "      <td>144.8942719</td>\n",
       "      <td>96 Stephen Street</td>\n",
       "      <td>7136000</td>\n",
       "      <td>house</td>\n",
       "      <td>2009</td>\n",
       "      <td>2</td>\n",
       "      <td>1</td>\n",
       "      <td>1</td>\n",
       "      <td>not available</td>\n",
       "    </tr>\n",
       "    <tr>\n",
       "      <th>2</th>\n",
       "      <td>20162</td>\n",
       "      <td>-37.800715999999994</td>\n",
       "      <td>144.973143</td>\n",
       "      <td>37 Owen Street</td>\n",
       "      <td>12870000</td>\n",
       "      <td>house</td>\n",
       "      <td>2011</td>\n",
       "      <td>2</td>\n",
       "      <td>1</td>\n",
       "      <td>1</td>\n",
       "      <td>not available</td>\n",
       "    </tr>\n",
       "    <tr>\n",
       "      <th>3</th>\n",
       "      <td>52140</td>\n",
       "      <td>-37.814572999999996</td>\n",
       "      <td>144.994122</td>\n",
       "      <td>11 Leeds Street</td>\n",
       "      <td>6314000</td>\n",
       "      <td>house</td>\n",
       "      <td>2015</td>\n",
       "      <td>1</td>\n",
       "      <td>1</td>\n",
       "      <td>1</td>\n",
       "      <td>not available</td>\n",
       "    </tr>\n",
       "    <tr>\n",
       "      <th>4</th>\n",
       "      <td>81404</td>\n",
       "      <td>-37.978701</td>\n",
       "      <td>145.199705</td>\n",
       "      <td>6 Campbell Street</td>\n",
       "      <td>4914000</td>\n",
       "      <td>house</td>\n",
       "      <td>2010</td>\n",
       "      <td>3</td>\n",
       "      <td>1</td>\n",
       "      <td>1</td>\n",
       "      <td>not available</td>\n",
       "    </tr>\n",
       "  </tbody>\n",
       "</table>\n",
       "</div>"
      ],
      "text/plain": [
       "  Property_id                  lat          lng        addr_street     price  \\\n",
       "0       53425           -37.813198   145.002348  50 Lambert Street   5984000   \n",
       "1        3979         -37.81578064  144.8942719  96 Stephen Street   7136000   \n",
       "2       20162  -37.800715999999994   144.973143     37 Owen Street  12870000   \n",
       "3       52140  -37.814572999999996   144.994122    11 Leeds Street   6314000   \n",
       "4       81404           -37.978701   145.199705  6 Campbell Street   4914000   \n",
       "\n",
       "  property_type  year bedrooms bathrooms parking_space         Suburb  \n",
       "0         house  2010        3         1             1  not available  \n",
       "1         house  2009        2         1             1  not available  \n",
       "2         house  2011        2         1             1  not available  \n",
       "3         house  2015        1         1             1  not available  \n",
       "4         house  2010        3         1             1  not available  "
      ]
     },
     "execution_count": 43,
     "metadata": {},
     "output_type": "execute_result"
    }
   ],
   "source": [
    "integrated_data.head()"
   ]
  },
  {
   "cell_type": "code",
   "execution_count": 44,
   "metadata": {},
   "outputs": [],
   "source": [
    "# # Creating a dictionary for suburb from the above shape files \n",
    "# suburbs_dictionary = dict(zip(list(gdf['VIC_LOCA_2']),list(gdf['geometry'])))"
   ]
  },
  {
   "cell_type": "code",
   "execution_count": 45,
   "metadata": {},
   "outputs": [],
   "source": [
    "# # This function returns the Suburb from the shape file data frame\n",
    "# def return_suburb(lng, lat):\n",
    "    \n",
    "#     # Dimensions of the given point \n",
    "#     given_point = Point(lng, lat)\n",
    "    \n",
    "#     # Iterating through the suburb dictionary \n",
    "#     for key,values in suburbs_dictionary.items():\n",
    "        \n",
    "#         # Creating the suburb based on values \n",
    "#         suburb = Polygon(values)\n",
    "        \n",
    "#         # Checking if the given point is contained in the suburb \n",
    "#         if suburb.contains(given_point):\n",
    "#             # Return the particular suburb \n",
    "#             return key\n",
    "#     return \"not available\""
   ]
  },
  {
   "cell_type": "code",
   "execution_count": 46,
   "metadata": {},
   "outputs": [],
   "source": [
    "# integrated_data['Suburb'] = integrated_data.apply(lambda row: return_suburb(row[\"lng\"], row[\"lat\"]), axis=1)"
   ]
  },
  {
   "cell_type": "code",
   "execution_count": 47,
   "metadata": {},
   "outputs": [
    {
     "data": {
      "text/html": [
       "<div>\n",
       "<style scoped>\n",
       "    .dataframe tbody tr th:only-of-type {\n",
       "        vertical-align: middle;\n",
       "    }\n",
       "\n",
       "    .dataframe tbody tr th {\n",
       "        vertical-align: top;\n",
       "    }\n",
       "\n",
       "    .dataframe thead th {\n",
       "        text-align: right;\n",
       "    }\n",
       "</style>\n",
       "<table border=\"1\" class=\"dataframe\">\n",
       "  <thead>\n",
       "    <tr style=\"text-align: right;\">\n",
       "      <th></th>\n",
       "      <th>Property_id</th>\n",
       "      <th>lat</th>\n",
       "      <th>lng</th>\n",
       "      <th>addr_street</th>\n",
       "      <th>price</th>\n",
       "      <th>property_type</th>\n",
       "      <th>year</th>\n",
       "      <th>bedrooms</th>\n",
       "      <th>bathrooms</th>\n",
       "      <th>parking_space</th>\n",
       "      <th>Suburb</th>\n",
       "    </tr>\n",
       "  </thead>\n",
       "  <tbody>\n",
       "    <tr>\n",
       "      <th>0</th>\n",
       "      <td>53425</td>\n",
       "      <td>-37.813198</td>\n",
       "      <td>145.002348</td>\n",
       "      <td>50 Lambert Street</td>\n",
       "      <td>5984000</td>\n",
       "      <td>house</td>\n",
       "      <td>2010</td>\n",
       "      <td>3</td>\n",
       "      <td>1</td>\n",
       "      <td>1</td>\n",
       "      <td>not available</td>\n",
       "    </tr>\n",
       "    <tr>\n",
       "      <th>1</th>\n",
       "      <td>3979</td>\n",
       "      <td>-37.81578064</td>\n",
       "      <td>144.8942719</td>\n",
       "      <td>96 Stephen Street</td>\n",
       "      <td>7136000</td>\n",
       "      <td>house</td>\n",
       "      <td>2009</td>\n",
       "      <td>2</td>\n",
       "      <td>1</td>\n",
       "      <td>1</td>\n",
       "      <td>not available</td>\n",
       "    </tr>\n",
       "    <tr>\n",
       "      <th>2</th>\n",
       "      <td>20162</td>\n",
       "      <td>-37.800715999999994</td>\n",
       "      <td>144.973143</td>\n",
       "      <td>37 Owen Street</td>\n",
       "      <td>12870000</td>\n",
       "      <td>house</td>\n",
       "      <td>2011</td>\n",
       "      <td>2</td>\n",
       "      <td>1</td>\n",
       "      <td>1</td>\n",
       "      <td>not available</td>\n",
       "    </tr>\n",
       "    <tr>\n",
       "      <th>3</th>\n",
       "      <td>52140</td>\n",
       "      <td>-37.814572999999996</td>\n",
       "      <td>144.994122</td>\n",
       "      <td>11 Leeds Street</td>\n",
       "      <td>6314000</td>\n",
       "      <td>house</td>\n",
       "      <td>2015</td>\n",
       "      <td>1</td>\n",
       "      <td>1</td>\n",
       "      <td>1</td>\n",
       "      <td>not available</td>\n",
       "    </tr>\n",
       "    <tr>\n",
       "      <th>4</th>\n",
       "      <td>81404</td>\n",
       "      <td>-37.978701</td>\n",
       "      <td>145.199705</td>\n",
       "      <td>6 Campbell Street</td>\n",
       "      <td>4914000</td>\n",
       "      <td>house</td>\n",
       "      <td>2010</td>\n",
       "      <td>3</td>\n",
       "      <td>1</td>\n",
       "      <td>1</td>\n",
       "      <td>not available</td>\n",
       "    </tr>\n",
       "  </tbody>\n",
       "</table>\n",
       "</div>"
      ],
      "text/plain": [
       "  Property_id                  lat          lng        addr_street     price  \\\n",
       "0       53425           -37.813198   145.002348  50 Lambert Street   5984000   \n",
       "1        3979         -37.81578064  144.8942719  96 Stephen Street   7136000   \n",
       "2       20162  -37.800715999999994   144.973143     37 Owen Street  12870000   \n",
       "3       52140  -37.814572999999996   144.994122    11 Leeds Street   6314000   \n",
       "4       81404           -37.978701   145.199705  6 Campbell Street   4914000   \n",
       "\n",
       "  property_type  year bedrooms bathrooms parking_space         Suburb  \n",
       "0         house  2010        3         1             1  not available  \n",
       "1         house  2009        2         1             1  not available  \n",
       "2         house  2011        2         1             1  not available  \n",
       "3         house  2015        1         1             1  not available  \n",
       "4         house  2010        3         1             1  not available  "
      ]
     },
     "execution_count": 47,
     "metadata": {},
     "output_type": "execute_result"
    }
   ],
   "source": [
    "integrated_data.head()"
   ]
  },
  {
   "cell_type": "markdown",
   "metadata": {},
   "source": [
    "### 2.2.1 Distance_to_sc <a class=\"anchor\" id=\"sec_221\"></a>\n",
    "\n",
    "* This gives is the Euclidean distance from the nearest shopping center to the given property.\n",
    "* Default Value:0"
   ]
  },
  {
   "cell_type": "code",
   "execution_count": 48,
   "metadata": {},
   "outputs": [],
   "source": [
    "# Function to calculate the distance between two geological locations \n",
    "def haversine_distance(lat1, lon1, lat2, lon2):\n",
    "   # As per the specification provided \n",
    "   r = 6378\n",
    "\n",
    "   # Calculating the phi values  \n",
    "   phi1 = np.radians(lat1)\n",
    "   phi2 = np.radians(lat2)\n",
    "\n",
    "   # Calculating the delta and lambda values  \n",
    "   delta_phi = np.radians(lat2 - lat1)\n",
    "   delta_lambda = np.radians(lon2 - lon1)\n",
    "    \n",
    "   # Distance calculated as per the haversine distance formula \n",
    "   a = np.sin(delta_phi / 2)**2 + np.cos(phi1) * np.cos(phi2) *   np.sin(delta_lambda / 2)**2\n",
    "   hav_distance = r * (2 * np.arctan2(np.sqrt(a), np.sqrt(1 - a)))\n",
    "   return np.round(hav_distance, 4)"
   ]
  },
  {
   "cell_type": "code",
   "execution_count": 49,
   "metadata": {},
   "outputs": [
    {
     "data": {
      "text/html": [
       "<div>\n",
       "<style scoped>\n",
       "    .dataframe tbody tr th:only-of-type {\n",
       "        vertical-align: middle;\n",
       "    }\n",
       "\n",
       "    .dataframe tbody tr th {\n",
       "        vertical-align: top;\n",
       "    }\n",
       "\n",
       "    .dataframe thead th {\n",
       "        text-align: right;\n",
       "    }\n",
       "</style>\n",
       "<table border=\"1\" class=\"dataframe\">\n",
       "  <thead>\n",
       "    <tr style=\"text-align: right;\">\n",
       "      <th></th>\n",
       "      <th>sc_id</th>\n",
       "      <th>lat</th>\n",
       "      <th>lng</th>\n",
       "      <th>lat_long_id</th>\n",
       "    </tr>\n",
       "  </thead>\n",
       "  <tbody>\n",
       "    <tr>\n",
       "      <th>0</th>\n",
       "      <td>SC_001</td>\n",
       "      <td>-37.767915</td>\n",
       "      <td>145.041790</td>\n",
       "      <td>(-37.767915, 145.04179, SC_001)</td>\n",
       "    </tr>\n",
       "    <tr>\n",
       "      <th>1</th>\n",
       "      <td>SC_002</td>\n",
       "      <td>-37.819375</td>\n",
       "      <td>145.171472</td>\n",
       "      <td>(-37.819375, 145.171472, SC_002)</td>\n",
       "    </tr>\n",
       "  </tbody>\n",
       "</table>\n",
       "</div>"
      ],
      "text/plain": [
       "    sc_id        lat         lng                       lat_long_id\n",
       "0  SC_001 -37.767915  145.041790   (-37.767915, 145.04179, SC_001)\n",
       "1  SC_002 -37.819375  145.171472  (-37.819375, 145.171472, SC_002)"
      ]
     },
     "execution_count": 49,
     "metadata": {},
     "output_type": "execute_result"
    }
   ],
   "source": [
    "# In order to later extract the id in an easier manner \n",
    "shopingcenter_data['lat_long_id'] = list(zip(shopingcenter_data.lat, shopingcenter_data.lng, shopingcenter_data.sc_id ))\n",
    "shopingcenter_data_lat_long_id = shopingcenter_data['lat_long_id'].to_list()\n",
    "shopingcenter_data.head(2)"
   ]
  },
  {
   "cell_type": "code",
   "execution_count": 50,
   "metadata": {},
   "outputs": [],
   "source": [
    "# Function to calculate the nearest shoping center distance \n",
    "def nearest_shopingcenter_distance(row):\n",
    "    \n",
    "    # Getting the property coordinates \n",
    "    prop_lng = float(row.lng)\n",
    "    prop_lat = float(row.lat)\n",
    "    \n",
    "    # Initializing dictionaries to store the distance values \n",
    "    distance_dict = dict()\n",
    "    \n",
    "    # Iterating through the list \n",
    "    for location in shopingcenter_data_lat_long_id:\n",
    "        super_lat = float(location[0])\n",
    "        super_lng = float(location[1])\n",
    "        \n",
    "        # Calculating the distance using the function \n",
    "        calc_distance = haversine_distance(prop_lat, prop_lng, super_lat, super_lng)\n",
    "        distance_dict[location] = calc_distance\n",
    "    \n",
    "    # Storing all the values \n",
    "    all_values = distance_dict.values()\n",
    "    \n",
    "    # Calculating the min value \n",
    "    nearest_distance = min(all_values)\n",
    "    \n",
    "    # Returning the least distance \n",
    "    return nearest_distance"
   ]
  },
  {
   "cell_type": "code",
   "execution_count": 51,
   "metadata": {},
   "outputs": [
    {
     "data": {
      "text/html": [
       "<div>\n",
       "<style scoped>\n",
       "    .dataframe tbody tr th:only-of-type {\n",
       "        vertical-align: middle;\n",
       "    }\n",
       "\n",
       "    .dataframe tbody tr th {\n",
       "        vertical-align: top;\n",
       "    }\n",
       "\n",
       "    .dataframe thead th {\n",
       "        text-align: right;\n",
       "    }\n",
       "</style>\n",
       "<table border=\"1\" class=\"dataframe\">\n",
       "  <thead>\n",
       "    <tr style=\"text-align: right;\">\n",
       "      <th></th>\n",
       "      <th>Property_id</th>\n",
       "      <th>lat</th>\n",
       "      <th>lng</th>\n",
       "      <th>addr_street</th>\n",
       "      <th>price</th>\n",
       "      <th>property_type</th>\n",
       "      <th>year</th>\n",
       "      <th>bedrooms</th>\n",
       "      <th>bathrooms</th>\n",
       "      <th>parking_space</th>\n",
       "      <th>Suburb</th>\n",
       "      <th>Distance_to_sc</th>\n",
       "    </tr>\n",
       "  </thead>\n",
       "  <tbody>\n",
       "    <tr>\n",
       "      <th>0</th>\n",
       "      <td>53425</td>\n",
       "      <td>-37.813198</td>\n",
       "      <td>145.002348</td>\n",
       "      <td>50 Lambert Street</td>\n",
       "      <td>5984000</td>\n",
       "      <td>house</td>\n",
       "      <td>2010</td>\n",
       "      <td>3</td>\n",
       "      <td>1</td>\n",
       "      <td>1</td>\n",
       "      <td>not available</td>\n",
       "      <td>2.6713</td>\n",
       "    </tr>\n",
       "    <tr>\n",
       "      <th>1</th>\n",
       "      <td>3979</td>\n",
       "      <td>-37.81578064</td>\n",
       "      <td>144.8942719</td>\n",
       "      <td>96 Stephen Street</td>\n",
       "      <td>7136000</td>\n",
       "      <td>house</td>\n",
       "      <td>2009</td>\n",
       "      <td>2</td>\n",
       "      <td>1</td>\n",
       "      <td>1</td>\n",
       "      <td>not available</td>\n",
       "      <td>3.7905</td>\n",
       "    </tr>\n",
       "  </tbody>\n",
       "</table>\n",
       "</div>"
      ],
      "text/plain": [
       "  Property_id           lat          lng        addr_street    price  \\\n",
       "0       53425    -37.813198   145.002348  50 Lambert Street  5984000   \n",
       "1        3979  -37.81578064  144.8942719  96 Stephen Street  7136000   \n",
       "\n",
       "  property_type  year bedrooms bathrooms parking_space         Suburb  \\\n",
       "0         house  2010        3         1             1  not available   \n",
       "1         house  2009        2         1             1  not available   \n",
       "\n",
       "   Distance_to_sc  \n",
       "0          2.6713  \n",
       "1          3.7905  "
      ]
     },
     "execution_count": 51,
     "metadata": {},
     "output_type": "execute_result"
    }
   ],
   "source": [
    "# Nearest Shopping Centre distance\n",
    "integrated_data['Distance_to_sc'] = integrated_data.apply(lambda x: nearest_shopingcenter_distance(x), axis = 1)\n",
    "integrated_data.head(2)"
   ]
  },
  {
   "cell_type": "code",
   "execution_count": 52,
   "metadata": {},
   "outputs": [
    {
     "data": {
      "text/html": [
       "<div>\n",
       "<style scoped>\n",
       "    .dataframe tbody tr th:only-of-type {\n",
       "        vertical-align: middle;\n",
       "    }\n",
       "\n",
       "    .dataframe tbody tr th {\n",
       "        vertical-align: top;\n",
       "    }\n",
       "\n",
       "    .dataframe thead th {\n",
       "        text-align: right;\n",
       "    }\n",
       "</style>\n",
       "<table border=\"1\" class=\"dataframe\">\n",
       "  <thead>\n",
       "    <tr style=\"text-align: right;\">\n",
       "      <th></th>\n",
       "      <th>Property_id</th>\n",
       "      <th>lat</th>\n",
       "      <th>lng</th>\n",
       "      <th>addr_street</th>\n",
       "      <th>price</th>\n",
       "      <th>property_type</th>\n",
       "      <th>year</th>\n",
       "      <th>bedrooms</th>\n",
       "      <th>bathrooms</th>\n",
       "      <th>parking_space</th>\n",
       "      <th>Suburb</th>\n",
       "      <th>Distance_to_sc</th>\n",
       "    </tr>\n",
       "  </thead>\n",
       "  <tbody>\n",
       "    <tr>\n",
       "      <th>0</th>\n",
       "      <td>53425</td>\n",
       "      <td>-37.813198</td>\n",
       "      <td>145.002348</td>\n",
       "      <td>50 Lambert Street</td>\n",
       "      <td>5984000</td>\n",
       "      <td>house</td>\n",
       "      <td>2010</td>\n",
       "      <td>3</td>\n",
       "      <td>1</td>\n",
       "      <td>1</td>\n",
       "      <td>not available</td>\n",
       "      <td>2.6713</td>\n",
       "    </tr>\n",
       "    <tr>\n",
       "      <th>1</th>\n",
       "      <td>3979</td>\n",
       "      <td>-37.81578064</td>\n",
       "      <td>144.8942719</td>\n",
       "      <td>96 Stephen Street</td>\n",
       "      <td>7136000</td>\n",
       "      <td>house</td>\n",
       "      <td>2009</td>\n",
       "      <td>2</td>\n",
       "      <td>1</td>\n",
       "      <td>1</td>\n",
       "      <td>not available</td>\n",
       "      <td>3.7905</td>\n",
       "    </tr>\n",
       "  </tbody>\n",
       "</table>\n",
       "</div>"
      ],
      "text/plain": [
       "  Property_id           lat          lng        addr_street    price  \\\n",
       "0       53425    -37.813198   145.002348  50 Lambert Street  5984000   \n",
       "1        3979  -37.81578064  144.8942719  96 Stephen Street  7136000   \n",
       "\n",
       "  property_type  year bedrooms bathrooms parking_space         Suburb  \\\n",
       "0         house  2010        3         1             1  not available   \n",
       "1         house  2009        2         1             1  not available   \n",
       "\n",
       "   Distance_to_sc  \n",
       "0          2.6713  \n",
       "1          3.7905  "
      ]
     },
     "execution_count": 52,
     "metadata": {},
     "output_type": "execute_result"
    }
   ],
   "source": [
    "integrated_data.head(2)"
   ]
  },
  {
   "cell_type": "markdown",
   "metadata": {},
   "source": [
    "### 2.2.2 Shopping_center_id  <a class=\"anchor\" id=\"sec_222\"></a>\n",
    "* This gives us the id of the closest shopping center to the property.\n",
    "* Default Value: 0\n"
   ]
  },
  {
   "cell_type": "code",
   "execution_count": 53,
   "metadata": {},
   "outputs": [],
   "source": [
    "# Function to calculate the nearest shoping center ID \n",
    "def nearest_shopingcenter_id(row):  \n",
    "    \n",
    "    # Property Coordinates \n",
    "    prop_lng = float(row.lng)\n",
    "    prop_lat = float(row.lat)\n",
    "    \n",
    "    # Dictionary to store the IDs \n",
    "    distance_id_dict = dict()\n",
    "    \n",
    "    # Iterating through the list \n",
    "    for location in shopingcenter_data_lat_long_id:\n",
    "        sc_lat = float(location[0])\n",
    "        sc_lng = float(location[1])\n",
    "        sc_ID = location[2]\n",
    "        \n",
    "        # Calculating the distance \n",
    "        calc_distance = haversine_distance(prop_lat, prop_lng, sc_lat, sc_lng)\n",
    "        distance_id_dict[sc_ID] = calc_distance\n",
    "    \n",
    "    # Sorting the distance dictionary \n",
    "    distance_id_dict = sorted(distance_id_dict.items(), key = lambda x: x[1])\n",
    "        \n",
    "    nearest_id = distance_id_dict[0][0]\n",
    "    \n",
    "    # Returning the nearest ID \n",
    "    return nearest_id"
   ]
  },
  {
   "cell_type": "code",
   "execution_count": 54,
   "metadata": {},
   "outputs": [
    {
     "data": {
      "text/html": [
       "<div>\n",
       "<style scoped>\n",
       "    .dataframe tbody tr th:only-of-type {\n",
       "        vertical-align: middle;\n",
       "    }\n",
       "\n",
       "    .dataframe tbody tr th {\n",
       "        vertical-align: top;\n",
       "    }\n",
       "\n",
       "    .dataframe thead th {\n",
       "        text-align: right;\n",
       "    }\n",
       "</style>\n",
       "<table border=\"1\" class=\"dataframe\">\n",
       "  <thead>\n",
       "    <tr style=\"text-align: right;\">\n",
       "      <th></th>\n",
       "      <th>Property_id</th>\n",
       "      <th>lat</th>\n",
       "      <th>lng</th>\n",
       "      <th>addr_street</th>\n",
       "      <th>price</th>\n",
       "      <th>property_type</th>\n",
       "      <th>year</th>\n",
       "      <th>bedrooms</th>\n",
       "      <th>bathrooms</th>\n",
       "      <th>parking_space</th>\n",
       "      <th>Suburb</th>\n",
       "      <th>Distance_to_sc</th>\n",
       "      <th>Shopping_center_id</th>\n",
       "    </tr>\n",
       "  </thead>\n",
       "  <tbody>\n",
       "    <tr>\n",
       "      <th>0</th>\n",
       "      <td>53425</td>\n",
       "      <td>-37.813198</td>\n",
       "      <td>145.002348</td>\n",
       "      <td>50 Lambert Street</td>\n",
       "      <td>5984000</td>\n",
       "      <td>house</td>\n",
       "      <td>2010</td>\n",
       "      <td>3</td>\n",
       "      <td>1</td>\n",
       "      <td>1</td>\n",
       "      <td>not available</td>\n",
       "      <td>2.6713</td>\n",
       "      <td>SC_068</td>\n",
       "    </tr>\n",
       "    <tr>\n",
       "      <th>1</th>\n",
       "      <td>3979</td>\n",
       "      <td>-37.81578064</td>\n",
       "      <td>144.8942719</td>\n",
       "      <td>96 Stephen Street</td>\n",
       "      <td>7136000</td>\n",
       "      <td>house</td>\n",
       "      <td>2009</td>\n",
       "      <td>2</td>\n",
       "      <td>1</td>\n",
       "      <td>1</td>\n",
       "      <td>not available</td>\n",
       "      <td>3.7905</td>\n",
       "      <td>SC_043</td>\n",
       "    </tr>\n",
       "  </tbody>\n",
       "</table>\n",
       "</div>"
      ],
      "text/plain": [
       "  Property_id           lat          lng        addr_street    price  \\\n",
       "0       53425    -37.813198   145.002348  50 Lambert Street  5984000   \n",
       "1        3979  -37.81578064  144.8942719  96 Stephen Street  7136000   \n",
       "\n",
       "  property_type  year bedrooms bathrooms parking_space         Suburb  \\\n",
       "0         house  2010        3         1             1  not available   \n",
       "1         house  2009        2         1             1  not available   \n",
       "\n",
       "   Distance_to_sc Shopping_center_id  \n",
       "0          2.6713             SC_068  \n",
       "1          3.7905             SC_043  "
      ]
     },
     "execution_count": 54,
     "metadata": {},
     "output_type": "execute_result"
    }
   ],
   "source": [
    "# Nearest Shopping Centre ID \n",
    "integrated_data['Shopping_center_id'] = integrated_data.apply(lambda x: nearest_shopingcenter_id(x), axis = 1)\n",
    "integrated_data.head(2)"
   ]
  },
  {
   "cell_type": "markdown",
   "metadata": {},
   "source": [
    "### 2.2.3 Distance_to_hospital <a class=\"anchor\" id=\"sec_223\"></a>\n",
    "\n",
    "* This is the Euclidean distance of the property to the closest hospital."
   ]
  },
  {
   "cell_type": "code",
   "execution_count": 55,
   "metadata": {},
   "outputs": [
    {
     "data": {
      "text/html": [
       "<div>\n",
       "<style scoped>\n",
       "    .dataframe tbody tr th:only-of-type {\n",
       "        vertical-align: middle;\n",
       "    }\n",
       "\n",
       "    .dataframe tbody tr th {\n",
       "        vertical-align: top;\n",
       "    }\n",
       "\n",
       "    .dataframe thead th {\n",
       "        text-align: right;\n",
       "    }\n",
       "</style>\n",
       "<table border=\"1\" class=\"dataframe\">\n",
       "  <thead>\n",
       "    <tr style=\"text-align: right;\">\n",
       "      <th></th>\n",
       "      <th>id</th>\n",
       "      <th>lat</th>\n",
       "      <th>lng</th>\n",
       "      <th>name</th>\n",
       "    </tr>\n",
       "  </thead>\n",
       "  <tbody>\n",
       "    <tr>\n",
       "      <th>0</th>\n",
       "      <td>hospital_001</td>\n",
       "      <td>-37.990622</td>\n",
       "      <td>145.072836</td>\n",
       "      <td>Como Private Hospital</td>\n",
       "    </tr>\n",
       "    <tr>\n",
       "      <th>1</th>\n",
       "      <td>hospital_002</td>\n",
       "      <td>-37.855469</td>\n",
       "      <td>145.268183</td>\n",
       "      <td>Mountain District Private Hospital</td>\n",
       "    </tr>\n",
       "  </tbody>\n",
       "</table>\n",
       "</div>"
      ],
      "text/plain": [
       "             id        lat         lng                                name\n",
       "0  hospital_001 -37.990622  145.072836               Como Private Hospital\n",
       "1  hospital_002 -37.855469  145.268183  Mountain District Private Hospital"
      ]
     },
     "execution_count": 55,
     "metadata": {},
     "output_type": "execute_result"
    }
   ],
   "source": [
    "hospital_data.head(2)"
   ]
  },
  {
   "cell_type": "code",
   "execution_count": 56,
   "metadata": {},
   "outputs": [
    {
     "data": {
      "text/html": [
       "<div>\n",
       "<style scoped>\n",
       "    .dataframe tbody tr th:only-of-type {\n",
       "        vertical-align: middle;\n",
       "    }\n",
       "\n",
       "    .dataframe tbody tr th {\n",
       "        vertical-align: top;\n",
       "    }\n",
       "\n",
       "    .dataframe thead th {\n",
       "        text-align: right;\n",
       "    }\n",
       "</style>\n",
       "<table border=\"1\" class=\"dataframe\">\n",
       "  <thead>\n",
       "    <tr style=\"text-align: right;\">\n",
       "      <th></th>\n",
       "      <th>id</th>\n",
       "      <th>lat</th>\n",
       "      <th>lng</th>\n",
       "      <th>name</th>\n",
       "      <th>lat_long_id</th>\n",
       "    </tr>\n",
       "  </thead>\n",
       "  <tbody>\n",
       "    <tr>\n",
       "      <th>0</th>\n",
       "      <td>hospital_001</td>\n",
       "      <td>-37.990622</td>\n",
       "      <td>145.072836</td>\n",
       "      <td>Como Private Hospital</td>\n",
       "      <td>(-37.99062199999999, 145.072836, hospital_001)</td>\n",
       "    </tr>\n",
       "    <tr>\n",
       "      <th>1</th>\n",
       "      <td>hospital_002</td>\n",
       "      <td>-37.855469</td>\n",
       "      <td>145.268183</td>\n",
       "      <td>Mountain District Private Hospital</td>\n",
       "      <td>(-37.8554685, 145.2681831, hospital_002)</td>\n",
       "    </tr>\n",
       "  </tbody>\n",
       "</table>\n",
       "</div>"
      ],
      "text/plain": [
       "             id        lat         lng                                name  \\\n",
       "0  hospital_001 -37.990622  145.072836               Como Private Hospital   \n",
       "1  hospital_002 -37.855469  145.268183  Mountain District Private Hospital   \n",
       "\n",
       "                                      lat_long_id  \n",
       "0  (-37.99062199999999, 145.072836, hospital_001)  \n",
       "1        (-37.8554685, 145.2681831, hospital_002)  "
      ]
     },
     "execution_count": 56,
     "metadata": {},
     "output_type": "execute_result"
    }
   ],
   "source": [
    "# For easier data retrieval \n",
    "hospital_data['lat_long_id'] = list(zip(hospital_data.lat, hospital_data.lng, hospital_data.id ))\n",
    "hospital_data_lat_long_id = hospital_data['lat_long_id'].to_list()\n",
    "hospital_data.head(2)"
   ]
  },
  {
   "cell_type": "code",
   "execution_count": 57,
   "metadata": {},
   "outputs": [],
   "source": [
    "# Function to calculate the nearest hospital distance\n",
    "def nearest_hospital_distance(row):\n",
    "    \n",
    "    # Coordinates of the property \n",
    "    prop_lng = float(row.lng)\n",
    "    prop_lat = float(row.lat)\n",
    "    \n",
    "    # Dictionary to store the various distance values \n",
    "    distance_dict = dict()\n",
    "    \n",
    "    # Iterating through the dataset\n",
    "    for location in hospital_data_lat_long_id:\n",
    "        hospital_lat = float(location[0])\n",
    "        hospital_lng = float(location[1])\n",
    "        \n",
    "        # Calculating the distance\n",
    "        calc_distance = haversine_distance(prop_lat, prop_lng, hospital_lat, hospital_lng)\n",
    "        distance_dict[location] = calc_distance\n",
    "     \n",
    "    # Getting all the values to calculate the minimum value \n",
    "    all_values = distance_dict.values()\n",
    "    nearest_distance = min(all_values)\n",
    "    \n",
    "    return nearest_distance"
   ]
  },
  {
   "cell_type": "code",
   "execution_count": 58,
   "metadata": {},
   "outputs": [
    {
     "data": {
      "text/html": [
       "<div>\n",
       "<style scoped>\n",
       "    .dataframe tbody tr th:only-of-type {\n",
       "        vertical-align: middle;\n",
       "    }\n",
       "\n",
       "    .dataframe tbody tr th {\n",
       "        vertical-align: top;\n",
       "    }\n",
       "\n",
       "    .dataframe thead th {\n",
       "        text-align: right;\n",
       "    }\n",
       "</style>\n",
       "<table border=\"1\" class=\"dataframe\">\n",
       "  <thead>\n",
       "    <tr style=\"text-align: right;\">\n",
       "      <th></th>\n",
       "      <th>Property_id</th>\n",
       "      <th>lat</th>\n",
       "      <th>lng</th>\n",
       "      <th>addr_street</th>\n",
       "      <th>price</th>\n",
       "      <th>property_type</th>\n",
       "      <th>year</th>\n",
       "      <th>bedrooms</th>\n",
       "      <th>bathrooms</th>\n",
       "      <th>parking_space</th>\n",
       "      <th>Suburb</th>\n",
       "      <th>Distance_to_sc</th>\n",
       "      <th>Shopping_center_id</th>\n",
       "      <th>Distance_to_hospital</th>\n",
       "    </tr>\n",
       "  </thead>\n",
       "  <tbody>\n",
       "    <tr>\n",
       "      <th>0</th>\n",
       "      <td>53425</td>\n",
       "      <td>-37.813198</td>\n",
       "      <td>145.002348</td>\n",
       "      <td>50 Lambert Street</td>\n",
       "      <td>5984000</td>\n",
       "      <td>house</td>\n",
       "      <td>2010</td>\n",
       "      <td>3</td>\n",
       "      <td>1</td>\n",
       "      <td>1</td>\n",
       "      <td>not available</td>\n",
       "      <td>2.6713</td>\n",
       "      <td>SC_068</td>\n",
       "      <td>0.2982</td>\n",
       "    </tr>\n",
       "    <tr>\n",
       "      <th>1</th>\n",
       "      <td>3979</td>\n",
       "      <td>-37.81578064</td>\n",
       "      <td>144.8942719</td>\n",
       "      <td>96 Stephen Street</td>\n",
       "      <td>7136000</td>\n",
       "      <td>house</td>\n",
       "      <td>2009</td>\n",
       "      <td>2</td>\n",
       "      <td>1</td>\n",
       "      <td>1</td>\n",
       "      <td>not available</td>\n",
       "      <td>3.7905</td>\n",
       "      <td>SC_043</td>\n",
       "      <td>2.6193</td>\n",
       "    </tr>\n",
       "  </tbody>\n",
       "</table>\n",
       "</div>"
      ],
      "text/plain": [
       "  Property_id           lat          lng        addr_street    price  \\\n",
       "0       53425    -37.813198   145.002348  50 Lambert Street  5984000   \n",
       "1        3979  -37.81578064  144.8942719  96 Stephen Street  7136000   \n",
       "\n",
       "  property_type  year bedrooms bathrooms parking_space         Suburb  \\\n",
       "0         house  2010        3         1             1  not available   \n",
       "1         house  2009        2         1             1  not available   \n",
       "\n",
       "   Distance_to_sc Shopping_center_id  Distance_to_hospital  \n",
       "0          2.6713             SC_068                0.2982  \n",
       "1          3.7905             SC_043                2.6193  "
      ]
     },
     "execution_count": 58,
     "metadata": {},
     "output_type": "execute_result"
    }
   ],
   "source": [
    "# Nearest Hospital distance\n",
    "integrated_data['Distance_to_hospital'] = integrated_data.apply(lambda x: nearest_hospital_distance(x), axis = 1)\n",
    "integrated_data.head(2)"
   ]
  },
  {
   "cell_type": "markdown",
   "metadata": {},
   "source": [
    "### 2.2.4 Hospital_id <a class=\"anchor\" id=\"sec_224\"></a>\n",
    "\n",
    "* This is the hospital id which is closest to the property."
   ]
  },
  {
   "cell_type": "code",
   "execution_count": 59,
   "metadata": {},
   "outputs": [],
   "source": [
    "# Function to return the nearest hospital ID \n",
    "def nearest_hospital_id(row):  \n",
    "    \n",
    "    # Property Coordinates \n",
    "    prop_lng = float(row.lng)\n",
    "    prop_lat = float(row.lat)\n",
    "    \n",
    "    # Dictionary to store the values \n",
    "    distance_id_dict = dict()\n",
    "    \n",
    "    # Iterating through the dataset \n",
    "    for location in hospital_data_lat_long_id:\n",
    "        hospital_lat = float(location[0])\n",
    "        hospital_lng = float(location[1])\n",
    "        hospital_ID = location[2]\n",
    "        \n",
    "        # Distance calculation \n",
    "        calc_distance = haversine_distance(prop_lat, prop_lng, hospital_lat, hospital_lng)\n",
    "        distance_id_dict[hospital_ID] = calc_distance\n",
    "    \n",
    "    # Sorting the distance dictionary \n",
    "    distance_id_dict = sorted(distance_id_dict.items(), key = lambda x: x[1])\n",
    "        \n",
    "    nearest_id = distance_id_dict[0][0]\n",
    "    \n",
    "    # Returning the nearest ID \n",
    "    return nearest_id"
   ]
  },
  {
   "cell_type": "code",
   "execution_count": 60,
   "metadata": {},
   "outputs": [
    {
     "data": {
      "text/html": [
       "<div>\n",
       "<style scoped>\n",
       "    .dataframe tbody tr th:only-of-type {\n",
       "        vertical-align: middle;\n",
       "    }\n",
       "\n",
       "    .dataframe tbody tr th {\n",
       "        vertical-align: top;\n",
       "    }\n",
       "\n",
       "    .dataframe thead th {\n",
       "        text-align: right;\n",
       "    }\n",
       "</style>\n",
       "<table border=\"1\" class=\"dataframe\">\n",
       "  <thead>\n",
       "    <tr style=\"text-align: right;\">\n",
       "      <th></th>\n",
       "      <th>Property_id</th>\n",
       "      <th>lat</th>\n",
       "      <th>lng</th>\n",
       "      <th>addr_street</th>\n",
       "      <th>price</th>\n",
       "      <th>property_type</th>\n",
       "      <th>year</th>\n",
       "      <th>bedrooms</th>\n",
       "      <th>bathrooms</th>\n",
       "      <th>parking_space</th>\n",
       "      <th>Suburb</th>\n",
       "      <th>Distance_to_sc</th>\n",
       "      <th>Shopping_center_id</th>\n",
       "      <th>Distance_to_hospital</th>\n",
       "      <th>Hospital_id</th>\n",
       "    </tr>\n",
       "  </thead>\n",
       "  <tbody>\n",
       "    <tr>\n",
       "      <th>0</th>\n",
       "      <td>53425</td>\n",
       "      <td>-37.813198</td>\n",
       "      <td>145.002348</td>\n",
       "      <td>50 Lambert Street</td>\n",
       "      <td>5984000</td>\n",
       "      <td>house</td>\n",
       "      <td>2010</td>\n",
       "      <td>3</td>\n",
       "      <td>1</td>\n",
       "      <td>1</td>\n",
       "      <td>not available</td>\n",
       "      <td>2.6713</td>\n",
       "      <td>SC_068</td>\n",
       "      <td>0.2982</td>\n",
       "      <td>hospital_134</td>\n",
       "    </tr>\n",
       "    <tr>\n",
       "      <th>1</th>\n",
       "      <td>3979</td>\n",
       "      <td>-37.81578064</td>\n",
       "      <td>144.8942719</td>\n",
       "      <td>96 Stephen Street</td>\n",
       "      <td>7136000</td>\n",
       "      <td>house</td>\n",
       "      <td>2009</td>\n",
       "      <td>2</td>\n",
       "      <td>1</td>\n",
       "      <td>1</td>\n",
       "      <td>not available</td>\n",
       "      <td>3.7905</td>\n",
       "      <td>SC_043</td>\n",
       "      <td>2.6193</td>\n",
       "      <td>hospital_056</td>\n",
       "    </tr>\n",
       "  </tbody>\n",
       "</table>\n",
       "</div>"
      ],
      "text/plain": [
       "  Property_id           lat          lng        addr_street    price  \\\n",
       "0       53425    -37.813198   145.002348  50 Lambert Street  5984000   \n",
       "1        3979  -37.81578064  144.8942719  96 Stephen Street  7136000   \n",
       "\n",
       "  property_type  year bedrooms bathrooms parking_space         Suburb  \\\n",
       "0         house  2010        3         1             1  not available   \n",
       "1         house  2009        2         1             1  not available   \n",
       "\n",
       "   Distance_to_sc Shopping_center_id  Distance_to_hospital   Hospital_id  \n",
       "0          2.6713             SC_068                0.2982  hospital_134  \n",
       "1          3.7905             SC_043                2.6193  hospital_056  "
      ]
     },
     "execution_count": 60,
     "metadata": {},
     "output_type": "execute_result"
    }
   ],
   "source": [
    "# Nearest Hospital ID \n",
    "integrated_data['Hospital_id'] = integrated_data.apply(lambda x: nearest_hospital_id(x), axis = 1)\n",
    "integrated_data.head(2)"
   ]
  },
  {
   "cell_type": "markdown",
   "metadata": {},
   "source": [
    "### 2.2.5 Distance_to_supermarket <a class=\"anchor\" id=\"sec_225\"></a>\n",
    "\n",
    "* This corresponds to the distance to the supermarket which is present closest to the property."
   ]
  },
  {
   "cell_type": "code",
   "execution_count": 61,
   "metadata": {},
   "outputs": [
    {
     "data": {
      "text/html": [
       "<div>\n",
       "<style scoped>\n",
       "    .dataframe tbody tr th:only-of-type {\n",
       "        vertical-align: middle;\n",
       "    }\n",
       "\n",
       "    .dataframe tbody tr th {\n",
       "        vertical-align: top;\n",
       "    }\n",
       "\n",
       "    .dataframe thead th {\n",
       "        text-align: right;\n",
       "    }\n",
       "</style>\n",
       "<table border=\"1\" class=\"dataframe\">\n",
       "  <thead>\n",
       "    <tr style=\"text-align: right;\">\n",
       "      <th></th>\n",
       "      <th>id</th>\n",
       "      <th>lat</th>\n",
       "      <th>lng</th>\n",
       "      <th>type</th>\n",
       "      <th>lat_long</th>\n",
       "    </tr>\n",
       "  </thead>\n",
       "  <tbody>\n",
       "    <tr>\n",
       "      <th>0</th>\n",
       "      <td>S_001</td>\n",
       "      <td>-37.883978</td>\n",
       "      <td>144.735287</td>\n",
       "      <td>Woolworths</td>\n",
       "      <td>0.0</td>\n",
       "    </tr>\n",
       "    <tr>\n",
       "      <th>1</th>\n",
       "      <td>S_002</td>\n",
       "      <td>-41.161591</td>\n",
       "      <td>147.514797</td>\n",
       "      <td>Woolworths</td>\n",
       "      <td>0.0</td>\n",
       "    </tr>\n",
       "  </tbody>\n",
       "</table>\n",
       "</div>"
      ],
      "text/plain": [
       "      id         lat         lng        type  lat_long\n",
       "0  S_001  -37.883978  144.735287  Woolworths       0.0\n",
       "1  S_002  -41.161591  147.514797  Woolworths       0.0"
      ]
     },
     "execution_count": 61,
     "metadata": {},
     "output_type": "execute_result"
    }
   ],
   "source": [
    "supermarkets_data.head(2)"
   ]
  },
  {
   "cell_type": "code",
   "execution_count": 62,
   "metadata": {},
   "outputs": [
    {
     "data": {
      "text/html": [
       "<div>\n",
       "<style scoped>\n",
       "    .dataframe tbody tr th:only-of-type {\n",
       "        vertical-align: middle;\n",
       "    }\n",
       "\n",
       "    .dataframe tbody tr th {\n",
       "        vertical-align: top;\n",
       "    }\n",
       "\n",
       "    .dataframe thead th {\n",
       "        text-align: right;\n",
       "    }\n",
       "</style>\n",
       "<table border=\"1\" class=\"dataframe\">\n",
       "  <thead>\n",
       "    <tr style=\"text-align: right;\">\n",
       "      <th></th>\n",
       "      <th>id</th>\n",
       "      <th>lat</th>\n",
       "      <th>lng</th>\n",
       "      <th>type</th>\n",
       "      <th>lat_long</th>\n",
       "      <th>lat_long_id</th>\n",
       "    </tr>\n",
       "  </thead>\n",
       "  <tbody>\n",
       "    <tr>\n",
       "      <th>0</th>\n",
       "      <td>S_001</td>\n",
       "      <td>-37.883978</td>\n",
       "      <td>144.735287</td>\n",
       "      <td>Woolworths</td>\n",
       "      <td>0.0</td>\n",
       "      <td>(-37.883978, 144.735287, S_001)</td>\n",
       "    </tr>\n",
       "    <tr>\n",
       "      <th>1</th>\n",
       "      <td>S_002</td>\n",
       "      <td>-41.161591</td>\n",
       "      <td>147.514797</td>\n",
       "      <td>Woolworths</td>\n",
       "      <td>0.0</td>\n",
       "      <td>(-41.161591, 147.514797, S_002)</td>\n",
       "    </tr>\n",
       "  </tbody>\n",
       "</table>\n",
       "</div>"
      ],
      "text/plain": [
       "      id         lat         lng        type  lat_long  \\\n",
       "0  S_001  -37.883978  144.735287  Woolworths       0.0   \n",
       "1  S_002  -41.161591  147.514797  Woolworths       0.0   \n",
       "\n",
       "                       lat_long_id  \n",
       "0  (-37.883978, 144.735287, S_001)  \n",
       "1  (-41.161591, 147.514797, S_002)  "
      ]
     },
     "execution_count": 62,
     "metadata": {},
     "output_type": "execute_result"
    }
   ],
   "source": [
    "# For easier data retrieval \n",
    "supermarkets_data['lat_long_id'] = list(zip(supermarkets_data.lat, supermarkets_data.lng, supermarkets_data.id ))\n",
    "supermarkets_data_lat_long_id = supermarkets_data['lat_long_id'].to_list()\n",
    "supermarkets_data.head(2)"
   ]
  },
  {
   "cell_type": "code",
   "execution_count": 63,
   "metadata": {},
   "outputs": [],
   "source": [
    "# Function to get the distance to the nearest super_market \n",
    "def nearest_supermarket_distance(row):\n",
    "    \n",
    "    # Getting property coordinates \n",
    "    prop_lng = float(row.lng)\n",
    "    prop_lat = float(row.lat)\n",
    "    \n",
    "    # Dictionary to store the values \n",
    "    distance_dict = dict()\n",
    "    \n",
    "    # Iterating through the dataset \n",
    "    for location in supermarkets_data_lat_long_id:\n",
    "        super_lat = float(location[0])\n",
    "        super_lng = float(location[1])\n",
    "        \n",
    "        # Distance calculations \n",
    "        calc_distance = haversine_distance(prop_lat, prop_lng, super_lat, super_lng)\n",
    "        distance_dict[location] = calc_distance\n",
    "    \n",
    "    # Getting the least distance \n",
    "    all_values = distance_dict.values()\n",
    "    nearest_distance = min(all_values)\n",
    "    \n",
    "    return nearest_distance"
   ]
  },
  {
   "cell_type": "code",
   "execution_count": 64,
   "metadata": {},
   "outputs": [
    {
     "data": {
      "text/html": [
       "<div>\n",
       "<style scoped>\n",
       "    .dataframe tbody tr th:only-of-type {\n",
       "        vertical-align: middle;\n",
       "    }\n",
       "\n",
       "    .dataframe tbody tr th {\n",
       "        vertical-align: top;\n",
       "    }\n",
       "\n",
       "    .dataframe thead th {\n",
       "        text-align: right;\n",
       "    }\n",
       "</style>\n",
       "<table border=\"1\" class=\"dataframe\">\n",
       "  <thead>\n",
       "    <tr style=\"text-align: right;\">\n",
       "      <th></th>\n",
       "      <th>Property_id</th>\n",
       "      <th>lat</th>\n",
       "      <th>lng</th>\n",
       "      <th>addr_street</th>\n",
       "      <th>price</th>\n",
       "      <th>property_type</th>\n",
       "      <th>year</th>\n",
       "      <th>bedrooms</th>\n",
       "      <th>bathrooms</th>\n",
       "      <th>parking_space</th>\n",
       "      <th>Suburb</th>\n",
       "      <th>Distance_to_sc</th>\n",
       "      <th>Shopping_center_id</th>\n",
       "      <th>Distance_to_hospital</th>\n",
       "      <th>Hospital_id</th>\n",
       "      <th>Distance_to_supermarket</th>\n",
       "    </tr>\n",
       "  </thead>\n",
       "  <tbody>\n",
       "    <tr>\n",
       "      <th>0</th>\n",
       "      <td>53425</td>\n",
       "      <td>-37.813198</td>\n",
       "      <td>145.002348</td>\n",
       "      <td>50 Lambert Street</td>\n",
       "      <td>5984000</td>\n",
       "      <td>house</td>\n",
       "      <td>2010</td>\n",
       "      <td>3</td>\n",
       "      <td>1</td>\n",
       "      <td>1</td>\n",
       "      <td>not available</td>\n",
       "      <td>2.6713</td>\n",
       "      <td>SC_068</td>\n",
       "      <td>0.2982</td>\n",
       "      <td>hospital_134</td>\n",
       "      <td>0.7176</td>\n",
       "    </tr>\n",
       "    <tr>\n",
       "      <th>1</th>\n",
       "      <td>3979</td>\n",
       "      <td>-37.81578064</td>\n",
       "      <td>144.8942719</td>\n",
       "      <td>96 Stephen Street</td>\n",
       "      <td>7136000</td>\n",
       "      <td>house</td>\n",
       "      <td>2009</td>\n",
       "      <td>2</td>\n",
       "      <td>1</td>\n",
       "      <td>1</td>\n",
       "      <td>not available</td>\n",
       "      <td>3.7905</td>\n",
       "      <td>SC_043</td>\n",
       "      <td>2.6193</td>\n",
       "      <td>hospital_056</td>\n",
       "      <td>1.7055</td>\n",
       "    </tr>\n",
       "  </tbody>\n",
       "</table>\n",
       "</div>"
      ],
      "text/plain": [
       "  Property_id           lat          lng        addr_street    price  \\\n",
       "0       53425    -37.813198   145.002348  50 Lambert Street  5984000   \n",
       "1        3979  -37.81578064  144.8942719  96 Stephen Street  7136000   \n",
       "\n",
       "  property_type  year bedrooms bathrooms parking_space         Suburb  \\\n",
       "0         house  2010        3         1             1  not available   \n",
       "1         house  2009        2         1             1  not available   \n",
       "\n",
       "   Distance_to_sc Shopping_center_id  Distance_to_hospital   Hospital_id  \\\n",
       "0          2.6713             SC_068                0.2982  hospital_134   \n",
       "1          3.7905             SC_043                2.6193  hospital_056   \n",
       "\n",
       "   Distance_to_supermarket  \n",
       "0                   0.7176  \n",
       "1                   1.7055  "
      ]
     },
     "execution_count": 64,
     "metadata": {},
     "output_type": "execute_result"
    }
   ],
   "source": [
    "# Nearest Hospital distance\n",
    "integrated_data['Distance_to_supermarket'] = integrated_data.apply(lambda x: nearest_supermarket_distance(x), axis = 1)\n",
    "integrated_data.head(2)"
   ]
  },
  {
   "cell_type": "markdown",
   "metadata": {},
   "source": [
    "### 2.2.6 Supermarket_id <a class=\"anchor\" id=\"sec_226\"></a>\n",
    "\n",
    "* This corresponds to the id of the supermarket which is closest to the property."
   ]
  },
  {
   "cell_type": "code",
   "execution_count": 65,
   "metadata": {},
   "outputs": [],
   "source": [
    "# Function to return the nearest supermarket ID \n",
    "def nearest_supermarket_id(row):  \n",
    "    \n",
    "    # Property Coordinates \n",
    "    prop_lng = float(row.lng)\n",
    "    prop_lat = float(row.lat)\n",
    "    \n",
    "    # Dictionary to hold the distance values \n",
    "    distance_id_dict = dict()\n",
    "    \n",
    "    # Iterating through the list \n",
    "    for location in supermarkets_data_lat_long_id:\n",
    "        super_lat = float(location[0])\n",
    "        super_lng = float(location[1])\n",
    "        super_ID = location[2]\n",
    "        \n",
    "        # Distance calculation \n",
    "        calc_distance = haversine_distance(prop_lat, prop_lng, super_lat, super_lng)\n",
    "        distance_id_dict[super_ID] = calc_distance\n",
    "    \n",
    "    # Sorting the distance dictionary \n",
    "    distance_id_dict = sorted(distance_id_dict.items(), key = lambda x: x[1])\n",
    "        \n",
    "    nearest_id = distance_id_dict[0][0]\n",
    "    # Returning the nearest ID \n",
    "    return nearest_id"
   ]
  },
  {
   "cell_type": "code",
   "execution_count": 66,
   "metadata": {},
   "outputs": [
    {
     "data": {
      "text/html": [
       "<div>\n",
       "<style scoped>\n",
       "    .dataframe tbody tr th:only-of-type {\n",
       "        vertical-align: middle;\n",
       "    }\n",
       "\n",
       "    .dataframe tbody tr th {\n",
       "        vertical-align: top;\n",
       "    }\n",
       "\n",
       "    .dataframe thead th {\n",
       "        text-align: right;\n",
       "    }\n",
       "</style>\n",
       "<table border=\"1\" class=\"dataframe\">\n",
       "  <thead>\n",
       "    <tr style=\"text-align: right;\">\n",
       "      <th></th>\n",
       "      <th>Property_id</th>\n",
       "      <th>lat</th>\n",
       "      <th>lng</th>\n",
       "      <th>addr_street</th>\n",
       "      <th>price</th>\n",
       "      <th>property_type</th>\n",
       "      <th>year</th>\n",
       "      <th>bedrooms</th>\n",
       "      <th>bathrooms</th>\n",
       "      <th>parking_space</th>\n",
       "      <th>Suburb</th>\n",
       "      <th>Distance_to_sc</th>\n",
       "      <th>Shopping_center_id</th>\n",
       "      <th>Distance_to_hospital</th>\n",
       "      <th>Hospital_id</th>\n",
       "      <th>Distance_to_supermarket</th>\n",
       "      <th>Supermarket_id</th>\n",
       "    </tr>\n",
       "  </thead>\n",
       "  <tbody>\n",
       "    <tr>\n",
       "      <th>0</th>\n",
       "      <td>53425</td>\n",
       "      <td>-37.813198</td>\n",
       "      <td>145.002348</td>\n",
       "      <td>50 Lambert Street</td>\n",
       "      <td>5984000</td>\n",
       "      <td>house</td>\n",
       "      <td>2010</td>\n",
       "      <td>3</td>\n",
       "      <td>1</td>\n",
       "      <td>1</td>\n",
       "      <td>not available</td>\n",
       "      <td>2.6713</td>\n",
       "      <td>SC_068</td>\n",
       "      <td>0.2982</td>\n",
       "      <td>hospital_134</td>\n",
       "      <td>0.7176</td>\n",
       "      <td>S_076</td>\n",
       "    </tr>\n",
       "    <tr>\n",
       "      <th>1</th>\n",
       "      <td>3979</td>\n",
       "      <td>-37.81578064</td>\n",
       "      <td>144.8942719</td>\n",
       "      <td>96 Stephen Street</td>\n",
       "      <td>7136000</td>\n",
       "      <td>house</td>\n",
       "      <td>2009</td>\n",
       "      <td>2</td>\n",
       "      <td>1</td>\n",
       "      <td>1</td>\n",
       "      <td>not available</td>\n",
       "      <td>3.7905</td>\n",
       "      <td>SC_043</td>\n",
       "      <td>2.6193</td>\n",
       "      <td>hospital_056</td>\n",
       "      <td>1.7055</td>\n",
       "      <td>S_201</td>\n",
       "    </tr>\n",
       "  </tbody>\n",
       "</table>\n",
       "</div>"
      ],
      "text/plain": [
       "  Property_id           lat          lng        addr_street    price  \\\n",
       "0       53425    -37.813198   145.002348  50 Lambert Street  5984000   \n",
       "1        3979  -37.81578064  144.8942719  96 Stephen Street  7136000   \n",
       "\n",
       "  property_type  year bedrooms bathrooms parking_space         Suburb  \\\n",
       "0         house  2010        3         1             1  not available   \n",
       "1         house  2009        2         1             1  not available   \n",
       "\n",
       "   Distance_to_sc Shopping_center_id  Distance_to_hospital   Hospital_id  \\\n",
       "0          2.6713             SC_068                0.2982  hospital_134   \n",
       "1          3.7905             SC_043                2.6193  hospital_056   \n",
       "\n",
       "   Distance_to_supermarket Supermarket_id  \n",
       "0                   0.7176          S_076  \n",
       "1                   1.7055          S_201  "
      ]
     },
     "execution_count": 66,
     "metadata": {},
     "output_type": "execute_result"
    }
   ],
   "source": [
    "# Nearest Hospital ID \n",
    "integrated_data['Supermarket_id'] = integrated_data.apply(lambda x: nearest_supermarket_id(x), axis = 1)\n",
    "integrated_data.head(2)"
   ]
  },
  {
   "cell_type": "markdown",
   "metadata": {},
   "source": [
    "### Melbourne Train Information"
   ]
  },
  {
   "cell_type": "code",
   "execution_count": 67,
   "metadata": {},
   "outputs": [
    {
     "name": "stdout",
     "output_type": "stream",
     "text": [
      "Agency Data: (1, 5)\n",
      "Calendar Data: (19, 10)\n",
      "Calendar Dates Data: (2, 3)\n",
      "Routes Data: (81, 5)\n",
      "Shapes Data: (339711, 5)\n",
      "Stop Times Data: (390305, 9)\n",
      "Stops Data: (218, 5)\n",
      "Trips Data: (23809, 6)\n"
     ]
    }
   ],
   "source": [
    "# Understaning the general structure \n",
    "print(\"Agency Data:\",agency_data.shape)\n",
    "print(\"Calendar Data:\",calendar_data.shape)\n",
    "print(\"Calendar Dates Data:\",calendar_dates_data.shape)\n",
    "print(\"Routes Data:\",routes_data.shape)\n",
    "print(\"Shapes Data:\",shapes_data.shape)\n",
    "print(\"Stop Times Data:\", stop_times_data.shape)\n",
    "print(\"Stops Data:\", stops_data.shape)\n",
    "print(\"Trips Data:\",trips_data.shape)"
   ]
  },
  {
   "cell_type": "code",
   "execution_count": 68,
   "metadata": {},
   "outputs": [
    {
     "data": {
      "text/html": [
       "<div>\n",
       "<style scoped>\n",
       "    .dataframe tbody tr th:only-of-type {\n",
       "        vertical-align: middle;\n",
       "    }\n",
       "\n",
       "    .dataframe tbody tr th {\n",
       "        vertical-align: top;\n",
       "    }\n",
       "\n",
       "    .dataframe thead th {\n",
       "        text-align: right;\n",
       "    }\n",
       "</style>\n",
       "<table border=\"1\" class=\"dataframe\">\n",
       "  <thead>\n",
       "    <tr style=\"text-align: right;\">\n",
       "      <th></th>\n",
       "      <th>agency_id</th>\n",
       "      <th>agency_name</th>\n",
       "      <th>agency_url</th>\n",
       "      <th>agency_timezone</th>\n",
       "      <th>agency_lang</th>\n",
       "    </tr>\n",
       "  </thead>\n",
       "  <tbody>\n",
       "    <tr>\n",
       "      <th>0</th>\n",
       "      <td>1</td>\n",
       "      <td>PTV</td>\n",
       "      <td>http://www.ptv.vic.gov.au</td>\n",
       "      <td>Australia/Melbourne</td>\n",
       "      <td>EN</td>\n",
       "    </tr>\n",
       "  </tbody>\n",
       "</table>\n",
       "</div>"
      ],
      "text/plain": [
       "   agency_id agency_name                 agency_url      agency_timezone  \\\n",
       "0          1         PTV  http://www.ptv.vic.gov.au  Australia/Melbourne   \n",
       "\n",
       "  agency_lang  \n",
       "0          EN  "
      ]
     },
     "execution_count": 68,
     "metadata": {},
     "output_type": "execute_result"
    }
   ],
   "source": [
    "agency_data.head()"
   ]
  },
  {
   "cell_type": "code",
   "execution_count": 69,
   "metadata": {},
   "outputs": [
    {
     "data": {
      "text/html": [
       "<div>\n",
       "<style scoped>\n",
       "    .dataframe tbody tr th:only-of-type {\n",
       "        vertical-align: middle;\n",
       "    }\n",
       "\n",
       "    .dataframe tbody tr th {\n",
       "        vertical-align: top;\n",
       "    }\n",
       "\n",
       "    .dataframe thead th {\n",
       "        text-align: right;\n",
       "    }\n",
       "</style>\n",
       "<table border=\"1\" class=\"dataframe\">\n",
       "  <thead>\n",
       "    <tr style=\"text-align: right;\">\n",
       "      <th></th>\n",
       "      <th>service_id</th>\n",
       "      <th>date</th>\n",
       "      <th>exception_type</th>\n",
       "    </tr>\n",
       "  </thead>\n",
       "  <tbody>\n",
       "    <tr>\n",
       "      <th>0</th>\n",
       "      <td>T0</td>\n",
       "      <td>20151103</td>\n",
       "      <td>2</td>\n",
       "    </tr>\n",
       "    <tr>\n",
       "      <th>1</th>\n",
       "      <td>T0+a5</td>\n",
       "      <td>20151103</td>\n",
       "      <td>2</td>\n",
       "    </tr>\n",
       "  </tbody>\n",
       "</table>\n",
       "</div>"
      ],
      "text/plain": [
       "  service_id      date  exception_type\n",
       "0         T0  20151103               2\n",
       "1      T0+a5  20151103               2"
      ]
     },
     "execution_count": 69,
     "metadata": {},
     "output_type": "execute_result"
    }
   ],
   "source": [
    "calendar_dates_data.head()"
   ]
  },
  {
   "cell_type": "code",
   "execution_count": 70,
   "metadata": {},
   "outputs": [
    {
     "data": {
      "text/html": [
       "<div>\n",
       "<style scoped>\n",
       "    .dataframe tbody tr th:only-of-type {\n",
       "        vertical-align: middle;\n",
       "    }\n",
       "\n",
       "    .dataframe tbody tr th {\n",
       "        vertical-align: top;\n",
       "    }\n",
       "\n",
       "    .dataframe thead th {\n",
       "        text-align: right;\n",
       "    }\n",
       "</style>\n",
       "<table border=\"1\" class=\"dataframe\">\n",
       "  <thead>\n",
       "    <tr style=\"text-align: right;\">\n",
       "      <th></th>\n",
       "      <th>shape_id</th>\n",
       "      <th>shape_pt_lat</th>\n",
       "      <th>shape_pt_lon</th>\n",
       "      <th>shape_pt_sequence</th>\n",
       "      <th>shape_dist_traveled</th>\n",
       "    </tr>\n",
       "  </thead>\n",
       "  <tbody>\n",
       "    <tr>\n",
       "      <th>0</th>\n",
       "      <td>2-ain-mjp-1.1.H</td>\n",
       "      <td>-37.818631</td>\n",
       "      <td>144.951994</td>\n",
       "      <td>1</td>\n",
       "      <td>0.000000</td>\n",
       "    </tr>\n",
       "    <tr>\n",
       "      <th>1</th>\n",
       "      <td>2-ain-mjp-1.1.H</td>\n",
       "      <td>-37.817425</td>\n",
       "      <td>144.951050</td>\n",
       "      <td>2</td>\n",
       "      <td>157.543645</td>\n",
       "    </tr>\n",
       "    <tr>\n",
       "      <th>2</th>\n",
       "      <td>2-ain-mjp-1.1.H</td>\n",
       "      <td>-37.817241</td>\n",
       "      <td>144.950828</td>\n",
       "      <td>3</td>\n",
       "      <td>185.827916</td>\n",
       "    </tr>\n",
       "    <tr>\n",
       "      <th>3</th>\n",
       "      <td>2-ain-mjp-1.1.H</td>\n",
       "      <td>-37.816327</td>\n",
       "      <td>144.950047</td>\n",
       "      <td>4</td>\n",
       "      <td>308.469671</td>\n",
       "    </tr>\n",
       "    <tr>\n",
       "      <th>4</th>\n",
       "      <td>2-ain-mjp-1.1.H</td>\n",
       "      <td>-37.816127</td>\n",
       "      <td>144.949950</td>\n",
       "      <td>5</td>\n",
       "      <td>332.239399</td>\n",
       "    </tr>\n",
       "  </tbody>\n",
       "</table>\n",
       "</div>"
      ],
      "text/plain": [
       "          shape_id  shape_pt_lat  shape_pt_lon  shape_pt_sequence  \\\n",
       "0  2-ain-mjp-1.1.H    -37.818631    144.951994                  1   \n",
       "1  2-ain-mjp-1.1.H    -37.817425    144.951050                  2   \n",
       "2  2-ain-mjp-1.1.H    -37.817241    144.950828                  3   \n",
       "3  2-ain-mjp-1.1.H    -37.816327    144.950047                  4   \n",
       "4  2-ain-mjp-1.1.H    -37.816127    144.949950                  5   \n",
       "\n",
       "   shape_dist_traveled  \n",
       "0             0.000000  \n",
       "1           157.543645  \n",
       "2           185.827916  \n",
       "3           308.469671  \n",
       "4           332.239399  "
      ]
     },
     "execution_count": 70,
     "metadata": {},
     "output_type": "execute_result"
    }
   ],
   "source": [
    "shapes_data.head()"
   ]
  },
  {
   "cell_type": "code",
   "execution_count": 71,
   "metadata": {},
   "outputs": [
    {
     "data": {
      "text/html": [
       "<div>\n",
       "<style scoped>\n",
       "    .dataframe tbody tr th:only-of-type {\n",
       "        vertical-align: middle;\n",
       "    }\n",
       "\n",
       "    .dataframe tbody tr th {\n",
       "        vertical-align: top;\n",
       "    }\n",
       "\n",
       "    .dataframe thead th {\n",
       "        text-align: right;\n",
       "    }\n",
       "</style>\n",
       "<table border=\"1\" class=\"dataframe\">\n",
       "  <thead>\n",
       "    <tr style=\"text-align: right;\">\n",
       "      <th></th>\n",
       "      <th>route_id</th>\n",
       "      <th>service_id</th>\n",
       "      <th>trip_id</th>\n",
       "      <th>shape_id</th>\n",
       "      <th>trip_headsign</th>\n",
       "      <th>direction_id</th>\n",
       "    </tr>\n",
       "  </thead>\n",
       "  <tbody>\n",
       "    <tr>\n",
       "      <th>0</th>\n",
       "      <td>2-ALM-F-mjp-1</td>\n",
       "      <td>T0</td>\n",
       "      <td>17067982.T0.2-ALM-F-mjp-1.1.H</td>\n",
       "      <td>2-ALM-F-mjp-1.1.H</td>\n",
       "      <td>City (Flinders Street)</td>\n",
       "      <td>0</td>\n",
       "    </tr>\n",
       "    <tr>\n",
       "      <th>1</th>\n",
       "      <td>2-ALM-F-mjp-1</td>\n",
       "      <td>T0</td>\n",
       "      <td>17067988.T0.2-ALM-F-mjp-1.1.H</td>\n",
       "      <td>2-ALM-F-mjp-1.1.H</td>\n",
       "      <td>City (Flinders Street)</td>\n",
       "      <td>0</td>\n",
       "    </tr>\n",
       "    <tr>\n",
       "      <th>2</th>\n",
       "      <td>2-ALM-F-mjp-1</td>\n",
       "      <td>T0</td>\n",
       "      <td>17067992.T0.2-ALM-F-mjp-1.1.H</td>\n",
       "      <td>2-ALM-F-mjp-1.1.H</td>\n",
       "      <td>City (Flinders Street)</td>\n",
       "      <td>0</td>\n",
       "    </tr>\n",
       "    <tr>\n",
       "      <th>3</th>\n",
       "      <td>2-ALM-F-mjp-1</td>\n",
       "      <td>T0</td>\n",
       "      <td>17067999.T0.2-ALM-F-mjp-1.1.H</td>\n",
       "      <td>2-ALM-F-mjp-1.1.H</td>\n",
       "      <td>City (Flinders Street)</td>\n",
       "      <td>0</td>\n",
       "    </tr>\n",
       "    <tr>\n",
       "      <th>4</th>\n",
       "      <td>2-ALM-F-mjp-1</td>\n",
       "      <td>T0</td>\n",
       "      <td>17068003.T0.2-ALM-F-mjp-1.1.H</td>\n",
       "      <td>2-ALM-F-mjp-1.1.H</td>\n",
       "      <td>City (Flinders Street)</td>\n",
       "      <td>0</td>\n",
       "    </tr>\n",
       "  </tbody>\n",
       "</table>\n",
       "</div>"
      ],
      "text/plain": [
       "        route_id service_id                        trip_id           shape_id  \\\n",
       "0  2-ALM-F-mjp-1         T0  17067982.T0.2-ALM-F-mjp-1.1.H  2-ALM-F-mjp-1.1.H   \n",
       "1  2-ALM-F-mjp-1         T0  17067988.T0.2-ALM-F-mjp-1.1.H  2-ALM-F-mjp-1.1.H   \n",
       "2  2-ALM-F-mjp-1         T0  17067992.T0.2-ALM-F-mjp-1.1.H  2-ALM-F-mjp-1.1.H   \n",
       "3  2-ALM-F-mjp-1         T0  17067999.T0.2-ALM-F-mjp-1.1.H  2-ALM-F-mjp-1.1.H   \n",
       "4  2-ALM-F-mjp-1         T0  17068003.T0.2-ALM-F-mjp-1.1.H  2-ALM-F-mjp-1.1.H   \n",
       "\n",
       "            trip_headsign  direction_id  \n",
       "0  City (Flinders Street)             0  \n",
       "1  City (Flinders Street)             0  \n",
       "2  City (Flinders Street)             0  \n",
       "3  City (Flinders Street)             0  \n",
       "4  City (Flinders Street)             0  "
      ]
     },
     "execution_count": 71,
     "metadata": {},
     "output_type": "execute_result"
    }
   ],
   "source": [
    "trips_data.head()"
   ]
  },
  {
   "cell_type": "code",
   "execution_count": 72,
   "metadata": {},
   "outputs": [
    {
     "data": {
      "text/html": [
       "<div>\n",
       "<style scoped>\n",
       "    .dataframe tbody tr th:only-of-type {\n",
       "        vertical-align: middle;\n",
       "    }\n",
       "\n",
       "    .dataframe tbody tr th {\n",
       "        vertical-align: top;\n",
       "    }\n",
       "\n",
       "    .dataframe thead th {\n",
       "        text-align: right;\n",
       "    }\n",
       "</style>\n",
       "<table border=\"1\" class=\"dataframe\">\n",
       "  <thead>\n",
       "    <tr style=\"text-align: right;\">\n",
       "      <th></th>\n",
       "      <th>route_id</th>\n",
       "      <th>agency_id</th>\n",
       "      <th>route_short_name</th>\n",
       "      <th>route_long_name</th>\n",
       "      <th>route_type</th>\n",
       "    </tr>\n",
       "  </thead>\n",
       "  <tbody>\n",
       "    <tr>\n",
       "      <th>0</th>\n",
       "      <td>2-ALM-B-mjp-1</td>\n",
       "      <td>1</td>\n",
       "      <td>Alamein</td>\n",
       "      <td>Alamein - City (Flinders Street)</td>\n",
       "      <td>2</td>\n",
       "    </tr>\n",
       "    <tr>\n",
       "      <th>1</th>\n",
       "      <td>2-ALM-C-mjp-1</td>\n",
       "      <td>1</td>\n",
       "      <td>Alamein</td>\n",
       "      <td>Alamein - City (Flinders Street)</td>\n",
       "      <td>2</td>\n",
       "    </tr>\n",
       "    <tr>\n",
       "      <th>2</th>\n",
       "      <td>2-ALM-D-mjp-1</td>\n",
       "      <td>1</td>\n",
       "      <td>Alamein</td>\n",
       "      <td>Alamein - City (Flinders Street)</td>\n",
       "      <td>2</td>\n",
       "    </tr>\n",
       "    <tr>\n",
       "      <th>3</th>\n",
       "      <td>2-ALM-E-mjp-1</td>\n",
       "      <td>1</td>\n",
       "      <td>Alamein</td>\n",
       "      <td>Alamein - City (Flinders Street)</td>\n",
       "      <td>2</td>\n",
       "    </tr>\n",
       "    <tr>\n",
       "      <th>4</th>\n",
       "      <td>2-ALM-F-mjp-1</td>\n",
       "      <td>1</td>\n",
       "      <td>Alamein</td>\n",
       "      <td>Alamein - City (Flinders Street)</td>\n",
       "      <td>2</td>\n",
       "    </tr>\n",
       "  </tbody>\n",
       "</table>\n",
       "</div>"
      ],
      "text/plain": [
       "        route_id  agency_id route_short_name  \\\n",
       "0  2-ALM-B-mjp-1          1          Alamein   \n",
       "1  2-ALM-C-mjp-1          1          Alamein   \n",
       "2  2-ALM-D-mjp-1          1          Alamein   \n",
       "3  2-ALM-E-mjp-1          1          Alamein   \n",
       "4  2-ALM-F-mjp-1          1          Alamein   \n",
       "\n",
       "                    route_long_name  route_type  \n",
       "0  Alamein - City (Flinders Street)           2  \n",
       "1  Alamein - City (Flinders Street)           2  \n",
       "2  Alamein - City (Flinders Street)           2  \n",
       "3  Alamein - City (Flinders Street)           2  \n",
       "4  Alamein - City (Flinders Street)           2  "
      ]
     },
     "execution_count": 72,
     "metadata": {},
     "output_type": "execute_result"
    }
   ],
   "source": [
    "routes_data.head()"
   ]
  },
  {
   "cell_type": "code",
   "execution_count": 73,
   "metadata": {},
   "outputs": [
    {
     "data": {
      "text/html": [
       "<div>\n",
       "<style scoped>\n",
       "    .dataframe tbody tr th:only-of-type {\n",
       "        vertical-align: middle;\n",
       "    }\n",
       "\n",
       "    .dataframe tbody tr th {\n",
       "        vertical-align: top;\n",
       "    }\n",
       "\n",
       "    .dataframe thead th {\n",
       "        text-align: right;\n",
       "    }\n",
       "</style>\n",
       "<table border=\"1\" class=\"dataframe\">\n",
       "  <thead>\n",
       "    <tr style=\"text-align: right;\">\n",
       "      <th></th>\n",
       "      <th>route_id</th>\n",
       "      <th>service_id</th>\n",
       "      <th>trip_id</th>\n",
       "      <th>shape_id</th>\n",
       "      <th>trip_headsign</th>\n",
       "      <th>direction_id</th>\n",
       "      <th>agency_id</th>\n",
       "      <th>route_short_name</th>\n",
       "      <th>route_long_name</th>\n",
       "      <th>route_type</th>\n",
       "    </tr>\n",
       "  </thead>\n",
       "  <tbody>\n",
       "    <tr>\n",
       "      <th>0</th>\n",
       "      <td>2-ALM-F-mjp-1</td>\n",
       "      <td>T0</td>\n",
       "      <td>17067982.T0.2-ALM-F-mjp-1.1.H</td>\n",
       "      <td>2-ALM-F-mjp-1.1.H</td>\n",
       "      <td>City (Flinders Street)</td>\n",
       "      <td>0</td>\n",
       "      <td>1</td>\n",
       "      <td>Alamein</td>\n",
       "      <td>Alamein - City (Flinders Street)</td>\n",
       "      <td>2</td>\n",
       "    </tr>\n",
       "    <tr>\n",
       "      <th>1</th>\n",
       "      <td>2-ALM-F-mjp-1</td>\n",
       "      <td>T0</td>\n",
       "      <td>17067988.T0.2-ALM-F-mjp-1.1.H</td>\n",
       "      <td>2-ALM-F-mjp-1.1.H</td>\n",
       "      <td>City (Flinders Street)</td>\n",
       "      <td>0</td>\n",
       "      <td>1</td>\n",
       "      <td>Alamein</td>\n",
       "      <td>Alamein - City (Flinders Street)</td>\n",
       "      <td>2</td>\n",
       "    </tr>\n",
       "    <tr>\n",
       "      <th>2</th>\n",
       "      <td>2-ALM-F-mjp-1</td>\n",
       "      <td>T0</td>\n",
       "      <td>17067992.T0.2-ALM-F-mjp-1.1.H</td>\n",
       "      <td>2-ALM-F-mjp-1.1.H</td>\n",
       "      <td>City (Flinders Street)</td>\n",
       "      <td>0</td>\n",
       "      <td>1</td>\n",
       "      <td>Alamein</td>\n",
       "      <td>Alamein - City (Flinders Street)</td>\n",
       "      <td>2</td>\n",
       "    </tr>\n",
       "    <tr>\n",
       "      <th>3</th>\n",
       "      <td>2-ALM-F-mjp-1</td>\n",
       "      <td>T0</td>\n",
       "      <td>17067999.T0.2-ALM-F-mjp-1.1.H</td>\n",
       "      <td>2-ALM-F-mjp-1.1.H</td>\n",
       "      <td>City (Flinders Street)</td>\n",
       "      <td>0</td>\n",
       "      <td>1</td>\n",
       "      <td>Alamein</td>\n",
       "      <td>Alamein - City (Flinders Street)</td>\n",
       "      <td>2</td>\n",
       "    </tr>\n",
       "    <tr>\n",
       "      <th>4</th>\n",
       "      <td>2-ALM-F-mjp-1</td>\n",
       "      <td>T0</td>\n",
       "      <td>17068003.T0.2-ALM-F-mjp-1.1.H</td>\n",
       "      <td>2-ALM-F-mjp-1.1.H</td>\n",
       "      <td>City (Flinders Street)</td>\n",
       "      <td>0</td>\n",
       "      <td>1</td>\n",
       "      <td>Alamein</td>\n",
       "      <td>Alamein - City (Flinders Street)</td>\n",
       "      <td>2</td>\n",
       "    </tr>\n",
       "  </tbody>\n",
       "</table>\n",
       "</div>"
      ],
      "text/plain": [
       "        route_id service_id                        trip_id           shape_id  \\\n",
       "0  2-ALM-F-mjp-1         T0  17067982.T0.2-ALM-F-mjp-1.1.H  2-ALM-F-mjp-1.1.H   \n",
       "1  2-ALM-F-mjp-1         T0  17067988.T0.2-ALM-F-mjp-1.1.H  2-ALM-F-mjp-1.1.H   \n",
       "2  2-ALM-F-mjp-1         T0  17067992.T0.2-ALM-F-mjp-1.1.H  2-ALM-F-mjp-1.1.H   \n",
       "3  2-ALM-F-mjp-1         T0  17067999.T0.2-ALM-F-mjp-1.1.H  2-ALM-F-mjp-1.1.H   \n",
       "4  2-ALM-F-mjp-1         T0  17068003.T0.2-ALM-F-mjp-1.1.H  2-ALM-F-mjp-1.1.H   \n",
       "\n",
       "            trip_headsign  direction_id  agency_id route_short_name  \\\n",
       "0  City (Flinders Street)             0          1          Alamein   \n",
       "1  City (Flinders Street)             0          1          Alamein   \n",
       "2  City (Flinders Street)             0          1          Alamein   \n",
       "3  City (Flinders Street)             0          1          Alamein   \n",
       "4  City (Flinders Street)             0          1          Alamein   \n",
       "\n",
       "                    route_long_name  route_type  \n",
       "0  Alamein - City (Flinders Street)           2  \n",
       "1  Alamein - City (Flinders Street)           2  \n",
       "2  Alamein - City (Flinders Street)           2  \n",
       "3  Alamein - City (Flinders Street)           2  \n",
       "4  Alamein - City (Flinders Street)           2  "
      ]
     },
     "execution_count": 73,
     "metadata": {},
     "output_type": "execute_result"
    }
   ],
   "source": [
    "# Merging trips and routes on route_id\n",
    "merge1 = trips_data.merge(routes_data, on = \"route_id\")\n",
    "merge1.head()"
   ]
  },
  {
   "cell_type": "code",
   "execution_count": 74,
   "metadata": {},
   "outputs": [
    {
     "data": {
      "text/html": [
       "<div>\n",
       "<style scoped>\n",
       "    .dataframe tbody tr th:only-of-type {\n",
       "        vertical-align: middle;\n",
       "    }\n",
       "\n",
       "    .dataframe tbody tr th {\n",
       "        vertical-align: top;\n",
       "    }\n",
       "\n",
       "    .dataframe thead th {\n",
       "        text-align: right;\n",
       "    }\n",
       "</style>\n",
       "<table border=\"1\" class=\"dataframe\">\n",
       "  <thead>\n",
       "    <tr style=\"text-align: right;\">\n",
       "      <th></th>\n",
       "      <th>service_id</th>\n",
       "      <th>monday</th>\n",
       "      <th>tuesday</th>\n",
       "      <th>wednesday</th>\n",
       "      <th>thursday</th>\n",
       "      <th>friday</th>\n",
       "      <th>saturday</th>\n",
       "      <th>sunday</th>\n",
       "      <th>start_date</th>\n",
       "      <th>end_date</th>\n",
       "    </tr>\n",
       "  </thead>\n",
       "  <tbody>\n",
       "    <tr>\n",
       "      <th>0</th>\n",
       "      <td>T2</td>\n",
       "      <td>0</td>\n",
       "      <td>0</td>\n",
       "      <td>0</td>\n",
       "      <td>0</td>\n",
       "      <td>0</td>\n",
       "      <td>1</td>\n",
       "      <td>0</td>\n",
       "      <td>20151009</td>\n",
       "      <td>20151011</td>\n",
       "    </tr>\n",
       "    <tr>\n",
       "      <th>1</th>\n",
       "      <td>UJ</td>\n",
       "      <td>0</td>\n",
       "      <td>0</td>\n",
       "      <td>0</td>\n",
       "      <td>0</td>\n",
       "      <td>0</td>\n",
       "      <td>0</td>\n",
       "      <td>1</td>\n",
       "      <td>20151009</td>\n",
       "      <td>20151011</td>\n",
       "    </tr>\n",
       "    <tr>\n",
       "      <th>2</th>\n",
       "      <td>T6</td>\n",
       "      <td>0</td>\n",
       "      <td>0</td>\n",
       "      <td>0</td>\n",
       "      <td>0</td>\n",
       "      <td>1</td>\n",
       "      <td>0</td>\n",
       "      <td>0</td>\n",
       "      <td>20151009</td>\n",
       "      <td>20151011</td>\n",
       "    </tr>\n",
       "    <tr>\n",
       "      <th>3</th>\n",
       "      <td>T5</td>\n",
       "      <td>1</td>\n",
       "      <td>1</td>\n",
       "      <td>1</td>\n",
       "      <td>1</td>\n",
       "      <td>0</td>\n",
       "      <td>0</td>\n",
       "      <td>0</td>\n",
       "      <td>20151012</td>\n",
       "      <td>20151015</td>\n",
       "    </tr>\n",
       "    <tr>\n",
       "      <th>4</th>\n",
       "      <td>T2_1</td>\n",
       "      <td>0</td>\n",
       "      <td>0</td>\n",
       "      <td>0</td>\n",
       "      <td>0</td>\n",
       "      <td>0</td>\n",
       "      <td>1</td>\n",
       "      <td>0</td>\n",
       "      <td>20151016</td>\n",
       "      <td>20151018</td>\n",
       "    </tr>\n",
       "  </tbody>\n",
       "</table>\n",
       "</div>"
      ],
      "text/plain": [
       "  service_id  monday  tuesday  wednesday  thursday  friday  saturday  sunday  \\\n",
       "0         T2       0        0          0         0       0         1       0   \n",
       "1         UJ       0        0          0         0       0         0       1   \n",
       "2         T6       0        0          0         0       1         0       0   \n",
       "3         T5       1        1          1         1       0         0       0   \n",
       "4       T2_1       0        0          0         0       0         1       0   \n",
       "\n",
       "   start_date  end_date  \n",
       "0    20151009  20151011  \n",
       "1    20151009  20151011  \n",
       "2    20151009  20151011  \n",
       "3    20151012  20151015  \n",
       "4    20151016  20151018  "
      ]
     },
     "execution_count": 74,
     "metadata": {},
     "output_type": "execute_result"
    }
   ],
   "source": [
    "calendar_data.head()"
   ]
  },
  {
   "cell_type": "code",
   "execution_count": 75,
   "metadata": {},
   "outputs": [
    {
     "data": {
      "text/html": [
       "<div>\n",
       "<style scoped>\n",
       "    .dataframe tbody tr th:only-of-type {\n",
       "        vertical-align: middle;\n",
       "    }\n",
       "\n",
       "    .dataframe tbody tr th {\n",
       "        vertical-align: top;\n",
       "    }\n",
       "\n",
       "    .dataframe thead th {\n",
       "        text-align: right;\n",
       "    }\n",
       "</style>\n",
       "<table border=\"1\" class=\"dataframe\">\n",
       "  <thead>\n",
       "    <tr style=\"text-align: right;\">\n",
       "      <th></th>\n",
       "      <th>route_id</th>\n",
       "      <th>service_id</th>\n",
       "      <th>trip_id</th>\n",
       "      <th>shape_id</th>\n",
       "      <th>trip_headsign</th>\n",
       "      <th>direction_id</th>\n",
       "      <th>agency_id</th>\n",
       "      <th>route_short_name</th>\n",
       "      <th>route_long_name</th>\n",
       "      <th>route_type</th>\n",
       "      <th>monday</th>\n",
       "      <th>tuesday</th>\n",
       "      <th>wednesday</th>\n",
       "      <th>thursday</th>\n",
       "      <th>friday</th>\n",
       "      <th>saturday</th>\n",
       "      <th>sunday</th>\n",
       "      <th>start_date</th>\n",
       "      <th>end_date</th>\n",
       "    </tr>\n",
       "  </thead>\n",
       "  <tbody>\n",
       "    <tr>\n",
       "      <th>0</th>\n",
       "      <td>2-ALM-F-mjp-1</td>\n",
       "      <td>T0</td>\n",
       "      <td>17067982.T0.2-ALM-F-mjp-1.1.H</td>\n",
       "      <td>2-ALM-F-mjp-1.1.H</td>\n",
       "      <td>City (Flinders Street)</td>\n",
       "      <td>0</td>\n",
       "      <td>1</td>\n",
       "      <td>Alamein</td>\n",
       "      <td>Alamein - City (Flinders Street)</td>\n",
       "      <td>2</td>\n",
       "      <td>1</td>\n",
       "      <td>1</td>\n",
       "      <td>1</td>\n",
       "      <td>1</td>\n",
       "      <td>1</td>\n",
       "      <td>0</td>\n",
       "      <td>0</td>\n",
       "      <td>20151023</td>\n",
       "      <td>20151122</td>\n",
       "    </tr>\n",
       "    <tr>\n",
       "      <th>1</th>\n",
       "      <td>2-ALM-F-mjp-1</td>\n",
       "      <td>T0</td>\n",
       "      <td>17067988.T0.2-ALM-F-mjp-1.1.H</td>\n",
       "      <td>2-ALM-F-mjp-1.1.H</td>\n",
       "      <td>City (Flinders Street)</td>\n",
       "      <td>0</td>\n",
       "      <td>1</td>\n",
       "      <td>Alamein</td>\n",
       "      <td>Alamein - City (Flinders Street)</td>\n",
       "      <td>2</td>\n",
       "      <td>1</td>\n",
       "      <td>1</td>\n",
       "      <td>1</td>\n",
       "      <td>1</td>\n",
       "      <td>1</td>\n",
       "      <td>0</td>\n",
       "      <td>0</td>\n",
       "      <td>20151023</td>\n",
       "      <td>20151122</td>\n",
       "    </tr>\n",
       "    <tr>\n",
       "      <th>2</th>\n",
       "      <td>2-ALM-F-mjp-1</td>\n",
       "      <td>T0</td>\n",
       "      <td>17067992.T0.2-ALM-F-mjp-1.1.H</td>\n",
       "      <td>2-ALM-F-mjp-1.1.H</td>\n",
       "      <td>City (Flinders Street)</td>\n",
       "      <td>0</td>\n",
       "      <td>1</td>\n",
       "      <td>Alamein</td>\n",
       "      <td>Alamein - City (Flinders Street)</td>\n",
       "      <td>2</td>\n",
       "      <td>1</td>\n",
       "      <td>1</td>\n",
       "      <td>1</td>\n",
       "      <td>1</td>\n",
       "      <td>1</td>\n",
       "      <td>0</td>\n",
       "      <td>0</td>\n",
       "      <td>20151023</td>\n",
       "      <td>20151122</td>\n",
       "    </tr>\n",
       "    <tr>\n",
       "      <th>3</th>\n",
       "      <td>2-ALM-F-mjp-1</td>\n",
       "      <td>T0</td>\n",
       "      <td>17067999.T0.2-ALM-F-mjp-1.1.H</td>\n",
       "      <td>2-ALM-F-mjp-1.1.H</td>\n",
       "      <td>City (Flinders Street)</td>\n",
       "      <td>0</td>\n",
       "      <td>1</td>\n",
       "      <td>Alamein</td>\n",
       "      <td>Alamein - City (Flinders Street)</td>\n",
       "      <td>2</td>\n",
       "      <td>1</td>\n",
       "      <td>1</td>\n",
       "      <td>1</td>\n",
       "      <td>1</td>\n",
       "      <td>1</td>\n",
       "      <td>0</td>\n",
       "      <td>0</td>\n",
       "      <td>20151023</td>\n",
       "      <td>20151122</td>\n",
       "    </tr>\n",
       "    <tr>\n",
       "      <th>4</th>\n",
       "      <td>2-ALM-F-mjp-1</td>\n",
       "      <td>T0</td>\n",
       "      <td>17068003.T0.2-ALM-F-mjp-1.1.H</td>\n",
       "      <td>2-ALM-F-mjp-1.1.H</td>\n",
       "      <td>City (Flinders Street)</td>\n",
       "      <td>0</td>\n",
       "      <td>1</td>\n",
       "      <td>Alamein</td>\n",
       "      <td>Alamein - City (Flinders Street)</td>\n",
       "      <td>2</td>\n",
       "      <td>1</td>\n",
       "      <td>1</td>\n",
       "      <td>1</td>\n",
       "      <td>1</td>\n",
       "      <td>1</td>\n",
       "      <td>0</td>\n",
       "      <td>0</td>\n",
       "      <td>20151023</td>\n",
       "      <td>20151122</td>\n",
       "    </tr>\n",
       "  </tbody>\n",
       "</table>\n",
       "</div>"
      ],
      "text/plain": [
       "        route_id service_id                        trip_id           shape_id  \\\n",
       "0  2-ALM-F-mjp-1         T0  17067982.T0.2-ALM-F-mjp-1.1.H  2-ALM-F-mjp-1.1.H   \n",
       "1  2-ALM-F-mjp-1         T0  17067988.T0.2-ALM-F-mjp-1.1.H  2-ALM-F-mjp-1.1.H   \n",
       "2  2-ALM-F-mjp-1         T0  17067992.T0.2-ALM-F-mjp-1.1.H  2-ALM-F-mjp-1.1.H   \n",
       "3  2-ALM-F-mjp-1         T0  17067999.T0.2-ALM-F-mjp-1.1.H  2-ALM-F-mjp-1.1.H   \n",
       "4  2-ALM-F-mjp-1         T0  17068003.T0.2-ALM-F-mjp-1.1.H  2-ALM-F-mjp-1.1.H   \n",
       "\n",
       "            trip_headsign  direction_id  agency_id route_short_name  \\\n",
       "0  City (Flinders Street)             0          1          Alamein   \n",
       "1  City (Flinders Street)             0          1          Alamein   \n",
       "2  City (Flinders Street)             0          1          Alamein   \n",
       "3  City (Flinders Street)             0          1          Alamein   \n",
       "4  City (Flinders Street)             0          1          Alamein   \n",
       "\n",
       "                    route_long_name  route_type  monday  tuesday  wednesday  \\\n",
       "0  Alamein - City (Flinders Street)           2       1        1          1   \n",
       "1  Alamein - City (Flinders Street)           2       1        1          1   \n",
       "2  Alamein - City (Flinders Street)           2       1        1          1   \n",
       "3  Alamein - City (Flinders Street)           2       1        1          1   \n",
       "4  Alamein - City (Flinders Street)           2       1        1          1   \n",
       "\n",
       "   thursday  friday  saturday  sunday  start_date  end_date  \n",
       "0         1       1         0       0    20151023  20151122  \n",
       "1         1       1         0       0    20151023  20151122  \n",
       "2         1       1         0       0    20151023  20151122  \n",
       "3         1       1         0       0    20151023  20151122  \n",
       "4         1       1         0       0    20151023  20151122  "
      ]
     },
     "execution_count": 75,
     "metadata": {},
     "output_type": "execute_result"
    }
   ],
   "source": [
    "# merging with calendar on service_id \n",
    "merge2 = merge1.merge(calendar_data, on = \"service_id\")\n",
    "merge2.head()"
   ]
  },
  {
   "cell_type": "code",
   "execution_count": 76,
   "metadata": {},
   "outputs": [
    {
     "data": {
      "text/html": [
       "<div>\n",
       "<style scoped>\n",
       "    .dataframe tbody tr th:only-of-type {\n",
       "        vertical-align: middle;\n",
       "    }\n",
       "\n",
       "    .dataframe tbody tr th {\n",
       "        vertical-align: top;\n",
       "    }\n",
       "\n",
       "    .dataframe thead th {\n",
       "        text-align: right;\n",
       "    }\n",
       "</style>\n",
       "<table border=\"1\" class=\"dataframe\">\n",
       "  <thead>\n",
       "    <tr style=\"text-align: right;\">\n",
       "      <th></th>\n",
       "      <th>trip_id</th>\n",
       "      <th>arrival_time</th>\n",
       "      <th>departure_time</th>\n",
       "      <th>stop_id</th>\n",
       "      <th>stop_sequence</th>\n",
       "      <th>stop_headsign</th>\n",
       "      <th>pickup_type</th>\n",
       "      <th>drop_off_type</th>\n",
       "      <th>shape_dist_traveled</th>\n",
       "    </tr>\n",
       "  </thead>\n",
       "  <tbody>\n",
       "    <tr>\n",
       "      <th>0</th>\n",
       "      <td>17182517.T2.2-ALM-B-mjp-1.1.H</td>\n",
       "      <td>04:57:00</td>\n",
       "      <td>04:57:00</td>\n",
       "      <td>19847</td>\n",
       "      <td>1</td>\n",
       "      <td>NaN</td>\n",
       "      <td>0</td>\n",
       "      <td>0</td>\n",
       "      <td>0.000000</td>\n",
       "    </tr>\n",
       "    <tr>\n",
       "      <th>1</th>\n",
       "      <td>17182517.T2.2-ALM-B-mjp-1.1.H</td>\n",
       "      <td>04:58:00</td>\n",
       "      <td>04:58:00</td>\n",
       "      <td>19848</td>\n",
       "      <td>2</td>\n",
       "      <td>NaN</td>\n",
       "      <td>0</td>\n",
       "      <td>0</td>\n",
       "      <td>723.017818</td>\n",
       "    </tr>\n",
       "    <tr>\n",
       "      <th>2</th>\n",
       "      <td>17182517.T2.2-ALM-B-mjp-1.1.H</td>\n",
       "      <td>05:00:00</td>\n",
       "      <td>05:00:00</td>\n",
       "      <td>19849</td>\n",
       "      <td>3</td>\n",
       "      <td>NaN</td>\n",
       "      <td>0</td>\n",
       "      <td>0</td>\n",
       "      <td>1951.735072</td>\n",
       "    </tr>\n",
       "    <tr>\n",
       "      <th>3</th>\n",
       "      <td>17182517.T2.2-ALM-B-mjp-1.1.H</td>\n",
       "      <td>05:02:00</td>\n",
       "      <td>05:02:00</td>\n",
       "      <td>19850</td>\n",
       "      <td>4</td>\n",
       "      <td>NaN</td>\n",
       "      <td>0</td>\n",
       "      <td>0</td>\n",
       "      <td>2899.073349</td>\n",
       "    </tr>\n",
       "    <tr>\n",
       "      <th>4</th>\n",
       "      <td>17182517.T2.2-ALM-B-mjp-1.1.H</td>\n",
       "      <td>05:04:00</td>\n",
       "      <td>05:04:00</td>\n",
       "      <td>19851</td>\n",
       "      <td>5</td>\n",
       "      <td>NaN</td>\n",
       "      <td>0</td>\n",
       "      <td>0</td>\n",
       "      <td>3927.090952</td>\n",
       "    </tr>\n",
       "  </tbody>\n",
       "</table>\n",
       "</div>"
      ],
      "text/plain": [
       "                         trip_id arrival_time departure_time  stop_id  \\\n",
       "0  17182517.T2.2-ALM-B-mjp-1.1.H     04:57:00       04:57:00    19847   \n",
       "1  17182517.T2.2-ALM-B-mjp-1.1.H     04:58:00       04:58:00    19848   \n",
       "2  17182517.T2.2-ALM-B-mjp-1.1.H     05:00:00       05:00:00    19849   \n",
       "3  17182517.T2.2-ALM-B-mjp-1.1.H     05:02:00       05:02:00    19850   \n",
       "4  17182517.T2.2-ALM-B-mjp-1.1.H     05:04:00       05:04:00    19851   \n",
       "\n",
       "   stop_sequence  stop_headsign  pickup_type  drop_off_type  \\\n",
       "0              1            NaN            0              0   \n",
       "1              2            NaN            0              0   \n",
       "2              3            NaN            0              0   \n",
       "3              4            NaN            0              0   \n",
       "4              5            NaN            0              0   \n",
       "\n",
       "   shape_dist_traveled  \n",
       "0             0.000000  \n",
       "1           723.017818  \n",
       "2          1951.735072  \n",
       "3          2899.073349  \n",
       "4          3927.090952  "
      ]
     },
     "execution_count": 76,
     "metadata": {},
     "output_type": "execute_result"
    }
   ],
   "source": [
    "stop_times_data.head()"
   ]
  },
  {
   "cell_type": "code",
   "execution_count": 77,
   "metadata": {},
   "outputs": [],
   "source": [
    "# Merging with stop times on trip_id \n",
    "merge3 = merge2.merge(stop_times_data, on = \"trip_id\")"
   ]
  },
  {
   "cell_type": "code",
   "execution_count": 78,
   "metadata": {
    "scrolled": true
   },
   "outputs": [
    {
     "data": {
      "text/html": [
       "<div>\n",
       "<style scoped>\n",
       "    .dataframe tbody tr th:only-of-type {\n",
       "        vertical-align: middle;\n",
       "    }\n",
       "\n",
       "    .dataframe tbody tr th {\n",
       "        vertical-align: top;\n",
       "    }\n",
       "\n",
       "    .dataframe thead th {\n",
       "        text-align: right;\n",
       "    }\n",
       "</style>\n",
       "<table border=\"1\" class=\"dataframe\">\n",
       "  <thead>\n",
       "    <tr style=\"text-align: right;\">\n",
       "      <th></th>\n",
       "      <th>stop_id</th>\n",
       "      <th>stop_name</th>\n",
       "      <th>stop_short_name</th>\n",
       "      <th>stop_lat</th>\n",
       "      <th>stop_lon</th>\n",
       "    </tr>\n",
       "  </thead>\n",
       "  <tbody>\n",
       "    <tr>\n",
       "      <th>0</th>\n",
       "      <td>15351</td>\n",
       "      <td>Sunbury Railway Station</td>\n",
       "      <td>Sunbury</td>\n",
       "      <td>-37.579091</td>\n",
       "      <td>144.727319</td>\n",
       "    </tr>\n",
       "    <tr>\n",
       "      <th>1</th>\n",
       "      <td>15353</td>\n",
       "      <td>Diggers Rest Railway Station</td>\n",
       "      <td>Diggers Rest</td>\n",
       "      <td>-37.627017</td>\n",
       "      <td>144.719922</td>\n",
       "    </tr>\n",
       "    <tr>\n",
       "      <th>2</th>\n",
       "      <td>19827</td>\n",
       "      <td>Stony Point Railway Station</td>\n",
       "      <td>Crib Point</td>\n",
       "      <td>-38.374235</td>\n",
       "      <td>145.221837</td>\n",
       "    </tr>\n",
       "    <tr>\n",
       "      <th>3</th>\n",
       "      <td>19828</td>\n",
       "      <td>Crib Point Railway Station</td>\n",
       "      <td>Crib Point</td>\n",
       "      <td>-38.366123</td>\n",
       "      <td>145.204043</td>\n",
       "    </tr>\n",
       "    <tr>\n",
       "      <th>4</th>\n",
       "      <td>19829</td>\n",
       "      <td>Morradoo Railway Station</td>\n",
       "      <td>Crib Point</td>\n",
       "      <td>-38.354033</td>\n",
       "      <td>145.189602</td>\n",
       "    </tr>\n",
       "  </tbody>\n",
       "</table>\n",
       "</div>"
      ],
      "text/plain": [
       "   stop_id                     stop_name stop_short_name   stop_lat  \\\n",
       "0    15351       Sunbury Railway Station         Sunbury -37.579091   \n",
       "1    15353  Diggers Rest Railway Station    Diggers Rest -37.627017   \n",
       "2    19827   Stony Point Railway Station      Crib Point -38.374235   \n",
       "3    19828    Crib Point Railway Station      Crib Point -38.366123   \n",
       "4    19829      Morradoo Railway Station      Crib Point -38.354033   \n",
       "\n",
       "     stop_lon  \n",
       "0  144.727319  \n",
       "1  144.719922  \n",
       "2  145.221837  \n",
       "3  145.204043  \n",
       "4  145.189602  "
      ]
     },
     "execution_count": 78,
     "metadata": {},
     "output_type": "execute_result"
    }
   ],
   "source": [
    "stops_data.head()"
   ]
  },
  {
   "cell_type": "code",
   "execution_count": 79,
   "metadata": {},
   "outputs": [
    {
     "name": "stdout",
     "output_type": "stream",
     "text": [
      "Merged Data Shape: (390305, 31)\n"
     ]
    }
   ],
   "source": [
    "# Merging with stops data on stop_id \n",
    "merge4 = merge3.merge(stops_data, on = \"stop_id\")\n",
    "print(\"Merged Data Shape:\", merge4.shape)"
   ]
  },
  {
   "cell_type": "code",
   "execution_count": 80,
   "metadata": {},
   "outputs": [
    {
     "data": {
      "text/html": [
       "<div>\n",
       "<style scoped>\n",
       "    .dataframe tbody tr th:only-of-type {\n",
       "        vertical-align: middle;\n",
       "    }\n",
       "\n",
       "    .dataframe tbody tr th {\n",
       "        vertical-align: top;\n",
       "    }\n",
       "\n",
       "    .dataframe thead th {\n",
       "        text-align: right;\n",
       "    }\n",
       "</style>\n",
       "<table border=\"1\" class=\"dataframe\">\n",
       "  <thead>\n",
       "    <tr style=\"text-align: right;\">\n",
       "      <th></th>\n",
       "      <th>route_id</th>\n",
       "      <th>service_id</th>\n",
       "      <th>trip_id</th>\n",
       "      <th>shape_id</th>\n",
       "      <th>trip_headsign</th>\n",
       "      <th>direction_id</th>\n",
       "      <th>agency_id</th>\n",
       "      <th>route_short_name</th>\n",
       "      <th>route_long_name</th>\n",
       "      <th>route_type</th>\n",
       "      <th>...</th>\n",
       "      <th>stop_id</th>\n",
       "      <th>stop_sequence</th>\n",
       "      <th>stop_headsign</th>\n",
       "      <th>pickup_type</th>\n",
       "      <th>drop_off_type</th>\n",
       "      <th>shape_dist_traveled</th>\n",
       "      <th>stop_name</th>\n",
       "      <th>stop_short_name</th>\n",
       "      <th>stop_lat</th>\n",
       "      <th>stop_lon</th>\n",
       "    </tr>\n",
       "  </thead>\n",
       "  <tbody>\n",
       "    <tr>\n",
       "      <th>0</th>\n",
       "      <td>2-ALM-F-mjp-1</td>\n",
       "      <td>T0</td>\n",
       "      <td>17067982.T0.2-ALM-F-mjp-1.1.H</td>\n",
       "      <td>2-ALM-F-mjp-1.1.H</td>\n",
       "      <td>City (Flinders Street)</td>\n",
       "      <td>0</td>\n",
       "      <td>1</td>\n",
       "      <td>Alamein</td>\n",
       "      <td>Alamein - City (Flinders Street)</td>\n",
       "      <td>2</td>\n",
       "      <td>...</td>\n",
       "      <td>19847</td>\n",
       "      <td>1</td>\n",
       "      <td>NaN</td>\n",
       "      <td>0</td>\n",
       "      <td>0</td>\n",
       "      <td>0.0</td>\n",
       "      <td>Alamein Railway Station</td>\n",
       "      <td>Ashburton</td>\n",
       "      <td>-37.86832</td>\n",
       "      <td>145.079656</td>\n",
       "    </tr>\n",
       "    <tr>\n",
       "      <th>1</th>\n",
       "      <td>2-ALM-F-mjp-1</td>\n",
       "      <td>T0</td>\n",
       "      <td>17067988.T0.2-ALM-F-mjp-1.1.H</td>\n",
       "      <td>2-ALM-F-mjp-1.1.H</td>\n",
       "      <td>City (Flinders Street)</td>\n",
       "      <td>0</td>\n",
       "      <td>1</td>\n",
       "      <td>Alamein</td>\n",
       "      <td>Alamein - City (Flinders Street)</td>\n",
       "      <td>2</td>\n",
       "      <td>...</td>\n",
       "      <td>19847</td>\n",
       "      <td>1</td>\n",
       "      <td>NaN</td>\n",
       "      <td>0</td>\n",
       "      <td>0</td>\n",
       "      <td>0.0</td>\n",
       "      <td>Alamein Railway Station</td>\n",
       "      <td>Ashburton</td>\n",
       "      <td>-37.86832</td>\n",
       "      <td>145.079656</td>\n",
       "    </tr>\n",
       "    <tr>\n",
       "      <th>2</th>\n",
       "      <td>2-ALM-F-mjp-1</td>\n",
       "      <td>T0</td>\n",
       "      <td>17067992.T0.2-ALM-F-mjp-1.1.H</td>\n",
       "      <td>2-ALM-F-mjp-1.1.H</td>\n",
       "      <td>City (Flinders Street)</td>\n",
       "      <td>0</td>\n",
       "      <td>1</td>\n",
       "      <td>Alamein</td>\n",
       "      <td>Alamein - City (Flinders Street)</td>\n",
       "      <td>2</td>\n",
       "      <td>...</td>\n",
       "      <td>19847</td>\n",
       "      <td>1</td>\n",
       "      <td>NaN</td>\n",
       "      <td>0</td>\n",
       "      <td>0</td>\n",
       "      <td>0.0</td>\n",
       "      <td>Alamein Railway Station</td>\n",
       "      <td>Ashburton</td>\n",
       "      <td>-37.86832</td>\n",
       "      <td>145.079656</td>\n",
       "    </tr>\n",
       "    <tr>\n",
       "      <th>3</th>\n",
       "      <td>2-ALM-F-mjp-1</td>\n",
       "      <td>T0</td>\n",
       "      <td>17067999.T0.2-ALM-F-mjp-1.1.H</td>\n",
       "      <td>2-ALM-F-mjp-1.1.H</td>\n",
       "      <td>City (Flinders Street)</td>\n",
       "      <td>0</td>\n",
       "      <td>1</td>\n",
       "      <td>Alamein</td>\n",
       "      <td>Alamein - City (Flinders Street)</td>\n",
       "      <td>2</td>\n",
       "      <td>...</td>\n",
       "      <td>19847</td>\n",
       "      <td>1</td>\n",
       "      <td>NaN</td>\n",
       "      <td>0</td>\n",
       "      <td>0</td>\n",
       "      <td>0.0</td>\n",
       "      <td>Alamein Railway Station</td>\n",
       "      <td>Ashburton</td>\n",
       "      <td>-37.86832</td>\n",
       "      <td>145.079656</td>\n",
       "    </tr>\n",
       "    <tr>\n",
       "      <th>4</th>\n",
       "      <td>2-ALM-F-mjp-1</td>\n",
       "      <td>T0</td>\n",
       "      <td>17068003.T0.2-ALM-F-mjp-1.1.H</td>\n",
       "      <td>2-ALM-F-mjp-1.1.H</td>\n",
       "      <td>City (Flinders Street)</td>\n",
       "      <td>0</td>\n",
       "      <td>1</td>\n",
       "      <td>Alamein</td>\n",
       "      <td>Alamein - City (Flinders Street)</td>\n",
       "      <td>2</td>\n",
       "      <td>...</td>\n",
       "      <td>19847</td>\n",
       "      <td>1</td>\n",
       "      <td>NaN</td>\n",
       "      <td>0</td>\n",
       "      <td>0</td>\n",
       "      <td>0.0</td>\n",
       "      <td>Alamein Railway Station</td>\n",
       "      <td>Ashburton</td>\n",
       "      <td>-37.86832</td>\n",
       "      <td>145.079656</td>\n",
       "    </tr>\n",
       "  </tbody>\n",
       "</table>\n",
       "<p>5 rows × 31 columns</p>\n",
       "</div>"
      ],
      "text/plain": [
       "        route_id service_id                        trip_id           shape_id  \\\n",
       "0  2-ALM-F-mjp-1         T0  17067982.T0.2-ALM-F-mjp-1.1.H  2-ALM-F-mjp-1.1.H   \n",
       "1  2-ALM-F-mjp-1         T0  17067988.T0.2-ALM-F-mjp-1.1.H  2-ALM-F-mjp-1.1.H   \n",
       "2  2-ALM-F-mjp-1         T0  17067992.T0.2-ALM-F-mjp-1.1.H  2-ALM-F-mjp-1.1.H   \n",
       "3  2-ALM-F-mjp-1         T0  17067999.T0.2-ALM-F-mjp-1.1.H  2-ALM-F-mjp-1.1.H   \n",
       "4  2-ALM-F-mjp-1         T0  17068003.T0.2-ALM-F-mjp-1.1.H  2-ALM-F-mjp-1.1.H   \n",
       "\n",
       "            trip_headsign  direction_id  agency_id route_short_name  \\\n",
       "0  City (Flinders Street)             0          1          Alamein   \n",
       "1  City (Flinders Street)             0          1          Alamein   \n",
       "2  City (Flinders Street)             0          1          Alamein   \n",
       "3  City (Flinders Street)             0          1          Alamein   \n",
       "4  City (Flinders Street)             0          1          Alamein   \n",
       "\n",
       "                    route_long_name  route_type  ...  stop_id  stop_sequence  \\\n",
       "0  Alamein - City (Flinders Street)           2  ...    19847              1   \n",
       "1  Alamein - City (Flinders Street)           2  ...    19847              1   \n",
       "2  Alamein - City (Flinders Street)           2  ...    19847              1   \n",
       "3  Alamein - City (Flinders Street)           2  ...    19847              1   \n",
       "4  Alamein - City (Flinders Street)           2  ...    19847              1   \n",
       "\n",
       "   stop_headsign  pickup_type  drop_off_type  shape_dist_traveled  \\\n",
       "0            NaN            0              0                  0.0   \n",
       "1            NaN            0              0                  0.0   \n",
       "2            NaN            0              0                  0.0   \n",
       "3            NaN            0              0                  0.0   \n",
       "4            NaN            0              0                  0.0   \n",
       "\n",
       "                 stop_name  stop_short_name  stop_lat    stop_lon  \n",
       "0  Alamein Railway Station        Ashburton -37.86832  145.079656  \n",
       "1  Alamein Railway Station        Ashburton -37.86832  145.079656  \n",
       "2  Alamein Railway Station        Ashburton -37.86832  145.079656  \n",
       "3  Alamein Railway Station        Ashburton -37.86832  145.079656  \n",
       "4  Alamein Railway Station        Ashburton -37.86832  145.079656  \n",
       "\n",
       "[5 rows x 31 columns]"
      ]
     },
     "execution_count": 80,
     "metadata": {},
     "output_type": "execute_result"
    }
   ],
   "source": [
    "# Final merged data : merge4\n",
    "merge4.head()"
   ]
  },
  {
   "cell_type": "code",
   "execution_count": 81,
   "metadata": {},
   "outputs": [
    {
     "name": "stdout",
     "output_type": "stream",
     "text": [
      "<class 'pandas.core.frame.DataFrame'>\n",
      "Int64Index: 390305 entries, 0 to 390304\n",
      "Data columns (total 31 columns):\n",
      " #   Column               Non-Null Count   Dtype  \n",
      "---  ------               --------------   -----  \n",
      " 0   route_id             390305 non-null  object \n",
      " 1   service_id           390305 non-null  object \n",
      " 2   trip_id              390305 non-null  object \n",
      " 3   shape_id             390275 non-null  object \n",
      " 4   trip_headsign        390305 non-null  object \n",
      " 5   direction_id         390305 non-null  int64  \n",
      " 6   agency_id            390305 non-null  int64  \n",
      " 7   route_short_name     390305 non-null  object \n",
      " 8   route_long_name      390305 non-null  object \n",
      " 9   route_type           390305 non-null  int64  \n",
      " 10  monday               390305 non-null  int64  \n",
      " 11  tuesday              390305 non-null  int64  \n",
      " 12  wednesday            390305 non-null  int64  \n",
      " 13  thursday             390305 non-null  int64  \n",
      " 14  friday               390305 non-null  int64  \n",
      " 15  saturday             390305 non-null  int64  \n",
      " 16  sunday               390305 non-null  int64  \n",
      " 17  start_date           390305 non-null  int64  \n",
      " 18  end_date             390305 non-null  int64  \n",
      " 19  arrival_time         390305 non-null  object \n",
      " 20  departure_time       390305 non-null  object \n",
      " 21  stop_id              390305 non-null  int64  \n",
      " 22  stop_sequence        390305 non-null  int64  \n",
      " 23  stop_headsign        0 non-null       float64\n",
      " 24  pickup_type          390305 non-null  int64  \n",
      " 25  drop_off_type        390305 non-null  int64  \n",
      " 26  shape_dist_traveled  390217 non-null  float64\n",
      " 27  stop_name            390305 non-null  object \n",
      " 28  stop_short_name      390305 non-null  object \n",
      " 29  stop_lat             390305 non-null  float64\n",
      " 30  stop_lon             390305 non-null  float64\n",
      "dtypes: float64(4), int64(16), object(11)\n",
      "memory usage: 95.3+ MB\n"
     ]
    }
   ],
   "source": [
    "# General Information about the merged data \n",
    "merge4.info()"
   ]
  },
  {
   "cell_type": "markdown",
   "metadata": {},
   "source": [
    "### 2.2.7 Transfer_flag <a class=\"anchor\" id=\"sec_227\"></a>\n",
    "\n",
    "* This is a Boolean attribute. \n",
    "* This indicates whether there is a direct trip to Flinders Street Station from the closest station between 7 am - 9 am on weekdays.\n",
    "* **Flag = 0** : If there is a direct trip ( i.e there is no transfer is required between the closest station and Flinders Street Station)\n",
    "* **Flag = 1** : Otherwise "
   ]
  },
  {
   "cell_type": "code",
   "execution_count": 82,
   "metadata": {},
   "outputs": [],
   "source": [
    "#Function for transfer flag \n",
    "def transfer_flag_function(row):\n",
    "    if row['monday'] == 1 and row['tuesday'] == 1 and \\\n",
    "    row['wednesday'] == 1 and row['thursday'] == 1 and \\\n",
    "    row['friday'] == 1 and row['departure_time'] >= \"07:00:00\" \\\n",
    "    and row['departure_time'] <= \"09:00:00\":\n",
    "        return 0\n",
    "    else:\n",
    "        return 1"
   ]
  },
  {
   "cell_type": "code",
   "execution_count": 83,
   "metadata": {},
   "outputs": [],
   "source": [
    "# Defining the transfer flag using the above functions\n",
    "merge4['Transfer_flag'] = merge4.apply(lambda row: \\\n",
    "                                       transfer_flag_function(row), \n",
    "                                       axis = 1)"
   ]
  },
  {
   "cell_type": "markdown",
   "metadata": {},
   "source": [
    "### 2.2.8 Train_station_id, travel_min_to_CBD, Distance_to_train_station <a class=\"anchor\" id=\"sec_228\"></a>"
   ]
  },
  {
   "cell_type": "code",
   "execution_count": 84,
   "metadata": {},
   "outputs": [],
   "source": [
    "# Initializing the new columns \n",
    "integrated_data['Train_station_id'] = 0\n",
    "integrated_data['Distance_to_train_station'] = 0\n",
    "integrated_data['travel_min_to_CBD'] = 0\n",
    "#integrated_data.head()"
   ]
  },
  {
   "cell_type": "code",
   "execution_count": 85,
   "metadata": {},
   "outputs": [
    {
     "name": "stdout",
     "output_type": "stream",
     "text": [
      "[19854]\n"
     ]
    }
   ],
   "source": [
    "# Station ID for Flinder's Street \n",
    "flinders_id = list(merge4[merge4['stop_name'].str.contains\\\n",
    "                          ('Flinders Street Railway Station')]\\\n",
    "                   ['stop_id'].unique())\n",
    "print(flinders_id)"
   ]
  },
  {
   "cell_type": "code",
   "execution_count": 86,
   "metadata": {},
   "outputs": [
    {
     "name": "stdout",
     "output_type": "stream",
     "text": [
      "Flinders Data Shape: (17850, 32)\n"
     ]
    }
   ],
   "source": [
    "# Dataframe containing Flinders Street Railway Station as the stop\n",
    "flinders_df = merge4[(merge4['stop_id'].isin(flinders_id))]\n",
    "print(\"Flinders Data Shape:\", flinders_df.shape)"
   ]
  },
  {
   "cell_type": "code",
   "execution_count": 87,
   "metadata": {},
   "outputs": [
    {
     "name": "stdout",
     "output_type": "stream",
     "text": [
      "Flinders Data Direct Trips Shape: (381, 32)\n"
     ]
    }
   ],
   "source": [
    "# Fetch data with flag 0 which indicates a direct trip\n",
    "flinders_df = flinders_df[flinders_df['Transfer_flag'] == 0]\n",
    "print(\"Flinders Data Direct Trips Shape:\", flinders_df.shape)"
   ]
  },
  {
   "cell_type": "code",
   "execution_count": 88,
   "metadata": {},
   "outputs": [
    {
     "name": "stdout",
     "output_type": "stream",
     "text": [
      "Flinders Data after adjusting stop sequence: (297, 32)\n"
     ]
    }
   ],
   "source": [
    "# When stop_sequence = 1, it means Flinders is the source\n",
    "flinders_df = flinders_df[flinders_df['stop_sequence'] != 1]\n",
    "print(\"Flinders Data after adjusting stop sequence:\", flinders_df.shape)"
   ]
  },
  {
   "cell_type": "code",
   "execution_count": 89,
   "metadata": {},
   "outputs": [],
   "source": [
    "# Function that gives us distance dataframe of a given property from all stations \n",
    "def distance_to_station(lat1, lon1):\n",
    "    \n",
    "    # Creating a new dataframe\n",
    "    stops_distance = pd.DataFrame(columns = ['stop_id', 'distance'])\n",
    "    \n",
    "    # Iterating through the stops data \n",
    "    for index, row in stops_data.iterrows():\n",
    "        distance = haversine_distance(lat1, lon1, \\\n",
    "                                      row['stop_lat'], row['stop_lon'])\n",
    "        stops_distance.loc[index, 'stop_id'] = row['stop_id']\n",
    "        stops_distance.loc[index, 'distance'] = distance\n",
    "    \n",
    "    # Sorting it through the distance values \n",
    "    stops_distance.sort_values(by = ['distance'], inplace = True)\n",
    "    \n",
    "    # Returning the distance dataframe \n",
    "    return stops_distance"
   ]
  },
  {
   "cell_type": "markdown",
   "metadata": {},
   "source": [
    "**def travel_time():**\n",
    "* The below function checks whether there exists a trip between the given station and Flinders.\n",
    "    * It returns a Boolean Value:\n",
    "        * True: If the Trip exists\n",
    "        * False: If there is no Trip \n",
    "    * It also returns the minimum time taken to travel to CBD"
   ]
  },
  {
   "cell_type": "code",
   "execution_count": 90,
   "metadata": {},
   "outputs": [],
   "source": [
    "# Function to calculate the travel time to CBD \n",
    "def travel_time(id):\n",
    "    \n",
    "    # Takes in the information for the required stop \n",
    "    stop_df = merge4[merge4['stop_id'] == id]\n",
    "    \n",
    "    # Merge this stop data with the Flinders data using trip_id \n",
    "    flinders_stop = flinders_df.merge(stop_df, on ='trip_id')\n",
    "    \n",
    "    # Assigning the number of rows and columns using the shape function \n",
    "    rows1, columns1 = flinders_stop.shape\n",
    "    \n",
    "    # Considering only when you have non-zero rows \n",
    "    if rows1 > 0:\n",
    "        flinders_stop['travel_time'] = ((pd.to_datetime(flinders_stop['arrival_time_x']) - \\\n",
    "                               pd.to_datetime(flinders_stop['arrival_time_y'])))/ np.timedelta64(1, 's')/60.0\n",
    "        \n",
    "        # Considering only positive travel time \n",
    "        flinders_stop = flinders_stop[flinders_stop['travel_time'] >= 0]\n",
    "        \n",
    "        rows2, columns2 = flinders_stop.shape\n",
    "        # Considering only when you have non-zero rows \n",
    "        if rows2 > 0:\n",
    "            # As per the assignment specification provided, when you find the average \n",
    "            return True, flinders_stop['travel_time'].mean()\n",
    "        else:\n",
    "            return False, 0\n",
    "    else:\n",
    "        return False, 0"
   ]
  },
  {
   "cell_type": "code",
   "execution_count": 91,
   "metadata": {},
   "outputs": [],
   "source": [
    "# Converting to numeric datatype for calculations\n",
    "integrated_data['lat'] = pd.to_numeric(integrated_data['lat'], errors='coerce').fillna(0)\n",
    "integrated_data['lng'] = pd.to_numeric(integrated_data['lng'], errors='coerce').fillna(0)\n",
    "#integrated_data.info()"
   ]
  },
  {
   "cell_type": "code",
   "execution_count": 92,
   "metadata": {},
   "outputs": [],
   "source": [
    "# Iterating through the integrated data df\n",
    "for index1, row1 in integrated_data.iterrows():\n",
    "    \n",
    "    # Assigning the given property latitude to property_lat\n",
    "    property_lat = row1['lat']\n",
    "    \n",
    "    # Assigning the given property longitude to property_lng \n",
    "    property_lon = row1['lng']\n",
    "    \n",
    "    # Generating the distance df\n",
    "    distance_df = distance_to_station(property_lat, property_lon)\n",
    "    \n",
    "    # Iterating through the distance df \n",
    "    for index2, row2 in distance_df.iterrows():\n",
    "        \n",
    "        # Calling the function in order to calculate the travel time to CBD \n",
    "        trip_exists, average_time = travel_time(row2['stop_id'])\n",
    "        \n",
    "        # If the value of trip_exists is True \n",
    "        if trip_exists:\n",
    "            \n",
    "            # Assigning the nearest station stop id as the Nearest Train Station ID\n",
    "            integrated_data.loc[index1, 'Train_station_id'] = row2['stop_id']\n",
    "            \n",
    "            # Assigning the distance of the nearest stop as the nearest station distance \n",
    "            integrated_data.loc[index1, 'Distance_to_train_station'] = row2['distance']\n",
    "            \n",
    "            # Assigning the average time taken as the minimum time taken to reach CBD\n",
    "            integrated_data.loc[index1, 'travel_min_to_CBD'] = average_time\n",
    "            \n",
    "            \n",
    "            # We need to come out of this loop as soon as these assignments are made \n",
    "            break           "
   ]
  },
  {
   "cell_type": "code",
   "execution_count": 93,
   "metadata": {},
   "outputs": [
    {
     "data": {
      "text/html": [
       "<div>\n",
       "<style scoped>\n",
       "    .dataframe tbody tr th:only-of-type {\n",
       "        vertical-align: middle;\n",
       "    }\n",
       "\n",
       "    .dataframe tbody tr th {\n",
       "        vertical-align: top;\n",
       "    }\n",
       "\n",
       "    .dataframe thead th {\n",
       "        text-align: right;\n",
       "    }\n",
       "</style>\n",
       "<table border=\"1\" class=\"dataframe\">\n",
       "  <thead>\n",
       "    <tr style=\"text-align: right;\">\n",
       "      <th></th>\n",
       "      <th>Property_id</th>\n",
       "      <th>lat</th>\n",
       "      <th>lng</th>\n",
       "      <th>addr_street</th>\n",
       "      <th>price</th>\n",
       "      <th>property_type</th>\n",
       "      <th>year</th>\n",
       "      <th>bedrooms</th>\n",
       "      <th>bathrooms</th>\n",
       "      <th>parking_space</th>\n",
       "      <th>Suburb</th>\n",
       "      <th>Distance_to_sc</th>\n",
       "      <th>Shopping_center_id</th>\n",
       "      <th>Distance_to_hospital</th>\n",
       "      <th>Hospital_id</th>\n",
       "      <th>Distance_to_supermarket</th>\n",
       "      <th>Supermarket_id</th>\n",
       "      <th>Train_station_id</th>\n",
       "      <th>Distance_to_train_station</th>\n",
       "      <th>travel_min_to_CBD</th>\n",
       "    </tr>\n",
       "  </thead>\n",
       "  <tbody>\n",
       "    <tr>\n",
       "      <th>0</th>\n",
       "      <td>53425</td>\n",
       "      <td>-37.813198</td>\n",
       "      <td>145.002348</td>\n",
       "      <td>50 Lambert Street</td>\n",
       "      <td>5984000</td>\n",
       "      <td>house</td>\n",
       "      <td>2010</td>\n",
       "      <td>3</td>\n",
       "      <td>1</td>\n",
       "      <td>1</td>\n",
       "      <td>not available</td>\n",
       "      <td>2.6713</td>\n",
       "      <td>SC_068</td>\n",
       "      <td>0.2982</td>\n",
       "      <td>hospital_134</td>\n",
       "      <td>0.7176</td>\n",
       "      <td>S_076</td>\n",
       "      <td>19984</td>\n",
       "      <td>3.0781</td>\n",
       "      <td>33.866667</td>\n",
       "    </tr>\n",
       "    <tr>\n",
       "      <th>1</th>\n",
       "      <td>3979</td>\n",
       "      <td>-37.815781</td>\n",
       "      <td>144.894272</td>\n",
       "      <td>96 Stephen Street</td>\n",
       "      <td>7136000</td>\n",
       "      <td>house</td>\n",
       "      <td>2009</td>\n",
       "      <td>2</td>\n",
       "      <td>1</td>\n",
       "      <td>1</td>\n",
       "      <td>not available</td>\n",
       "      <td>3.7905</td>\n",
       "      <td>SC_043</td>\n",
       "      <td>2.6193</td>\n",
       "      <td>hospital_056</td>\n",
       "      <td>1.7055</td>\n",
       "      <td>S_201</td>\n",
       "      <td>19898</td>\n",
       "      <td>0.7642</td>\n",
       "      <td>35.250000</td>\n",
       "    </tr>\n",
       "    <tr>\n",
       "      <th>2</th>\n",
       "      <td>20162</td>\n",
       "      <td>-37.800716</td>\n",
       "      <td>144.973143</td>\n",
       "      <td>37 Owen Street</td>\n",
       "      <td>12870000</td>\n",
       "      <td>house</td>\n",
       "      <td>2011</td>\n",
       "      <td>2</td>\n",
       "      <td>1</td>\n",
       "      <td>1</td>\n",
       "      <td>not available</td>\n",
       "      <td>1.2727</td>\n",
       "      <td>SC_008</td>\n",
       "      <td>0.6710</td>\n",
       "      <td>hospital_188</td>\n",
       "      <td>0.5122</td>\n",
       "      <td>S_200</td>\n",
       "      <td>19875</td>\n",
       "      <td>2.1447</td>\n",
       "      <td>30.071429</td>\n",
       "    </tr>\n",
       "    <tr>\n",
       "      <th>3</th>\n",
       "      <td>52140</td>\n",
       "      <td>-37.814573</td>\n",
       "      <td>144.994122</td>\n",
       "      <td>11 Leeds Street</td>\n",
       "      <td>6314000</td>\n",
       "      <td>house</td>\n",
       "      <td>2015</td>\n",
       "      <td>1</td>\n",
       "      <td>1</td>\n",
       "      <td>1</td>\n",
       "      <td>not available</td>\n",
       "      <td>1.9431</td>\n",
       "      <td>SC_068</td>\n",
       "      <td>0.2657</td>\n",
       "      <td>hospital_172</td>\n",
       "      <td>0.5679</td>\n",
       "      <td>S_076</td>\n",
       "      <td>20014</td>\n",
       "      <td>1.1991</td>\n",
       "      <td>23.000000</td>\n",
       "    </tr>\n",
       "    <tr>\n",
       "      <th>4</th>\n",
       "      <td>81404</td>\n",
       "      <td>-37.978701</td>\n",
       "      <td>145.199705</td>\n",
       "      <td>6 Campbell Street</td>\n",
       "      <td>4914000</td>\n",
       "      <td>house</td>\n",
       "      <td>2010</td>\n",
       "      <td>3</td>\n",
       "      <td>1</td>\n",
       "      <td>1</td>\n",
       "      <td>not available</td>\n",
       "      <td>1.6395</td>\n",
       "      <td>SC_112</td>\n",
       "      <td>1.4347</td>\n",
       "      <td>hospital_018</td>\n",
       "      <td>1.3255</td>\n",
       "      <td>S_183</td>\n",
       "      <td>19947</td>\n",
       "      <td>0.7196</td>\n",
       "      <td>18.750000</td>\n",
       "    </tr>\n",
       "  </tbody>\n",
       "</table>\n",
       "</div>"
      ],
      "text/plain": [
       "  Property_id        lat         lng        addr_street     price  \\\n",
       "0       53425 -37.813198  145.002348  50 Lambert Street   5984000   \n",
       "1        3979 -37.815781  144.894272  96 Stephen Street   7136000   \n",
       "2       20162 -37.800716  144.973143     37 Owen Street  12870000   \n",
       "3       52140 -37.814573  144.994122    11 Leeds Street   6314000   \n",
       "4       81404 -37.978701  145.199705  6 Campbell Street   4914000   \n",
       "\n",
       "  property_type  year bedrooms bathrooms parking_space         Suburb  \\\n",
       "0         house  2010        3         1             1  not available   \n",
       "1         house  2009        2         1             1  not available   \n",
       "2         house  2011        2         1             1  not available   \n",
       "3         house  2015        1         1             1  not available   \n",
       "4         house  2010        3         1             1  not available   \n",
       "\n",
       "   Distance_to_sc Shopping_center_id  Distance_to_hospital   Hospital_id  \\\n",
       "0          2.6713             SC_068                0.2982  hospital_134   \n",
       "1          3.7905             SC_043                2.6193  hospital_056   \n",
       "2          1.2727             SC_008                0.6710  hospital_188   \n",
       "3          1.9431             SC_068                0.2657  hospital_172   \n",
       "4          1.6395             SC_112                1.4347  hospital_018   \n",
       "\n",
       "   Distance_to_supermarket Supermarket_id  Train_station_id  \\\n",
       "0                   0.7176          S_076             19984   \n",
       "1                   1.7055          S_201             19898   \n",
       "2                   0.5122          S_200             19875   \n",
       "3                   0.5679          S_076             20014   \n",
       "4                   1.3255          S_183             19947   \n",
       "\n",
       "   Distance_to_train_station  travel_min_to_CBD  \n",
       "0                     3.0781          33.866667  \n",
       "1                     0.7642          35.250000  \n",
       "2                     2.1447          30.071429  \n",
       "3                     1.1991          23.000000  \n",
       "4                     0.7196          18.750000  "
      ]
     },
     "execution_count": 93,
     "metadata": {},
     "output_type": "execute_result"
    }
   ],
   "source": [
    "integrated_data.head()"
   ]
  },
  {
   "cell_type": "code",
   "execution_count": 94,
   "metadata": {},
   "outputs": [],
   "source": [
    "# In order to generate the transfer flag, we rename the column first \n",
    "merge4.rename(columns = {'stop_id': 'Train_station_id'}, inplace = True)\n",
    "\n",
    "# We consider only the required columns for merging \n",
    "x = ['Train_station_id','Transfer_flag']\n",
    "final_merge = merge4[x]"
   ]
  },
  {
   "cell_type": "code",
   "execution_count": 95,
   "metadata": {},
   "outputs": [],
   "source": [
    "# Merging the data in order to get the transfer flag \n",
    "final_integrated_data = integrated_data.merge(final_merge, on = \"Train_station_id\")"
   ]
  },
  {
   "cell_type": "code",
   "execution_count": 96,
   "metadata": {},
   "outputs": [
    {
     "name": "stdout",
     "output_type": "stream",
     "text": [
      "<class 'pandas.core.frame.DataFrame'>\n",
      "Int64Index: 3346562 entries, 0 to 3346561\n",
      "Data columns (total 21 columns):\n",
      " #   Column                     Dtype  \n",
      "---  ------                     -----  \n",
      " 0   Property_id                object \n",
      " 1   lat                        float64\n",
      " 2   lng                        float64\n",
      " 3   addr_street                object \n",
      " 4   price                      object \n",
      " 5   property_type              object \n",
      " 6   year                       object \n",
      " 7   bedrooms                   object \n",
      " 8   bathrooms                  object \n",
      " 9   parking_space              object \n",
      " 10  Suburb                     object \n",
      " 11  Distance_to_sc             float64\n",
      " 12  Shopping_center_id         object \n",
      " 13  Distance_to_hospital       float64\n",
      " 14  Hospital_id                object \n",
      " 15  Distance_to_supermarket    float64\n",
      " 16  Supermarket_id             object \n",
      " 17  Train_station_id           int64  \n",
      " 18  Distance_to_train_station  float64\n",
      " 19  travel_min_to_CBD          float64\n",
      " 20  Transfer_flag              int64  \n",
      "dtypes: float64(7), int64(2), object(12)\n",
      "memory usage: 561.7+ MB\n"
     ]
    }
   ],
   "source": [
    "final_integrated_data.head()\n",
    "final_integrated_data.info()"
   ]
  },
  {
   "cell_type": "code",
   "execution_count": 97,
   "metadata": {},
   "outputs": [
    {
     "data": {
      "text/plain": [
       "(3346562, 21)"
      ]
     },
     "execution_count": 97,
     "metadata": {},
     "output_type": "execute_result"
    }
   ],
   "source": [
    "final_integrated_data.shape"
   ]
  },
  {
   "cell_type": "code",
   "execution_count": 148,
   "metadata": {},
   "outputs": [],
   "source": [
    "# Write to output file\n",
    "final_integrated_data.to_csv('30945305_A3_solution.csv', index=False)"
   ]
  },
  {
   "cell_type": "markdown",
   "metadata": {},
   "source": [
    "## 2.3 Task 2 : Data Reshaping <a class=\"anchor\" id=\"sec_23\"></a>\n",
    "\n",
    "* This task revolved around studying the various effects of the following methods.\n",
    "* **Normalization methods** such as: \n",
    "    * standardization\n",
    "    * minmax normalization\n",
    "* **transformation methods** such as: \n",
    "    * log transformation\n",
    "    * power transformation\n",
    "    * box-cox transformation\n",
    "* Our target variable is \"price\".\n",
    "* Our predictor variables are: \n",
    "    * “Distance_to_sc”\n",
    "    * “travel_min_to_CBD”\n",
    "    * “Distance_to_hospital” \n",
    "* We are interested in developing a **Linear Model** in order to predict the price using these factors.\n",
    "* Finally, our focus will be on two main linear regression assumptions:\n",
    "    * Normality\n",
    "    * Linearity"
   ]
  },
  {
   "cell_type": "code",
   "execution_count": 99,
   "metadata": {},
   "outputs": [],
   "source": [
    "# Predictors as per the specification \n",
    "columns = ['Distance_to_sc', 'travel_min_to_CBD', 'Distance_to_hospital']"
   ]
  },
  {
   "cell_type": "code",
   "execution_count": 100,
   "metadata": {},
   "outputs": [
    {
     "name": "stdout",
     "output_type": "stream",
     "text": [
      "Structure of the predictors: (3346562, 3)\n"
     ]
    },
    {
     "data": {
      "text/html": [
       "<div>\n",
       "<style scoped>\n",
       "    .dataframe tbody tr th:only-of-type {\n",
       "        vertical-align: middle;\n",
       "    }\n",
       "\n",
       "    .dataframe tbody tr th {\n",
       "        vertical-align: top;\n",
       "    }\n",
       "\n",
       "    .dataframe thead th {\n",
       "        text-align: right;\n",
       "    }\n",
       "</style>\n",
       "<table border=\"1\" class=\"dataframe\">\n",
       "  <thead>\n",
       "    <tr style=\"text-align: right;\">\n",
       "      <th></th>\n",
       "      <th>Distance_to_sc</th>\n",
       "      <th>travel_min_to_CBD</th>\n",
       "      <th>Distance_to_hospital</th>\n",
       "    </tr>\n",
       "  </thead>\n",
       "  <tbody>\n",
       "    <tr>\n",
       "      <th>0</th>\n",
       "      <td>2.6713</td>\n",
       "      <td>33.866667</td>\n",
       "      <td>0.2982</td>\n",
       "    </tr>\n",
       "    <tr>\n",
       "      <th>1</th>\n",
       "      <td>2.6713</td>\n",
       "      <td>33.866667</td>\n",
       "      <td>0.2982</td>\n",
       "    </tr>\n",
       "    <tr>\n",
       "      <th>2</th>\n",
       "      <td>2.6713</td>\n",
       "      <td>33.866667</td>\n",
       "      <td>0.2982</td>\n",
       "    </tr>\n",
       "    <tr>\n",
       "      <th>3</th>\n",
       "      <td>2.6713</td>\n",
       "      <td>33.866667</td>\n",
       "      <td>0.2982</td>\n",
       "    </tr>\n",
       "    <tr>\n",
       "      <th>4</th>\n",
       "      <td>2.6713</td>\n",
       "      <td>33.866667</td>\n",
       "      <td>0.2982</td>\n",
       "    </tr>\n",
       "  </tbody>\n",
       "</table>\n",
       "</div>"
      ],
      "text/plain": [
       "   Distance_to_sc  travel_min_to_CBD  Distance_to_hospital\n",
       "0          2.6713          33.866667                0.2982\n",
       "1          2.6713          33.866667                0.2982\n",
       "2          2.6713          33.866667                0.2982\n",
       "3          2.6713          33.866667                0.2982\n",
       "4          2.6713          33.866667                0.2982"
      ]
     },
     "execution_count": 100,
     "metadata": {},
     "output_type": "execute_result"
    }
   ],
   "source": [
    "predictors = final_integrated_data[columns]\n",
    "print(\"Structure of the predictors:\",predictors.shape)\n",
    "predictors.head()"
   ]
  },
  {
   "cell_type": "code",
   "execution_count": 101,
   "metadata": {},
   "outputs": [],
   "source": [
    "# Creating a copy of the final integrated data to measure the performance\n",
    "data_df = final_integrated_data.copy()"
   ]
  },
  {
   "cell_type": "code",
   "execution_count": 102,
   "metadata": {},
   "outputs": [],
   "source": [
    "# Initializing the linear regression variable \n",
    "lm = LinearRegression()\n",
    "\n",
    "# Splitting the final integrated data into training and testing data \n",
    "# test_size : 25% of the data proportion to be used as test sample \n",
    "# random_state : In order to control the random number generated. Popular seeds are 0 and 42\n",
    "x_train, x_test, y_train, y_test = train_test_split(predictors, data_df['price'], test_size = 0.25, random_state = 50)"
   ]
  },
  {
   "cell_type": "code",
   "execution_count": 103,
   "metadata": {},
   "outputs": [
    {
     "name": "stdout",
     "output_type": "stream",
     "text": [
      "R-squared Value :  0.09698062245079553\n",
      "Mean Squared Error (MSE) Value :  27957646295379.98\n",
      "Root Mean Squared Error (RMSE) Value :  5287499.05866469\n"
     ]
    }
   ],
   "source": [
    "# Using the training data to fit the linear model \n",
    "lm.fit(x_train, y_train)\n",
    "\n",
    "# Using the trained model to predict the model on the test data \n",
    "predicted_model = lm.predict(x_test)\n",
    "\n",
    "# Generating the R-Squared value \n",
    "print(\"R-squared Value : \", lm.score(x_test, y_test))\n",
    "\n",
    "# Generating the Mean Squared Error value\n",
    "print(\"Mean Squared Error (MSE) Value : \", mean_squared_error(y_test, predicted_model))\n",
    "\n",
    "# Generating the Root Mean Squared Error value\n",
    "print(\"Root Mean Squared Error (RMSE) Value : \", math.sqrt(mean_squared_error(y_test, predicted_model)))"
   ]
  },
  {
   "cell_type": "code",
   "execution_count": 104,
   "metadata": {},
   "outputs": [
    {
     "data": {
      "text/html": [
       "<div>\n",
       "<style scoped>\n",
       "    .dataframe tbody tr th:only-of-type {\n",
       "        vertical-align: middle;\n",
       "    }\n",
       "\n",
       "    .dataframe tbody tr th {\n",
       "        vertical-align: top;\n",
       "    }\n",
       "\n",
       "    .dataframe thead th {\n",
       "        text-align: right;\n",
       "    }\n",
       "</style>\n",
       "<table border=\"1\" class=\"dataframe\">\n",
       "  <thead>\n",
       "    <tr style=\"text-align: right;\">\n",
       "      <th></th>\n",
       "      <th>Distance_to_sc</th>\n",
       "      <th>travel_min_to_CBD</th>\n",
       "      <th>Distance_to_hospital</th>\n",
       "    </tr>\n",
       "  </thead>\n",
       "  <tbody>\n",
       "    <tr>\n",
       "      <th>count</th>\n",
       "      <td>3.346562e+06</td>\n",
       "      <td>3.346562e+06</td>\n",
       "      <td>3.346562e+06</td>\n",
       "    </tr>\n",
       "    <tr>\n",
       "      <th>mean</th>\n",
       "      <td>2.452747e+00</td>\n",
       "      <td>3.190144e+01</td>\n",
       "      <td>2.135016e+00</td>\n",
       "    </tr>\n",
       "    <tr>\n",
       "      <th>std</th>\n",
       "      <td>1.344631e+00</td>\n",
       "      <td>1.323753e+01</td>\n",
       "      <td>1.775434e+00</td>\n",
       "    </tr>\n",
       "    <tr>\n",
       "      <th>min</th>\n",
       "      <td>1.037000e-01</td>\n",
       "      <td>0.000000e+00</td>\n",
       "      <td>4.740000e-02</td>\n",
       "    </tr>\n",
       "    <tr>\n",
       "      <th>25%</th>\n",
       "      <td>1.415900e+00</td>\n",
       "      <td>2.180000e+01</td>\n",
       "      <td>9.445000e-01</td>\n",
       "    </tr>\n",
       "    <tr>\n",
       "      <th>50%</th>\n",
       "      <td>2.166500e+00</td>\n",
       "      <td>3.341667e+01</td>\n",
       "      <td>1.636000e+00</td>\n",
       "    </tr>\n",
       "    <tr>\n",
       "      <th>75%</th>\n",
       "      <td>3.321200e+00</td>\n",
       "      <td>4.042857e+01</td>\n",
       "      <td>2.635600e+00</td>\n",
       "    </tr>\n",
       "    <tr>\n",
       "      <th>max</th>\n",
       "      <td>5.959700e+00</td>\n",
       "      <td>6.000000e+01</td>\n",
       "      <td>9.369100e+00</td>\n",
       "    </tr>\n",
       "  </tbody>\n",
       "</table>\n",
       "</div>"
      ],
      "text/plain": [
       "       Distance_to_sc  travel_min_to_CBD  Distance_to_hospital\n",
       "count    3.346562e+06       3.346562e+06          3.346562e+06\n",
       "mean     2.452747e+00       3.190144e+01          2.135016e+00\n",
       "std      1.344631e+00       1.323753e+01          1.775434e+00\n",
       "min      1.037000e-01       0.000000e+00          4.740000e-02\n",
       "25%      1.415900e+00       2.180000e+01          9.445000e-01\n",
       "50%      2.166500e+00       3.341667e+01          1.636000e+00\n",
       "75%      3.321200e+00       4.042857e+01          2.635600e+00\n",
       "max      5.959700e+00       6.000000e+01          9.369100e+00"
      ]
     },
     "execution_count": 104,
     "metadata": {},
     "output_type": "execute_result"
    }
   ],
   "source": [
    "# In order to view the different statistics of the predictors \n",
    "predictors.describe()"
   ]
  },
  {
   "cell_type": "markdown",
   "metadata": {},
   "source": [
    "### 2.3.1 Data Transformation (Log, Power and Box-Cox) <a class=\"anchor\" id=\"sec_231\"></a>\n",
    "\n",
    "* Data transformation revolves around re-expressing data so that it's present in a form which is more suitable for analysis.\n",
    "* Following are the advantages of this transformation:\n",
    "    * It improves Data Visualisation\n",
    "    * Data can be interpreted in a better manner.\n",
    "    * It solves the problem of any skewness in the data.\n",
    "    \n",
    "* In this section, we plot the various predictors and then apply log, power and box-plot transformations on them.\n",
    "* We then plot the variables both before and after transformation."
   ]
  },
  {
   "cell_type": "markdown",
   "metadata": {},
   "source": [
    "#### Log Transformation \n",
    "* This makes any highly skewed data less skewed!"
   ]
  },
  {
   "cell_type": "markdown",
   "metadata": {},
   "source": [
    "**Predictor 1 : Distance_to_sc**"
   ]
  },
  {
   "cell_type": "code",
   "execution_count": 105,
   "metadata": {},
   "outputs": [
    {
     "data": {
      "text/plain": [
       "(array([176692., 523680., 586908., 655347., 381613., 357394., 215078.,\n",
       "        208529., 139279., 102042.]),\n",
       " array([0.1037, 0.6893, 1.2749, 1.8605, 2.4461, 3.0317, 3.6173, 4.2029,\n",
       "        4.7885, 5.3741, 5.9597]),\n",
       " <a list of 10 Patch objects>)"
      ]
     },
     "execution_count": 105,
     "metadata": {},
     "output_type": "execute_result"
    },
    {
     "data": {
      "image/png": "[encoded data removed]",
      "text/plain": [
       "<Figure size 432x288 with 1 Axes>"
      ]
     },
     "metadata": {
      "needs_background": "light"
     },
     "output_type": "display_data"
    }
   ],
   "source": [
    "# Histogram of predictor 1 : Distance_to_sc\n",
    "plt.hist(predictors['Distance_to_sc'])"
   ]
  },
  {
   "cell_type": "markdown",
   "metadata": {},
   "source": [
    "**Observations:**\n",
    "\n",
    "* This data looks skewed to the left.\n",
    "* Now, one of the main assumptions of Linear Regression is that the features have to be normally distributed!\n",
    "* Thus we apply **LOG TRANSFORMATION** to make it normal."
   ]
  },
  {
   "cell_type": "code",
   "execution_count": 106,
   "metadata": {},
   "outputs": [
    {
     "name": "stderr",
     "output_type": "stream",
     "text": [
      "C:\\Users\\Gayatri Aniruddha\\Anaconda3\\lib\\site-packages\\ipykernel_launcher.py:2: SettingWithCopyWarning: \n",
      "A value is trying to be set on a copy of a slice from a DataFrame.\n",
      "Try using .loc[row_indexer,col_indexer] = value instead\n",
      "\n",
      "See the caveats in the documentation: https://pandas.pydata.org/pandas-docs/stable/user_guide/indexing.html#returning-a-view-versus-a-copy\n",
      "  \n"
     ]
    }
   ],
   "source": [
    "# Applying a log transformation \n",
    "predictors['Distance_to_sc_log'] = predictors['Distance_to_sc'].apply(math.log)"
   ]
  },
  {
   "cell_type": "code",
   "execution_count": 107,
   "metadata": {},
   "outputs": [
    {
     "data": {
      "text/plain": [
       "(array([  3426.,   5898.,  22065.,  79733., 138538., 359676., 577360.,\n",
       "        926789., 701928., 531149.]),\n",
       " array([-2.26625316, -1.86112583, -1.4559985 , -1.05087117, -0.64574384,\n",
       "        -0.24061651,  0.16451082,  0.56963815,  0.97476548,  1.37989281,\n",
       "         1.78502014]),\n",
       " <a list of 10 Patch objects>)"
      ]
     },
     "execution_count": 107,
     "metadata": {},
     "output_type": "execute_result"
    },
    {
     "data": {
      "image/png": "[encoded data removed]",
      "text/plain": [
       "<Figure size 432x288 with 1 Axes>"
      ]
     },
     "metadata": {
      "needs_background": "light"
     },
     "output_type": "display_data"
    }
   ],
   "source": [
    "# Histogram of predictor 1 : Distance_to_sc after log transformation \n",
    "plt.hist(predictors['Distance_to_sc_log'])"
   ]
  },
  {
   "cell_type": "markdown",
   "metadata": {},
   "source": [
    "**Predictor 2 : Distance_to_hospital**"
   ]
  },
  {
   "cell_type": "code",
   "execution_count": 108,
   "metadata": {},
   "outputs": [
    {
     "data": {
      "text/plain": [
       "(array([ 886692., 1081767.,  644313.,  247240.,  158374.,  141669.,\n",
       "          41716.,   49877.,   56967.,   37947.]),\n",
       " array([0.0474 , 0.97957, 1.91174, 2.84391, 3.77608, 4.70825, 5.64042,\n",
       "        6.57259, 7.50476, 8.43693, 9.3691 ]),\n",
       " <a list of 10 Patch objects>)"
      ]
     },
     "execution_count": 108,
     "metadata": {},
     "output_type": "execute_result"
    },
    {
     "data": {
      "image/png": "[encoded data removed]",
      "text/plain": [
       "<Figure size 432x288 with 1 Axes>"
      ]
     },
     "metadata": {
      "needs_background": "light"
     },
     "output_type": "display_data"
    }
   ],
   "source": [
    "plt.hist(predictors['Distance_to_hospital'])"
   ]
  },
  {
   "cell_type": "markdown",
   "metadata": {},
   "source": [
    "**Observations:**\n",
    "* Thus, similar to the above, this is also slighlt skewed to the left.\n",
    "* Hence, we apply a log transformation on this one too!"
   ]
  },
  {
   "cell_type": "code",
   "execution_count": 109,
   "metadata": {},
   "outputs": [
    {
     "name": "stderr",
     "output_type": "stream",
     "text": [
      "C:\\Users\\Gayatri Aniruddha\\Anaconda3\\lib\\site-packages\\ipykernel_launcher.py:2: SettingWithCopyWarning: \n",
      "A value is trying to be set on a copy of a slice from a DataFrame.\n",
      "Try using .loc[row_indexer,col_indexer] = value instead\n",
      "\n",
      "See the caveats in the documentation: https://pandas.pydata.org/pandas-docs/stable/user_guide/indexing.html#returning-a-view-versus-a-copy\n",
      "  \n"
     ]
    }
   ],
   "source": [
    "# Applying a log transformation \n",
    "predictors['Distance_to_hospital_log'] = predictors['Distance_to_hospital'].apply(math.log)"
   ]
  },
  {
   "cell_type": "code",
   "execution_count": 110,
   "metadata": {},
   "outputs": [
    {
     "data": {
      "text/plain": [
       "(array([  3498.,   9777.,  42717.,  99639., 367395., 557604., 891737.,\n",
       "        782934., 394973., 196288.]),\n",
       " array([-3.04913305, -2.52047804, -1.99182303, -1.46316802, -0.93451301,\n",
       "        -0.405858  ,  0.122797  ,  0.65145201,  1.18010702,  1.70876203,\n",
       "         2.23741704]),\n",
       " <a list of 10 Patch objects>)"
      ]
     },
     "execution_count": 110,
     "metadata": {},
     "output_type": "execute_result"
    },
    {
     "data": {
      "image/png": "[encoded data removed]",
      "text/plain": [
       "<Figure size 432x288 with 1 Axes>"
      ]
     },
     "metadata": {
      "needs_background": "light"
     },
     "output_type": "display_data"
    }
   ],
   "source": [
    "# Plotting after the transformation\n",
    "plt.hist(predictors['Distance_to_hospital_log'])"
   ]
  },
  {
   "cell_type": "markdown",
   "metadata": {},
   "source": [
    "**Predictor 3 : travel_min_to_CBD**"
   ]
  },
  {
   "cell_type": "code",
   "execution_count": 111,
   "metadata": {},
   "outputs": [
    {
     "data": {
      "text/plain": [
       "(array([ 35700., 271187., 223667., 468269., 387840., 569063., 664252.,\n",
       "        341368., 159628., 225588.]),\n",
       " array([ 0.,  6., 12., 18., 24., 30., 36., 42., 48., 54., 60.]),\n",
       " <a list of 10 Patch objects>)"
      ]
     },
     "execution_count": 111,
     "metadata": {},
     "output_type": "execute_result"
    },
    {
     "data": {
      "image/png": "[encoded data removed]",
      "text/plain": [
       "<Figure size 432x288 with 1 Axes>"
      ]
     },
     "metadata": {
      "needs_background": "light"
     },
     "output_type": "display_data"
    }
   ],
   "source": [
    "# Plotting the histogram on the original data \n",
    "plt.hist(predictors['travel_min_to_CBD'])"
   ]
  },
  {
   "cell_type": "markdown",
   "metadata": {},
   "source": [
    "**Observations:**\n",
    "\n",
    "* This distribution looks almost Normal.\n",
    "* Hence, we can do some scaling to it!"
   ]
  },
  {
   "cell_type": "code",
   "execution_count": 112,
   "metadata": {},
   "outputs": [
    {
     "name": "stderr",
     "output_type": "stream",
     "text": [
      "C:\\Users\\Gayatri Aniruddha\\Anaconda3\\lib\\site-packages\\ipykernel_launcher.py:3: SettingWithCopyWarning: \n",
      "A value is trying to be set on a copy of a slice from a DataFrame.\n",
      "Try using .loc[row_indexer,col_indexer] = value instead\n",
      "\n",
      "See the caveats in the documentation: https://pandas.pydata.org/pandas-docs/stable/user_guide/indexing.html#returning-a-view-versus-a-copy\n",
      "  This is separate from the ipykernel package so we can avoid doing imports until\n"
     ]
    }
   ],
   "source": [
    "# Assingning a min max value of 1, 10 \n",
    "scaler = preprocessing.MinMaxScaler(feature_range =(1, 10))\n",
    "predictors['travel_min_to_CBD_minmax'] = scaler.fit_transform(predictors[['travel_min_to_CBD']])"
   ]
  },
  {
   "cell_type": "code",
   "execution_count": 113,
   "metadata": {},
   "outputs": [
    {
     "data": {
      "text/plain": [
       "(<matplotlib.axes._subplots.AxesSubplot at 0x28b04ea0908>,\n",
       " <matplotlib.axes._subplots.AxesSubplot at 0x28b04ea0908>)"
      ]
     },
     "execution_count": 113,
     "metadata": {},
     "output_type": "execute_result"
    },
    {
     "data": {
      "image/png": "[encoded data removed]",
      "text/plain": [
       "<Figure size 432x288 with 1 Axes>"
      ]
     },
     "metadata": {
      "needs_background": "light"
     },
     "output_type": "display_data"
    }
   ],
   "source": [
    "# Plotting both the original data and min-max data \n",
    "predictors[\"travel_min_to_CBD\"].plot(), predictors[\"travel_min_to_CBD_minmax\"].plot()"
   ]
  },
  {
   "cell_type": "code",
   "execution_count": 114,
   "metadata": {},
   "outputs": [
    {
     "name": "stdout",
     "output_type": "stream",
     "text": [
      "R-squared Value :  0.08006149558368458\n",
      "Mean Squared Error (MSE) Value :  28481465580256.375\n",
      "Root Mean Squared Error (RMSE) Value :  5336802.936239671\n"
     ]
    }
   ],
   "source": [
    "# Initializing the linear regression variable \n",
    "lm = LinearRegression()\n",
    "\n",
    "# Splitting the final integrated data into training and testing data \n",
    "# test_size : 25% of the data proportion to be used as test sample \n",
    "# random_state : In order to control the random number generated. Popular seeds are 0 and 42\n",
    "x_train, x_test, y_train, y_test = train_test_split(predictors[['travel_min_to_CBD','Distance_to_sc_log','Distance_to_hospital_log']], data_df['price'], test_size = 0.25, random_state = 50)\n",
    "\n",
    "# Using the training data to fit the linear model \n",
    "lm.fit(x_train, y_train)\n",
    "\n",
    "# Using the trained model to predict the model on the test data \n",
    "predicted_model = lm.predict(x_test)\n",
    "\n",
    "# Generating the R-Squared value \n",
    "print(\"R-squared Value : \", lm.score(x_test, y_test))\n",
    "\n",
    "# Generating the Mean Squared Error value\n",
    "print(\"Mean Squared Error (MSE) Value : \", mean_squared_error(y_test, predicted_model))\n",
    "\n",
    "# Generating the Root Mean Squared Error value\n",
    "print(\"Root Mean Squared Error (RMSE) Value : \", math.sqrt(mean_squared_error(y_test, predicted_model)))"
   ]
  },
  {
   "cell_type": "markdown",
   "metadata": {},
   "source": [
    "**Observations:**\n",
    "\n",
    "* Thus, after applying the log-transformations, the R-Suared value has slightly increased.\n",
    "* At the same time, we have been able to reduce the Mean Squared and Root Mean Squared Error values."
   ]
  },
  {
   "cell_type": "markdown",
   "metadata": {},
   "source": [
    "### Power Transformation\n",
    "* This follows the idea that we transform both the target and predictor variables using some functions."
   ]
  },
  {
   "cell_type": "code",
   "execution_count": 115,
   "metadata": {},
   "outputs": [
    {
     "name": "stderr",
     "output_type": "stream",
     "text": [
      "C:\\Users\\Gayatri Aniruddha\\Anaconda3\\lib\\site-packages\\ipykernel_launcher.py:2: SettingWithCopyWarning: \n",
      "A value is trying to be set on a copy of a slice from a DataFrame.\n",
      "Try using .loc[row_indexer,col_indexer] = value instead\n",
      "\n",
      "See the caveats in the documentation: https://pandas.pydata.org/pandas-docs/stable/user_guide/indexing.html#returning-a-view-versus-a-copy\n",
      "  \n",
      "C:\\Users\\Gayatri Aniruddha\\Anaconda3\\lib\\site-packages\\ipykernel_launcher.py:3: SettingWithCopyWarning: \n",
      "A value is trying to be set on a copy of a slice from a DataFrame.\n",
      "Try using .loc[row_indexer,col_indexer] = value instead\n",
      "\n",
      "See the caveats in the documentation: https://pandas.pydata.org/pandas-docs/stable/user_guide/indexing.html#returning-a-view-versus-a-copy\n",
      "  This is separate from the ipykernel package so we can avoid doing imports until\n",
      "C:\\Users\\Gayatri Aniruddha\\Anaconda3\\lib\\site-packages\\ipykernel_launcher.py:4: SettingWithCopyWarning: \n",
      "A value is trying to be set on a copy of a slice from a DataFrame.\n",
      "Try using .loc[row_indexer,col_indexer] = value instead\n",
      "\n",
      "See the caveats in the documentation: https://pandas.pydata.org/pandas-docs/stable/user_guide/indexing.html#returning-a-view-versus-a-copy\n",
      "  after removing the cwd from sys.path.\n"
     ]
    }
   ],
   "source": [
    "# Applying the power raised to 2 transformations \n",
    "predictors['Distance_to_sc_power'] = np.power(predictors.Distance_to_sc,2)\n",
    "predictors['Distance_to_hospital_power'] = np.power(predictors.Distance_to_hospital,2)\n",
    "predictors['travel_min_to_CBD_power'] = np.power(predictors.travel_min_to_CBD,2)"
   ]
  },
  {
   "cell_type": "code",
   "execution_count": 116,
   "metadata": {},
   "outputs": [
    {
     "name": "stdout",
     "output_type": "stream",
     "text": [
      "R-squared Value :  0.08530446526649615\n",
      "Mean Squared Error (MSE) Value :  28319142272945.664\n",
      "Root Mean Squared Error (RMSE) Value :  5321573.289258136\n"
     ]
    }
   ],
   "source": [
    "# Initializing the linear regression variable \n",
    "lm = LinearRegression()\n",
    "\n",
    "# Splitting the final integrated data into training and testing data \n",
    "# test_size : 25% of the data proportion to be used as test sample \n",
    "# random_state : In order to control the random number generated. Popular seeds are 0 and 42\n",
    "x_train, x_test, y_train, y_test = train_test_split(predictors[['travel_min_to_CBD_power','Distance_to_sc_power','Distance_to_hospital_power']], data_df['price'], test_size = 0.25, random_state = 50)\n",
    "\n",
    "# Using the training data to fit the linear model \n",
    "lm.fit(x_train, y_train)\n",
    "\n",
    "# Using the trained model to predict the model on the test data \n",
    "predicted_model = lm.predict(x_test)\n",
    "\n",
    "# Generating the R-Squared value \n",
    "print(\"R-squared Value : \", lm.score(x_test, y_test))\n",
    "\n",
    "# Generating the Mean Squared Error value\n",
    "print(\"Mean Squared Error (MSE) Value : \", mean_squared_error(y_test, predicted_model))\n",
    "\n",
    "# Generating the Root Mean Squared Error value\n",
    "print(\"Root Mean Squared Error (RMSE) Value : \", math.sqrt(mean_squared_error(y_test, predicted_model)))"
   ]
  },
  {
   "cell_type": "markdown",
   "metadata": {},
   "source": [
    "### Box-Cox Transformation\n",
    "* This transforms the continuous variables into an almost normal distribution!"
   ]
  },
  {
   "cell_type": "code",
   "execution_count": 118,
   "metadata": {},
   "outputs": [
    {
     "name": "stderr",
     "output_type": "stream",
     "text": [
      "C:\\Users\\Gayatri Aniruddha\\Anaconda3\\lib\\site-packages\\ipykernel_launcher.py:2: SettingWithCopyWarning: \n",
      "A value is trying to be set on a copy of a slice from a DataFrame.\n",
      "Try using .loc[row_indexer,col_indexer] = value instead\n",
      "\n",
      "See the caveats in the documentation: https://pandas.pydata.org/pandas-docs/stable/user_guide/indexing.html#returning-a-view-versus-a-copy\n",
      "  \n",
      "C:\\Users\\Gayatri Aniruddha\\Anaconda3\\lib\\site-packages\\ipykernel_launcher.py:3: SettingWithCopyWarning: \n",
      "A value is trying to be set on a copy of a slice from a DataFrame.\n",
      "Try using .loc[row_indexer,col_indexer] = value instead\n",
      "\n",
      "See the caveats in the documentation: https://pandas.pydata.org/pandas-docs/stable/user_guide/indexing.html#returning-a-view-versus-a-copy\n",
      "  This is separate from the ipykernel package so we can avoid doing imports until\n"
     ]
    }
   ],
   "source": [
    "# Applying the box-cox transformations \n",
    "predictors['Distance_to_sc_boxcox'],_ = stats.boxcox(predictors['Distance_to_sc'])\n",
    "predictors['Distance_to_hospital_boxcox'],_ = stats.boxcox(predictors['Distance_to_hospital'])\n",
    "#predictors['travel_min_to_CBD_boxcox'],_ = stats.boxcox(predictors['travel_min_to_CBD'])"
   ]
  },
  {
   "cell_type": "code",
   "execution_count": 120,
   "metadata": {},
   "outputs": [
    {
     "name": "stdout",
     "output_type": "stream",
     "text": [
      "R-squared Value :  0.08457854018613786\n",
      "Mean Squared Error (MSE) Value :  28341617047173.305\n",
      "Root Mean Squared Error (RMSE) Value :  5323684.536782144\n"
     ]
    }
   ],
   "source": [
    "# Initializing the linear regression variable \n",
    "lm = LinearRegression()\n",
    "\n",
    "# Splitting the final integrated data into training and testing data \n",
    "# test_size : 25% of the data proportion to be used as test sample \n",
    "# random_state : In order to control the random number generated. Popular seeds are 0 and 42\n",
    "x_train, x_test, y_train, y_test = train_test_split(predictors[['travel_min_to_CBD','Distance_to_sc_boxcox','Distance_to_hospital_boxcox']], data_df['price'], test_size = 0.25, random_state = 50)\n",
    "\n",
    "# Using the training data to fit the linear model \n",
    "lm.fit(x_train, y_train)\n",
    "\n",
    "# Using the trained model to predict the model on the test data \n",
    "predicted_model = lm.predict(x_test)\n",
    "\n",
    "# Generating the R-Squared value \n",
    "print(\"R-squared Value : \", lm.score(x_test, y_test))\n",
    "\n",
    "# Generating the Mean Squared Error value\n",
    "print(\"Mean Squared Error (MSE) Value : \", mean_squared_error(y_test, predicted_model))\n",
    "\n",
    "# Generating the Root Mean Squared Error value\n",
    "print(\"Root Mean Squared Error (RMSE) Value : \", math.sqrt(mean_squared_error(y_test, predicted_model)))"
   ]
  },
  {
   "cell_type": "markdown",
   "metadata": {},
   "source": [
    "### 2.3.2  Data Normalization :- Z Transform and Min-Max <a class=\"anchor\" id=\"sec_232\"></a>\n",
    "**Z-Score Normalization (standardization):**\n",
    "\n",
    "* Here, the focus is on shifting the distribution of the data.\n",
    "* We fix the data such that it's mean is 0 and standard deviation is 1\n",
    "* Thus, we aim to rescale the variables and features so that they have the properties of a standard normal distribution!\n",
    "* travel_min_to_CBD is measured on a different scale - minutes.\n",
    "* Distance_to_sc and Distance_to_hospital - Haversine Distance in km.\n"
   ]
  },
  {
   "cell_type": "code",
   "execution_count": 121,
   "metadata": {
    "scrolled": true
   },
   "outputs": [],
   "source": [
    "# Performing the z tranformation scaling \n",
    "std_scale = preprocessing.StandardScaler().fit(predictors[['Distance_to_sc', 'travel_min_to_CBD']])\n",
    "df_std = std_scale.transform(predictors[['Distance_to_sc', 'travel_min_to_CBD']]) # an array not a df"
   ]
  },
  {
   "cell_type": "code",
   "execution_count": 122,
   "metadata": {},
   "outputs": [
    {
     "name": "stderr",
     "output_type": "stream",
     "text": [
      "C:\\Users\\Gayatri Aniruddha\\Anaconda3\\lib\\site-packages\\ipykernel_launcher.py:2: SettingWithCopyWarning: \n",
      "A value is trying to be set on a copy of a slice from a DataFrame.\n",
      "Try using .loc[row_indexer,col_indexer] = value instead\n",
      "\n",
      "See the caveats in the documentation: https://pandas.pydata.org/pandas-docs/stable/user_guide/indexing.html#returning-a-view-versus-a-copy\n",
      "  \n",
      "C:\\Users\\Gayatri Aniruddha\\Anaconda3\\lib\\site-packages\\ipykernel_launcher.py:3: SettingWithCopyWarning: \n",
      "A value is trying to be set on a copy of a slice from a DataFrame.\n",
      "Try using .loc[row_indexer,col_indexer] = value instead\n",
      "\n",
      "See the caveats in the documentation: https://pandas.pydata.org/pandas-docs/stable/user_guide/indexing.html#returning-a-view-versus-a-copy\n",
      "  This is separate from the ipykernel package so we can avoid doing imports until\n"
     ]
    }
   ],
   "source": [
    "# Assigning the values to new generated columns \n",
    "predictors['Distance_to_sc_scaled'] = df_std[:,0] \n",
    "predictors['travel_min_to_CBD_scaled'] = df_std[:,1] "
   ]
  },
  {
   "cell_type": "code",
   "execution_count": 123,
   "metadata": {},
   "outputs": [
    {
     "data": {
      "text/html": [
       "<div>\n",
       "<style scoped>\n",
       "    .dataframe tbody tr th:only-of-type {\n",
       "        vertical-align: middle;\n",
       "    }\n",
       "\n",
       "    .dataframe tbody tr th {\n",
       "        vertical-align: top;\n",
       "    }\n",
       "\n",
       "    .dataframe thead th {\n",
       "        text-align: right;\n",
       "    }\n",
       "</style>\n",
       "<table border=\"1\" class=\"dataframe\">\n",
       "  <thead>\n",
       "    <tr style=\"text-align: right;\">\n",
       "      <th></th>\n",
       "      <th>Distance_to_sc</th>\n",
       "      <th>travel_min_to_CBD</th>\n",
       "      <th>Distance_to_hospital</th>\n",
       "      <th>Distance_to_sc_log</th>\n",
       "      <th>Distance_to_hospital_log</th>\n",
       "      <th>travel_min_to_CBD_minmax</th>\n",
       "      <th>Distance_to_sc_power</th>\n",
       "      <th>Distance_to_hospital_power</th>\n",
       "      <th>travel_min_to_CBD_power</th>\n",
       "      <th>Distance_to_sc_boxcox</th>\n",
       "      <th>Distance_to_hospital_boxcox</th>\n",
       "      <th>Distance_to_sc_scaled</th>\n",
       "      <th>travel_min_to_CBD_scaled</th>\n",
       "    </tr>\n",
       "  </thead>\n",
       "  <tbody>\n",
       "    <tr>\n",
       "      <th>count</th>\n",
       "      <td>3.346562e+06</td>\n",
       "      <td>3.346562e+06</td>\n",
       "      <td>3.346562e+06</td>\n",
       "      <td>3.346562e+06</td>\n",
       "      <td>3.346562e+06</td>\n",
       "      <td>3.346562e+06</td>\n",
       "      <td>3.346562e+06</td>\n",
       "      <td>3.346562e+06</td>\n",
       "      <td>3.346562e+06</td>\n",
       "      <td>3.346562e+06</td>\n",
       "      <td>3.346562e+06</td>\n",
       "      <td>3.346562e+06</td>\n",
       "      <td>3.346562e+06</td>\n",
       "    </tr>\n",
       "    <tr>\n",
       "      <th>mean</th>\n",
       "      <td>2.452747e+00</td>\n",
       "      <td>3.190144e+01</td>\n",
       "      <td>2.135016e+00</td>\n",
       "      <td>7.238818e-01</td>\n",
       "      <td>4.461817e-01</td>\n",
       "      <td>5.785215e+00</td>\n",
       "      <td>7.823998e+00</td>\n",
       "      <td>7.710456e+00</td>\n",
       "      <td>1.192934e+03</td>\n",
       "      <td>9.425086e-01</td>\n",
       "      <td>4.961172e-01</td>\n",
       "      <td>-8.517641e-14</td>\n",
       "      <td>-9.334876e-13</td>\n",
       "    </tr>\n",
       "    <tr>\n",
       "      <th>std</th>\n",
       "      <td>1.344631e+00</td>\n",
       "      <td>1.323753e+01</td>\n",
       "      <td>1.775434e+00</td>\n",
       "      <td>6.311831e-01</td>\n",
       "      <td>8.195484e-01</td>\n",
       "      <td>1.985629e+00</td>\n",
       "      <td>7.988077e+00</td>\n",
       "      <td>1.385939e+01</td>\n",
       "      <td>8.469531e+02</td>\n",
       "      <td>8.095454e-01</td>\n",
       "      <td>8.556510e-01</td>\n",
       "      <td>1.000000e+00</td>\n",
       "      <td>1.000000e+00</td>\n",
       "    </tr>\n",
       "    <tr>\n",
       "      <th>min</th>\n",
       "      <td>1.037000e-01</td>\n",
       "      <td>0.000000e+00</td>\n",
       "      <td>4.740000e-02</td>\n",
       "      <td>-2.266253e+00</td>\n",
       "      <td>-3.049133e+00</td>\n",
       "      <td>1.000000e+00</td>\n",
       "      <td>1.075369e-02</td>\n",
       "      <td>2.246760e-03</td>\n",
       "      <td>0.000000e+00</td>\n",
       "      <td>-1.488207e+00</td>\n",
       "      <td>-2.588515e+00</td>\n",
       "      <td>-1.746983e+00</td>\n",
       "      <td>-2.409924e+00</td>\n",
       "    </tr>\n",
       "    <tr>\n",
       "      <th>25%</th>\n",
       "      <td>1.415900e+00</td>\n",
       "      <td>2.180000e+01</td>\n",
       "      <td>9.445000e-01</td>\n",
       "      <td>3.477654e-01</td>\n",
       "      <td>-5.709959e-02</td>\n",
       "      <td>4.270000e+00</td>\n",
       "      <td>2.004773e+00</td>\n",
       "      <td>8.920803e-01</td>\n",
       "      <td>4.752400e+02</td>\n",
       "      <td>3.732057e-01</td>\n",
       "      <td>-5.691980e-02</td>\n",
       "      <td>-7.711013e-01</td>\n",
       "      <td>-7.630908e-01</td>\n",
       "    </tr>\n",
       "    <tr>\n",
       "      <th>50%</th>\n",
       "      <td>2.166500e+00</td>\n",
       "      <td>3.341667e+01</td>\n",
       "      <td>1.636000e+00</td>\n",
       "      <td>7.731130e-01</td>\n",
       "      <td>4.922542e-01</td>\n",
       "      <td>6.012500e+00</td>\n",
       "      <td>4.693722e+00</td>\n",
       "      <td>2.676496e+00</td>\n",
       "      <td>1.116674e+03</td>\n",
       "      <td>9.064928e-01</td>\n",
       "      <td>5.058911e-01</td>\n",
       "      <td>-2.128812e-01</td>\n",
       "      <td>1.144648e-01</td>\n",
       "    </tr>\n",
       "    <tr>\n",
       "      <th>75%</th>\n",
       "      <td>3.321200e+00</td>\n",
       "      <td>4.042857e+01</td>\n",
       "      <td>2.635600e+00</td>\n",
       "      <td>1.200326e+00</td>\n",
       "      <td>9.691109e-01</td>\n",
       "      <td>7.064286e+00</td>\n",
       "      <td>1.103037e+01</td>\n",
       "      <td>6.946387e+00</td>\n",
       "      <td>1.634469e+03</td>\n",
       "      <td>1.542074e+00</td>\n",
       "      <td>1.022915e+00</td>\n",
       "      <td>6.458675e-01</td>\n",
       "      <td>6.441638e-01</td>\n",
       "    </tr>\n",
       "    <tr>\n",
       "      <th>max</th>\n",
       "      <td>5.959700e+00</td>\n",
       "      <td>6.000000e+01</td>\n",
       "      <td>9.369100e+00</td>\n",
       "      <td>1.785020e+00</td>\n",
       "      <td>2.237417e+00</td>\n",
       "      <td>1.000000e+01</td>\n",
       "      <td>3.551802e+01</td>\n",
       "      <td>8.778003e+01</td>\n",
       "      <td>3.600000e+03</td>\n",
       "      <td>2.608945e+00</td>\n",
       "      <td>2.538345e+00</td>\n",
       "      <td>2.608116e+00</td>\n",
       "      <td>2.122644e+00</td>\n",
       "    </tr>\n",
       "  </tbody>\n",
       "</table>\n",
       "</div>"
      ],
      "text/plain": [
       "       Distance_to_sc  travel_min_to_CBD  Distance_to_hospital  \\\n",
       "count    3.346562e+06       3.346562e+06          3.346562e+06   \n",
       "mean     2.452747e+00       3.190144e+01          2.135016e+00   \n",
       "std      1.344631e+00       1.323753e+01          1.775434e+00   \n",
       "min      1.037000e-01       0.000000e+00          4.740000e-02   \n",
       "25%      1.415900e+00       2.180000e+01          9.445000e-01   \n",
       "50%      2.166500e+00       3.341667e+01          1.636000e+00   \n",
       "75%      3.321200e+00       4.042857e+01          2.635600e+00   \n",
       "max      5.959700e+00       6.000000e+01          9.369100e+00   \n",
       "\n",
       "       Distance_to_sc_log  Distance_to_hospital_log  travel_min_to_CBD_minmax  \\\n",
       "count        3.346562e+06              3.346562e+06              3.346562e+06   \n",
       "mean         7.238818e-01              4.461817e-01              5.785215e+00   \n",
       "std          6.311831e-01              8.195484e-01              1.985629e+00   \n",
       "min         -2.266253e+00             -3.049133e+00              1.000000e+00   \n",
       "25%          3.477654e-01             -5.709959e-02              4.270000e+00   \n",
       "50%          7.731130e-01              4.922542e-01              6.012500e+00   \n",
       "75%          1.200326e+00              9.691109e-01              7.064286e+00   \n",
       "max          1.785020e+00              2.237417e+00              1.000000e+01   \n",
       "\n",
       "       Distance_to_sc_power  Distance_to_hospital_power  \\\n",
       "count          3.346562e+06                3.346562e+06   \n",
       "mean           7.823998e+00                7.710456e+00   \n",
       "std            7.988077e+00                1.385939e+01   \n",
       "min            1.075369e-02                2.246760e-03   \n",
       "25%            2.004773e+00                8.920803e-01   \n",
       "50%            4.693722e+00                2.676496e+00   \n",
       "75%            1.103037e+01                6.946387e+00   \n",
       "max            3.551802e+01                8.778003e+01   \n",
       "\n",
       "       travel_min_to_CBD_power  Distance_to_sc_boxcox  \\\n",
       "count             3.346562e+06           3.346562e+06   \n",
       "mean              1.192934e+03           9.425086e-01   \n",
       "std               8.469531e+02           8.095454e-01   \n",
       "min               0.000000e+00          -1.488207e+00   \n",
       "25%               4.752400e+02           3.732057e-01   \n",
       "50%               1.116674e+03           9.064928e-01   \n",
       "75%               1.634469e+03           1.542074e+00   \n",
       "max               3.600000e+03           2.608945e+00   \n",
       "\n",
       "       Distance_to_hospital_boxcox  Distance_to_sc_scaled  \\\n",
       "count                 3.346562e+06           3.346562e+06   \n",
       "mean                  4.961172e-01          -8.517641e-14   \n",
       "std                   8.556510e-01           1.000000e+00   \n",
       "min                  -2.588515e+00          -1.746983e+00   \n",
       "25%                  -5.691980e-02          -7.711013e-01   \n",
       "50%                   5.058911e-01          -2.128812e-01   \n",
       "75%                   1.022915e+00           6.458675e-01   \n",
       "max                   2.538345e+00           2.608116e+00   \n",
       "\n",
       "       travel_min_to_CBD_scaled  \n",
       "count              3.346562e+06  \n",
       "mean              -9.334876e-13  \n",
       "std                1.000000e+00  \n",
       "min               -2.409924e+00  \n",
       "25%               -7.630908e-01  \n",
       "50%                1.144648e-01  \n",
       "75%                6.441638e-01  \n",
       "max                2.122644e+00  "
      ]
     },
     "execution_count": 123,
     "metadata": {},
     "output_type": "execute_result"
    }
   ],
   "source": [
    "predictors.describe()"
   ]
  },
  {
   "cell_type": "markdown",
   "metadata": {},
   "source": [
    "**Mean and Standard Deviation Values:**"
   ]
  },
  {
   "cell_type": "code",
   "execution_count": 124,
   "metadata": {},
   "outputs": [
    {
     "name": "stdout",
     "output_type": "stream",
     "text": [
      "Mean after standardisation\n",
      "Distance_to_sc = -0.00, travel_min_to_CBD = 0.00\n",
      "\n",
      "\n",
      "Standard deviation after standardisation:\n",
      "Distance_to_sc = 1.00, travel_min_to_CBD = 1.00\n"
     ]
    }
   ],
   "source": [
    "# Printing out the mean value after Standardisation\n",
    "print(\"Mean after standardisation\")\n",
    "print(\"Distance_to_sc = {:.2f}, travel_min_to_CBD = {:.2f}\"\n",
    "      .format(df_std[:,0].mean(), df_std[:,1].mean()))\n",
    "\n",
    "print(\"\\n\")\n",
    "# Printing out the standard deviation value after Standardisation\n",
    "print(\"Standard deviation after standardisation:\")\n",
    "print(\"Distance_to_sc = {:.2f}, travel_min_to_CBD = {:.2f}\"\n",
    "      .format(df_std[:,0].std(), df_std[:,1].std()))"
   ]
  },
  {
   "cell_type": "markdown",
   "metadata": {},
   "source": [
    "**Observations:**\n",
    "* Thus, we can see that the values of mean and standard deviation after the z transformation are 0 and 1 respectively!"
   ]
  },
  {
   "cell_type": "code",
   "execution_count": 125,
   "metadata": {},
   "outputs": [],
   "source": [
    "%matplotlib inline"
   ]
  },
  {
   "cell_type": "markdown",
   "metadata": {},
   "source": [
    "**Data before Normalization:**"
   ]
  },
  {
   "cell_type": "code",
   "execution_count": 126,
   "metadata": {},
   "outputs": [
    {
     "data": {
      "text/plain": [
       "(<matplotlib.axes._subplots.AxesSubplot at 0x28b04f1cdd8>,\n",
       " <matplotlib.axes._subplots.AxesSubplot at 0x28b04f1cdd8>)"
      ]
     },
     "execution_count": 126,
     "metadata": {},
     "output_type": "execute_result"
    },
    {
     "data": {
      "image/png": "[encoded data removed]",
      "text/plain": [
       "<Figure size 432x288 with 1 Axes>"
      ]
     },
     "metadata": {
      "needs_background": "light"
     },
     "output_type": "display_data"
    }
   ],
   "source": [
    "# Plotting the data before Normalisation \n",
    "predictors[\"Distance_to_sc\"].plot(), predictors[\"travel_min_to_CBD\"].plot()"
   ]
  },
  {
   "cell_type": "markdown",
   "metadata": {},
   "source": [
    "**Data after Normalization:**\n",
    "* Here, we observe the range and the centre of the distribution for the new features which have been standardised.\n",
    "* Thus from the two plots we can see that the original and the standardised data are in the same shape but are shifted!"
   ]
  },
  {
   "cell_type": "code",
   "execution_count": 127,
   "metadata": {},
   "outputs": [
    {
     "data": {
      "text/plain": [
       "(<matplotlib.axes._subplots.AxesSubplot at 0x28b050f9978>,\n",
       " <matplotlib.axes._subplots.AxesSubplot at 0x28b050f9978>)"
      ]
     },
     "execution_count": 127,
     "metadata": {},
     "output_type": "execute_result"
    },
    {
     "data": {
      "image/png": "[encoded data removed]",
      "text/plain": [
       "<Figure size 432x288 with 1 Axes>"
      ]
     },
     "metadata": {
      "needs_background": "light"
     },
     "output_type": "display_data"
    }
   ],
   "source": [
    "# Plotting the scaled data \n",
    "predictors[\"Distance_to_sc_scaled\"].plot(), predictors[\"travel_min_to_CBD_scaled\"].plot()"
   ]
  },
  {
   "cell_type": "code",
   "execution_count": 128,
   "metadata": {},
   "outputs": [
    {
     "data": {
      "text/plain": [
       "(<matplotlib.axes._subplots.AxesSubplot at 0x28b051557f0>,\n",
       " <matplotlib.axes._subplots.AxesSubplot at 0x28b051557f0>)"
      ]
     },
     "execution_count": 128,
     "metadata": {},
     "output_type": "execute_result"
    },
    {
     "data": {
      "image/png": "[encoded data removed]",
      "text/plain": [
       "<Figure size 432x288 with 1 Axes>"
      ]
     },
     "metadata": {
      "needs_background": "light"
     },
     "output_type": "display_data"
    }
   ],
   "source": [
    "# Plotting the scaled and original data to compare\n",
    "predictors[\"Distance_to_sc_scaled\"].plot(), predictors[\"Distance_to_sc\"].plot()"
   ]
  },
  {
   "cell_type": "code",
   "execution_count": 129,
   "metadata": {},
   "outputs": [
    {
     "data": {
      "text/plain": [
       "(<matplotlib.axes._subplots.AxesSubplot at 0x28b0519e438>,\n",
       " <matplotlib.axes._subplots.AxesSubplot at 0x28b0519e438>)"
      ]
     },
     "execution_count": 129,
     "metadata": {},
     "output_type": "execute_result"
    },
    {
     "data": {
      "image/png": "[encoded data removed]",
      "text/plain": [
       "<Figure size 432x288 with 1 Axes>"
      ]
     },
     "metadata": {
      "needs_background": "light"
     },
     "output_type": "display_data"
    }
   ],
   "source": [
    "# Plotting the scaled and original data to compare\n",
    "predictors[\"travel_min_to_CBD_scaled\"].plot(), predictors[\"travel_min_to_CBD\"].plot()"
   ]
  },
  {
   "cell_type": "markdown",
   "metadata": {},
   "source": [
    "**Z-Tranformations: One predictor at a time!**\n",
    "\n",
    "* From the above viualisations, we can see the behaviour of the parameters when we take them two at a time.\n",
    "* We would now be considering them one at a time!"
   ]
  },
  {
   "cell_type": "code",
   "execution_count": 130,
   "metadata": {},
   "outputs": [
    {
     "name": "stderr",
     "output_type": "stream",
     "text": [
      "C:\\Users\\Gayatri Aniruddha\\Anaconda3\\lib\\site-packages\\ipykernel_launcher.py:4: SettingWithCopyWarning: \n",
      "A value is trying to be set on a copy of a slice from a DataFrame.\n",
      "Try using .loc[row_indexer,col_indexer] = value instead\n",
      "\n",
      "See the caveats in the documentation: https://pandas.pydata.org/pandas-docs/stable/user_guide/indexing.html#returning-a-view-versus-a-copy\n",
      "  after removing the cwd from sys.path.\n"
     ]
    }
   ],
   "source": [
    "# Z_tranform on Distance_to_sc\n",
    "std_scale = preprocessing.StandardScaler().fit(predictors[['Distance_to_sc']])\n",
    "df_std = std_scale.transform(predictors[['Distance_to_sc']])\n",
    "predictors['Distance_to_sc_z_transform'] = df_std[:,0]"
   ]
  },
  {
   "cell_type": "code",
   "execution_count": 131,
   "metadata": {},
   "outputs": [
    {
     "name": "stderr",
     "output_type": "stream",
     "text": [
      "C:\\Users\\Gayatri Aniruddha\\Anaconda3\\lib\\site-packages\\ipykernel_launcher.py:4: SettingWithCopyWarning: \n",
      "A value is trying to be set on a copy of a slice from a DataFrame.\n",
      "Try using .loc[row_indexer,col_indexer] = value instead\n",
      "\n",
      "See the caveats in the documentation: https://pandas.pydata.org/pandas-docs/stable/user_guide/indexing.html#returning-a-view-versus-a-copy\n",
      "  after removing the cwd from sys.path.\n"
     ]
    }
   ],
   "source": [
    "# Z_tranform on Distance_to_hospital\n",
    "std_scale = preprocessing.StandardScaler().fit(predictors[['Distance_to_hospital']])\n",
    "df_std = std_scale.transform(predictors[['Distance_to_hospital']])\n",
    "predictors['Distance_to_hospital_z_transform'] = df_std[:,0]"
   ]
  },
  {
   "cell_type": "code",
   "execution_count": 132,
   "metadata": {},
   "outputs": [
    {
     "name": "stderr",
     "output_type": "stream",
     "text": [
      "C:\\Users\\Gayatri Aniruddha\\Anaconda3\\lib\\site-packages\\ipykernel_launcher.py:4: SettingWithCopyWarning: \n",
      "A value is trying to be set on a copy of a slice from a DataFrame.\n",
      "Try using .loc[row_indexer,col_indexer] = value instead\n",
      "\n",
      "See the caveats in the documentation: https://pandas.pydata.org/pandas-docs/stable/user_guide/indexing.html#returning-a-view-versus-a-copy\n",
      "  after removing the cwd from sys.path.\n"
     ]
    }
   ],
   "source": [
    "# Z_tranform on travel_min_to_CBD\n",
    "std_scale = preprocessing.StandardScaler().fit(predictors[['travel_min_to_CBD']])\n",
    "df_std = std_scale.transform(predictors[['travel_min_to_CBD']])\n",
    "predictors['travel_min_to_CBD_z_transform'] = df_std[:,0]"
   ]
  },
  {
   "cell_type": "code",
   "execution_count": 133,
   "metadata": {},
   "outputs": [
    {
     "data": {
      "text/plain": [
       "(<matplotlib.axes._subplots.AxesSubplot at 0x28b052295c0>,\n",
       " <matplotlib.axes._subplots.AxesSubplot at 0x28b052295c0>)"
      ]
     },
     "execution_count": 133,
     "metadata": {},
     "output_type": "execute_result"
    },
    {
     "data": {
      "image/png": "[encoded data removed]",
      "text/plain": [
       "<Figure size 432x288 with 1 Axes>"
      ]
     },
     "metadata": {
      "needs_background": "light"
     },
     "output_type": "display_data"
    }
   ],
   "source": [
    "# Plotting the z_transformed data for Distance_to_sc\n",
    "predictors[\"Distance_to_sc_z_transform\"].plot(), predictors[\"Distance_to_sc\"].plot()"
   ]
  },
  {
   "cell_type": "code",
   "execution_count": 134,
   "metadata": {},
   "outputs": [
    {
     "data": {
      "text/plain": [
       "(<matplotlib.axes._subplots.AxesSubplot at 0x28b053fca20>,\n",
       " <matplotlib.axes._subplots.AxesSubplot at 0x28b053fca20>)"
      ]
     },
     "execution_count": 134,
     "metadata": {},
     "output_type": "execute_result"
    },
    {
     "data": {
      "image/png": "[encoded data removed]",
      "text/plain": [
       "<Figure size 432x288 with 1 Axes>"
      ]
     },
     "metadata": {
      "needs_background": "light"
     },
     "output_type": "display_data"
    }
   ],
   "source": [
    "# Plotting the z_transformed data to Distance_to_hospital \n",
    "predictors[\"Distance_to_hospital_z_transform\"].plot(), predictors[\"Distance_to_hospital\"].plot()"
   ]
  },
  {
   "cell_type": "code",
   "execution_count": 135,
   "metadata": {},
   "outputs": [
    {
     "data": {
      "text/plain": [
       "(<matplotlib.axes._subplots.AxesSubplot at 0x28b05461be0>,\n",
       " <matplotlib.axes._subplots.AxesSubplot at 0x28b05461be0>)"
      ]
     },
     "execution_count": 135,
     "metadata": {},
     "output_type": "execute_result"
    },
    {
     "data": {
      "image/png": "[encoded data removed]",
      "text/plain": [
       "<Figure size 432x288 with 1 Axes>"
      ]
     },
     "metadata": {
      "needs_background": "light"
     },
     "output_type": "display_data"
    }
   ],
   "source": [
    "# Plotting the z_transformed data for travel_min_to_CBD\n",
    "predictors[\"travel_min_to_CBD_z_transform\"].plot(), predictors[\"travel_min_to_CBD\"].plot()"
   ]
  },
  {
   "cell_type": "markdown",
   "metadata": {},
   "source": [
    "### 2. MinMax Normalisation:\n",
    "\n",
    "* In Min-Max Normalisation, we rescale the features or variables such that their values come in a specific range.\n"
   ]
  },
  {
   "cell_type": "code",
   "execution_count": 136,
   "metadata": {},
   "outputs": [],
   "source": [
    "# Generating the min_max versions condidering two variables at a time \n",
    "minmax_scale = preprocessing.MinMaxScaler().fit(predictors[['Distance_to_sc', 'travel_min_to_CBD']])\n",
    "df_minmax = minmax_scale.transform(predictors[['Distance_to_sc', 'travel_min_to_CBD']]) "
   ]
  },
  {
   "cell_type": "code",
   "execution_count": 141,
   "metadata": {},
   "outputs": [
    {
     "name": "stdout",
     "output_type": "stream",
     "text": [
      " Min-value after min-max scaling:\n",
      " Distance_to_sc = 0.00, travel_min_to_CBD = 0.00\n",
      "\n",
      "\n",
      " Max-value after min-max scaling:\n",
      " Distance_to_sc = 1.00, travel_min_to_CBD = 1.00\n"
     ]
    }
   ],
   "source": [
    "print(\" Min-value after min-max scaling:\")\n",
    "print(\" Distance_to_sc = {:.2f}, travel_min_to_CBD = {:.2f}\"\n",
    "      .format(df_minmax[:,0].min(), df_minmax[:,1].min()))\n",
    "\n",
    "print(\"\\n\")\n",
    "\n",
    "print(\" Max-value after min-max scaling:\")\n",
    "print(\" Distance_to_sc = {:.2f}, travel_min_to_CBD = {:.2f}\"\n",
    "      .format(df_minmax[:,0].max(), df_minmax[:,1].max()))"
   ]
  },
  {
   "cell_type": "markdown",
   "metadata": {},
   "source": [
    "**Observations:**\n",
    "\n",
    "* Thus, we can see that the mean and standard deviation values have been normalised!\n",
    "* They have taken the values of 0 and 1 respectively."
   ]
  },
  {
   "cell_type": "markdown",
   "metadata": {},
   "source": [
    "* Thus, we can see that the Minimum and Maximum values after scaling are 0 and 1 respectively."
   ]
  },
  {
   "cell_type": "markdown",
   "metadata": {},
   "source": [
    "**Min_Max Tranformations: One Variable at a time!**"
   ]
  },
  {
   "cell_type": "code",
   "execution_count": 142,
   "metadata": {},
   "outputs": [
    {
     "name": "stderr",
     "output_type": "stream",
     "text": [
      "C:\\Users\\Gayatri Aniruddha\\Anaconda3\\lib\\site-packages\\ipykernel_launcher.py:4: SettingWithCopyWarning: \n",
      "A value is trying to be set on a copy of a slice from a DataFrame.\n",
      "Try using .loc[row_indexer,col_indexer] = value instead\n",
      "\n",
      "See the caveats in the documentation: https://pandas.pydata.org/pandas-docs/stable/user_guide/indexing.html#returning-a-view-versus-a-copy\n",
      "  after removing the cwd from sys.path.\n"
     ]
    }
   ],
   "source": [
    "# Performing the min-max normalisation for Distance_to_sc\n",
    "minmax_scale = preprocessing.MinMaxScaler().fit(predictors[['Distance_to_sc']])\n",
    "df_minmax = minmax_scale.transform(predictors[['Distance_to_sc']]) \n",
    "predictors['Distance_to_sc_minmax'] = df_minmax[:,0]"
   ]
  },
  {
   "cell_type": "code",
   "execution_count": 143,
   "metadata": {},
   "outputs": [
    {
     "name": "stderr",
     "output_type": "stream",
     "text": [
      "C:\\Users\\Gayatri Aniruddha\\Anaconda3\\lib\\site-packages\\ipykernel_launcher.py:4: SettingWithCopyWarning: \n",
      "A value is trying to be set on a copy of a slice from a DataFrame.\n",
      "Try using .loc[row_indexer,col_indexer] = value instead\n",
      "\n",
      "See the caveats in the documentation: https://pandas.pydata.org/pandas-docs/stable/user_guide/indexing.html#returning-a-view-versus-a-copy\n",
      "  after removing the cwd from sys.path.\n"
     ]
    }
   ],
   "source": [
    "# Performing the min-max normalisation for Distance_to_hospital \n",
    "minmax_scale = preprocessing.MinMaxScaler().fit(predictors[['Distance_to_hospital']])\n",
    "df_minmax = minmax_scale.transform(predictors[['Distance_to_hospital']]) \n",
    "predictors['Distance_to_hospital_minmax'] = df_minmax[:,0]"
   ]
  },
  {
   "cell_type": "code",
   "execution_count": 144,
   "metadata": {
    "scrolled": false
   },
   "outputs": [
    {
     "name": "stderr",
     "output_type": "stream",
     "text": [
      "C:\\Users\\Gayatri Aniruddha\\Anaconda3\\lib\\site-packages\\ipykernel_launcher.py:4: SettingWithCopyWarning: \n",
      "A value is trying to be set on a copy of a slice from a DataFrame.\n",
      "Try using .loc[row_indexer,col_indexer] = value instead\n",
      "\n",
      "See the caveats in the documentation: https://pandas.pydata.org/pandas-docs/stable/user_guide/indexing.html#returning-a-view-versus-a-copy\n",
      "  after removing the cwd from sys.path.\n"
     ]
    }
   ],
   "source": [
    "# Performing the min-max normalisation for travel_min_to_CBD \n",
    "minmax_scale = preprocessing.MinMaxScaler().fit(predictors[['travel_min_to_CBD']])\n",
    "df_minmax = minmax_scale.transform(predictors[['travel_min_to_CBD']]) \n",
    "predictors['travel_min_to_CBD_minmax'] = df_minmax[:,0]"
   ]
  },
  {
   "cell_type": "code",
   "execution_count": 145,
   "metadata": {},
   "outputs": [
    {
     "data": {
      "text/plain": [
       "(<matplotlib.axes._subplots.AxesSubplot at 0x28b3defcd30>,\n",
       " <matplotlib.axes._subplots.AxesSubplot at 0x28b3defcd30>)"
      ]
     },
     "execution_count": 145,
     "metadata": {},
     "output_type": "execute_result"
    },
    {
     "data": {
      "image/png": "[encoded data removed]",
      "text/plain": [
       "<Figure size 432x288 with 1 Axes>"
      ]
     },
     "metadata": {
      "needs_background": "light"
     },
     "output_type": "display_data"
    }
   ],
   "source": [
    "# Plotting the minmax_transformed data for travel_min_to_CBD\n",
    "predictors[\"travel_min_to_CBD_minmax\"].plot(), predictors[\"travel_min_to_CBD\"].plot()"
   ]
  },
  {
   "cell_type": "code",
   "execution_count": 146,
   "metadata": {},
   "outputs": [
    {
     "data": {
      "text/plain": [
       "(<matplotlib.axes._subplots.AxesSubplot at 0x28b05abc518>,\n",
       " <matplotlib.axes._subplots.AxesSubplot at 0x28b05abc518>)"
      ]
     },
     "execution_count": 146,
     "metadata": {},
     "output_type": "execute_result"
    },
    {
     "data": {
      "image/png": "[encoded data removed]",
      "text/plain": [
       "<Figure size 432x288 with 1 Axes>"
      ]
     },
     "metadata": {
      "needs_background": "light"
     },
     "output_type": "display_data"
    }
   ],
   "source": [
    "# Plotting the minmax_transformed data for Distance_to_sc\n",
    "predictors[\"Distance_to_sc_minmax\"].plot(), predictors[\"Distance_to_sc\"].plot()"
   ]
  },
  {
   "cell_type": "code",
   "execution_count": 147,
   "metadata": {},
   "outputs": [
    {
     "data": {
      "text/plain": [
       "(<matplotlib.axes._subplots.AxesSubplot at 0x28b05b2d240>,\n",
       " <matplotlib.axes._subplots.AxesSubplot at 0x28b05b2d240>)"
      ]
     },
     "execution_count": 147,
     "metadata": {},
     "output_type": "execute_result"
    },
    {
     "data": {
      "image/png": "[encoded data removed]",
      "text/plain": [
       "<Figure size 432x288 with 1 Axes>"
      ]
     },
     "metadata": {
      "needs_background": "light"
     },
     "output_type": "display_data"
    }
   ],
   "source": [
    "# Plotting the minmax_transformed data for Distance_to_hospital\n",
    "predictors[\"Distance_to_hospital_minmax\"].plot(), predictors[\"Distance_to_hospital\"].plot()"
   ]
  },
  {
   "cell_type": "markdown",
   "metadata": {},
   "source": [
    "# 3. Discussion and Analysis <a class=\"anchor\" id=\"sec_3\"> </a>"
   ]
  },
  {
   "cell_type": "markdown",
   "metadata": {},
   "source": [
    "**For Task 1:**\n",
    "\n",
    "After performing the various tasks associated with task 1, I have come to the following analysis and discussions:\n",
    "* Performing this task of reading and integrating data was really insightful. We are seldom given datasets which are present in the same format. We are often given different data, in different formats and specifications. \n",
    "* It was comparatively easier to extract and read the data stored in json, html, excel and pdf formats. However, it took significant amount of time to read in the xml data and shape files data using regular expressions and shape files!\n",
    "* Similarly, using the learnings of assignment 2, it was relatively easier to perform the task of distance calculation in order to calculate the nearest supermarket, shopping center, hospital and train-station.\n",
    "* However, I had to spend quite a lot of time in order to merge the various Melbourne Train Information datasets, to calculate if there was a direct transfer between a given station and Flinders Street Railway Station. \n",
    "\n",
    "**For Task 2:**\n",
    "\n",
    "After performing the various tasks associated with task 2, I have come to the following analysis and discussions:\n",
    "* We were given three predictor variables and one target variable and we had to make a linear model using all sorts of normalisations and transformations possible!\n",
    "* The difficult part was to understand which transformations had to be applied to which predictors in order to make their relationship more and more linear!\n",
    "* Thus, I realised the importance of these Data Tranformations.\n",
    "    * Data after transformations became more suitable for analysis.\n",
    "    * It was able to improve the data visualizations.\n",
    "    * It was also successful in fixing the skewness of the data.\n",
    "    * It also improved the readability and interpretability of the data\n",
    "* The log-transformation was able to make really highly skewed data, less skewed. Hence, this helps in meeting the statistical assumptions!\n",
    "* Finally, after applying these transformations, viewing the visualizations and normalizing the data, we were able to reduced the errors and increase the R Squared values!"
   ]
  },
  {
   "cell_type": "markdown",
   "metadata": {},
   "source": [
    "# 4. Conclusion <a class=\"anchor\" id=\"sec_4\"></a>"
   ]
  },
  {
   "cell_type": "markdown",
   "metadata": {},
   "source": [
    "**In Conclusion, for TASK 1, we were able to perform the following activities as per the document specification**\n",
    "* Thus, we were able to successfully read in all our different data files such as the json data, xml data, html data, pdf data, and excel data as follows!\n",
    "    * **json data** using read_json function \n",
    "    * **xml data** using regular expressions \n",
    "    * **html data** using read_html function\n",
    "    * **pdf data** using tabula \n",
    "    * **excel data** using read_excel function \n",
    "\n",
    "* We were even able to properly integrate the various files into one integrated format.\n",
    "\n",
    "* Additionally, we were even able to successfully compute the required additional columns of:\n",
    "    * Suburb in which the property is present \n",
    "    * Distance to the nearest shopping center\n",
    "    * Nearest shopping center ID\n",
    "    * Distance to the nearest hospital \n",
    "    * Nearest hospital ID\n",
    "    * Distance to the nearest supermarket \n",
    "    * Nearest supermarket ID\n",
    "    * Distance to the nearest train-station \n",
    "    * Nearest train-station ID\n",
    "    * Minimum time taken to reach the CBD \n",
    "    * Transfer Flag indicating if there is a direct route \n",
    "\n",
    "**In Conclusion, for TASK 2, we were able to perform the following activities as per the document specification**\n",
    "* We have successfully understood and the learnt the linear behaviour of the predictors on the target variable!\n",
    "* Thus, we have been able to successfully able to first get an idea of the predictors without any normalizations or transformations. \n",
    "* We were able to split the data-set intro training and testing datasets and compute the various statistical values. \n",
    "* Then, we were even able to perform the various transformations such as log, power and box-cox on the predictors.\n",
    "* We were even able to visulize the effects of these transformations by plotting plots before and after the required three transformations!\n",
    "* We observed that on performing these transformations, we were able to:\n",
    "    * **INCREASE THE VALUE OF R-SQUARED**\n",
    "    * **DECREASE THE VALUE OF THE Mean Squared and Root Mean Squared Error.**\n",
    "* Furthermore, we even perfomed z-transformation and min-max transformations on our predictor values.\n",
    "* We have even been able to visualize these effects before and after performing these normalizations!"
   ]
  },
  {
   "cell_type": "markdown",
   "metadata": {},
   "source": [
    "# 5. References <a class=\"anchor\" id=\"sec_5\"></a>\n"
   ]
  },
  {
   "cell_type": "markdown",
   "metadata": {},
   "source": [
    "* Devin Jeanpierre(2009, March 5). How do I sort a dictionary by value? \\\n",
    "Retrieved from: https://stackoverflow.com/questions/613183/how-do-i-sort-a-dictionary-by-value\n",
    "\n",
    "\n",
    "* Andrew(2019, August 21). You should (usually) log transform your positive data \\\n",
    "Retrived from: https://statmodeling.stat.columbia.edu/2019/08/21/you-should-usually-log-transform-your-positive-data/\n",
    "\n",
    "\n",
    "* Bruno Scibilia(2015, March 30). How Could You Benefit from a Box-Cox Transformation? \\\n",
    "Retrived from: https://blog.minitab.com/blog/applying-statistics-in-quality-projects/how-could-you-benefit-from-a-box-cox-transformation\n",
    "\n",
    "\n",
    "* Serafeim Loukas(2020, May 28). Everything you need to know about Min-Max normalization: A Python tutorial \\\n",
    "Retrived from: https://towardsdatascience.com/everything-you-need-to-know-about-min-max-normalization-in-python-b79592732b79\n",
    "\n",
    "\n",
    "* Dario Radecic(2020, April 14). Here’s How To Calculate Distance Between 2 Geolocations in Python \\\n",
    "Retrived from: https://towardsdatascience.com/heres-how-to-calculate-distance-between-2-geolocations-in-python-93ecab5bbba4"
   ]
  },
  {
   "cell_type": "code",
   "execution_count": null,
   "metadata": {},
   "outputs": [],
   "source": []
  }
 ],
 "metadata": {
  "kernelspec": {
   "display_name": "Python 3",
   "language": "python",
   "name": "python3"
  },
  "language_info": {
   "codemirror_mode": {
    "name": "ipython",
    "version": 3
   },
   "file_extension": ".py",
   "mimetype": "text/x-python",
   "name": "python",
   "nbconvert_exporter": "python",
   "pygments_lexer": "ipython3",
   "version": "3.7.3"
  }
 },
 "nbformat": 4,
 "nbformat_minor": 2
}
